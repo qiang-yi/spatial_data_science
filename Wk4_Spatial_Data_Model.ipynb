{
 "cells": [
  {
   "cell_type": "markdown",
   "metadata": {
    "slideshow": {
     "slide_type": "slide"
    }
   },
   "source": [
    "## Spatial Data Science (GIS6307/GEO4930)\n",
    "\n",
    "---\n",
    "\n",
    "# Week 4: Vector and Raster Model\n",
    "\n",
    "\n",
    "<br>\n",
    "Instructor: Yi Qiang (qiangy@usf.edu)<br>"
   ]
  },
  {
   "cell_type": "markdown",
   "metadata": {},
   "source": [
    "---"
   ]
  },
  {
   "cell_type": "markdown",
   "metadata": {},
   "source": [
    "## 1. Install GeoPandas and Rasterio\n",
    "Please follow [this instruction](https://github.com/qiang-yi/spatial_data_science/blob/main/other/new_env.ipynb) to set up an new environment and install GeoPandas and Rasterio. After the installation, please close this notebook and launch Jupyter Notebook from the \"geo\" environment to work on this lab."
   ]
  },
  {
   "cell_type": "code",
   "execution_count": null,
   "metadata": {},
   "outputs": [],
   "source": [
    "import geopandas as gpd\n",
    "import rasterio as rio"
   ]
  },
  {
   "cell_type": "markdown",
   "metadata": {},
   "source": [
    "## 2. Vector Data\n",
    "\n",
    "### 2.1 Importing a shapefile to geodataframe"
   ]
  },
  {
   "cell_type": "markdown",
   "metadata": {},
   "source": [
    "Create a folder 'other' in the folder of your jupyter notebook. Then, download the zip file from this [link](https://usf.box.com/s/od9g9cnot83ymqw0y375i4xestqv4lsi). \n",
    "\n",
    "The zip file contains a shapefile 'conus.shp', which consists of multiple files with the same file name but different suffixes. These files store different information of the vector data.\n",
    "\n",
    "First, print files in the \"other\" folder. All files with a name \"conus\" are components of the shapefile."
   ]
  },
  {
   "cell_type": "code",
   "execution_count": null,
   "metadata": {},
   "outputs": [],
   "source": [
    "import glob\n",
    "glob.glob(\"other/*\")"
   ]
  },
  {
   "cell_type": "markdown",
   "metadata": {},
   "source": [
    "Read the shapefile into a geodataframe, and preview the geodataframe."
   ]
  },
  {
   "cell_type": "code",
   "execution_count": null,
   "metadata": {},
   "outputs": [],
   "source": [
    "us = gpd.read_file(\"other/conus.shp\") \n",
    "\n",
    "us.head()"
   ]
  },
  {
   "cell_type": "markdown",
   "metadata": {},
   "source": [
    "You may notice that the geodataframe is actually a Pandas DataFrame + a column of geometry . The geometry contains coordinates (latitude and longitude) of polygons/multipolygons.\n",
    "\n",
    "Plot the shapefile in a map"
   ]
  },
  {
   "cell_type": "code",
   "execution_count": null,
   "metadata": {},
   "outputs": [],
   "source": [
    "us.plot()"
   ]
  },
  {
   "cell_type": "markdown",
   "metadata": {},
   "source": [
    "If you feel the figure is too small, you can change the default plot size to make the map larger"
   ]
  },
  {
   "cell_type": "code",
   "execution_count": null,
   "metadata": {},
   "outputs": [],
   "source": [
    "# import matplotlib\n",
    "import matplotlib.pyplot as plt\n",
    "\n",
    "# change the default figure size to 10 inches by 10 inches\n",
    "plt.rcParams['figure.figsize'] = [10, 10]\n",
    "\n",
    "# plot the shapefile again\n",
    "us.plot()"
   ]
  },
  {
   "cell_type": "markdown",
   "metadata": {},
   "source": [
    "### 2.2 Project the geometries"
   ]
  },
  {
   "cell_type": "markdown",
   "metadata": {},
   "source": [
    "You may feel the Contiguous U.S. is a bit strange, as it is flattened than it is appeared in most U.S. maps."
   ]
  },
  {
   "cell_type": "markdown",
   "metadata": {},
   "source": [
    "You can use `.crs` attribute to check the projection of the data"
   ]
  },
  {
   "cell_type": "code",
   "execution_count": null,
   "metadata": {},
   "outputs": [],
   "source": [
    "us.crs"
   ]
  },
  {
   "cell_type": "markdown",
   "metadata": {},
   "source": [
    "The printed information shows that the shapefile is using a geographic coordinate system (latitude and longitude). The `EPSG:4269` is the unique ID of the coordinate system. There is no projection, meaning the geometries showing above are actually projected using latitude and longitude, which is wrong!"
   ]
  },
  {
   "cell_type": "markdown",
   "metadata": {},
   "source": [
    "We can use the `to_crs` function to project the geometries to the Albers Equal Area Conic projection (EPSG: 5070), which is the most common projection for a U.S. map."
   ]
  },
  {
   "cell_type": "code",
   "execution_count": null,
   "metadata": {},
   "outputs": [],
   "source": [
    "# Project geodataframe to the Albers equal area conic projection, and store the projected geodataframe in us2\n",
    "us2 = us.to_crs(5070)\n",
    "\n",
    "# preview us2\n",
    "us2.head()"
   ]
  },
  {
   "cell_type": "markdown",
   "metadata": {},
   "source": [
    "You may noticed that the coordinates in the geometry columns have changed to meters, meaning that the geometries are projected to the Albers equal area conic projection, using meter as the unit.\n",
    "\n",
    "Next, plot the geodataframe. You may have observed the difference compared to the unprojected one. The projected geometries look similar to official U.S. maps.\n",
    "\n",
    "Other than the Albers projection, you can project the geodataframe to any projection using the EPSG code."
   ]
  },
  {
   "cell_type": "code",
   "execution_count": null,
   "metadata": {},
   "outputs": [],
   "source": [
    "us2.plot()"
   ]
  },
  {
   "cell_type": "markdown",
   "metadata": {},
   "source": [
    "### 2.3 Creating choropleth maps"
   ]
  },
  {
   "cell_type": "markdown",
   "metadata": {},
   "source": [
    "You can easily create a choropleth map using values in the 'Population' column. The argument `cmap` defines the color scheme (Orange to Red). You can find more colors from [here](https://matplotlib.org/stable/tutorials/colors/colormaps.html)"
   ]
  },
  {
   "cell_type": "code",
   "execution_count": null,
   "metadata": {},
   "outputs": [],
   "source": [
    "# Create a choropleth map of state population \n",
    "\n",
    "us2.plot(column ='Population',cmap='OrRd')"
   ]
  },
  {
   "cell_type": "markdown",
   "metadata": {},
   "source": [
    "Larger states naturally have more people (larger population). That's why California, Texas and Florida stand out in the above map. But you may not feel lots of people when you actually live there, especially in some areas in Texas.\n",
    "\n",
    "Instead, population density indicates how \"crowded\" a state is. The population density of a state is the ratio of population (\"Population\") to land area of the state (\"ALAND\"). "
   ]
  },
  {
   "cell_type": "markdown",
   "metadata": {},
   "source": [
    "### Quiz 1: Please calculate population density of the states and store it in a new column \"Pop_density\"."
   ]
  },
  {
   "cell_type": "code",
   "execution_count": null,
   "metadata": {},
   "outputs": [],
   "source": [
    "# Population density = Population/ALAND\n",
    "us2[\"Pop_density\"] = ...\n",
    "\n",
    "# Preview the first five rows of us2\n",
    "us2.head()"
   ]
  },
  {
   "cell_type": "markdown",
   "metadata": {},
   "source": [
    "### Quiz 2: Please create a choropleth map to show population density in the states.\n",
    "\n",
    "Please refer to [this website](https://geopandas.org/en/stable/docs/user_guide/mapping.html) to learn more about the plot function. \n",
    "\n",
    "You may need to use \"fisher_jenks\" as the scheme to show more color gradient in the map."
   ]
  },
  {
   "cell_type": "code",
   "execution_count": null,
   "metadata": {},
   "outputs": [],
   "source": [
    "# Create a choropleth map of population density in states\n",
    "us2.plot(column ='Pop_density',cmap='OrRd', scheme='fisher_jenks')"
   ]
  },
  {
   "cell_type": "markdown",
   "metadata": {},
   "source": [
    "### 2.4 Query in GeoDataFrame"
   ]
  },
  {
   "cell_type": "markdown",
   "metadata": {},
   "source": [
    "A GeoDataFrame is an extension of a dataframe with geometries, meaning that you can use functions in pandas to manipulate GeoDataFrame. For example, you can do queries in a GeoDataFrame as you do it in a DataFrame.\n",
    "\n",
    "First, let's select Florida from the GeoDataFrame \"us2\" and show it in a plot."
   ]
  },
  {
   "cell_type": "code",
   "execution_count": null,
   "metadata": {},
   "outputs": [],
   "source": [
    "# Select the State of Florida and store it in fl\n",
    "fl = us2[...]\n",
    "\n",
    "# Plot \"fl\"\n",
    "fl.plot()"
   ]
  },
  {
   "cell_type": "markdown",
   "metadata": {},
   "source": [
    "The boundary of Florida is a bit tilted to the left. This is because the Albers Equal Area Conic projection is suitable for mapping the entire U.S., but is not suitable for local areas.\n",
    "\n",
    "### Quiz 3: Please project \"fl\" to the UTM 17N projection (EPSG: 32617), which is a projection that better fits Florida. Then plot the reprojected \"fl\"."
   ]
  },
  {
   "cell_type": "code",
   "execution_count": null,
   "metadata": {},
   "outputs": [],
   "source": [
    "# Repreject fl to EPSG:32617\n",
    "fl = ...\n",
    "\n",
    "# Plot fl again\n",
    "fl.plot()"
   ]
  },
  {
   "cell_type": "markdown",
   "metadata": {},
   "source": [
    "### Quiz 4: Please select states where population density is greater than Florida and plot the selected states in a map."
   ]
  },
  {
   "cell_type": "code",
   "execution_count": null,
   "metadata": {},
   "outputs": [],
   "source": [
    "# get population density of Florida\n",
    "fl_den = ...\n",
    "\n",
    "# plot states where population density is larger than Florida\n",
    "Hi_pop_states =...\n",
    "\n",
    "# Plot selected states \n",
    "Hi_pop_states.plot()"
   ]
  },
  {
   "cell_type": "markdown",
   "metadata": {},
   "source": [
    "## 3. Raster Data"
   ]
  },
  {
   "cell_type": "markdown",
   "metadata": {},
   "source": [
    "### 3.1 Read a raster"
   ]
  },
  {
   "cell_type": "markdown",
   "metadata": {},
   "source": [
    "Raster data is a georeferenced 2D array. The Rasterio library provides a suite of functions to read and manipulate raster data. Next, you will use Rasterio to read and analyze a Digital Elevation Model (DEM) of Hillsborough County. The DEM is a raster where pixel values are elevation (meter) above the sea level."
   ]
  },
  {
   "cell_type": "code",
   "execution_count": null,
   "metadata": {},
   "outputs": [],
   "source": [
    "# import rasterio and rasterio.plot\n",
    "import rasterio as rio\n",
    "import rasterio.plot as rio_pl\n",
    "\n",
    "# import numpy\n",
    "import numpy as np"
   ]
  },
  {
   "cell_type": "markdown",
   "metadata": {},
   "source": [
    "Read the raster file."
   ]
  },
  {
   "cell_type": "code",
   "execution_count": null,
   "metadata": {},
   "outputs": [],
   "source": [
    "# read the raster data in the other folder\n",
    "dem = rio.open(\"other/hill_dem.tif\")"
   ]
  },
  {
   "cell_type": "markdown",
   "metadata": {},
   "source": [
    "Plot the raster in a map"
   ]
  },
  {
   "cell_type": "code",
   "execution_count": null,
   "metadata": {},
   "outputs": [],
   "source": [
    "rio_pl.show(dem)"
   ]
  },
  {
   "cell_type": "markdown",
   "metadata": {},
   "source": [
    "Print the metadata of the raster."
   ]
  },
  {
   "cell_type": "code",
   "execution_count": null,
   "metadata": {},
   "outputs": [],
   "source": [
    "dem.profile"
   ]
  },
  {
   "cell_type": "markdown",
   "metadata": {},
   "source": [
    "The printed profile includes the following information:\n",
    "- driver: format of the raster file\n",
    "- dtype: data type of the raster\n",
    "- nodata: coding of no-data pixels\n",
    "- width: number of pixels in width\n",
    "- height: number of pixels in height\n",
    "- count: number of band\n",
    "- crs: projection\n",
    "- transform: Affine(pixel_width, rotation, top_left_x, rotation, -pixel_height, top_left_y)\n",
    "- blockxsize, blockysize & tiled: information about interal tiling\n",
    "- interleave: methods for encoding image"
   ]
  },
  {
   "cell_type": "markdown",
   "metadata": {},
   "source": [
    "As a raster is essentially a georeferenced 2D array, we can get a numpy array from the raster data."
   ]
  },
  {
   "cell_type": "code",
   "execution_count": null,
   "metadata": {},
   "outputs": [],
   "source": [
    "# Read Band 1 (the only band) of the raster\n",
    "array = dem.read(1)\n",
    "\n",
    "# Print the type of the array\n",
    "print(type(array))\n",
    "\n",
    "# print the shape of the array\n",
    "print(array.shape)"
   ]
  },
  {
   "cell_type": "markdown",
   "metadata": {},
   "source": [
    "### 3.2 Print the statistics of the raster"
   ]
  },
  {
   "cell_type": "markdown",
   "metadata": {},
   "source": [
    "Print maximum, minimum and mean elevation of the DEM"
   ]
  },
  {
   "cell_type": "code",
   "execution_count": null,
   "metadata": {},
   "outputs": [],
   "source": [
    "print(\"Maximum elevation: \"+ ...)\n",
    "print(\"Minimum elevation: \"+ ...)\n",
    "print(\"Mean elevation: \"+ ...)"
   ]
  },
  {
   "cell_type": "markdown",
   "metadata": {},
   "source": [
    "Do you think the statistics printed above make sense? Is there really a place in Hillsborough County is 128m (420 feet) high?\n",
    "\n",
    "As shown in the profile, no-data pixels in the raster are coded as 128. So the maximum values are actually the no-data pixels. To perform numerical analysis correctly, we need to mask out the pixels with a value 128. We will convert all no-data pixels to `numpy.ma.masked`"
   ]
  },
  {
   "cell_type": "code",
   "execution_count": null,
   "metadata": {},
   "outputs": [],
   "source": [
    "array[array==128] = np.ma.masked"
   ]
  },
  {
   "cell_type": "markdown",
   "metadata": {},
   "source": [
    "Print maximum, minimum and mean elevation of the DEM again"
   ]
  },
  {
   "cell_type": "code",
   "execution_count": null,
   "metadata": {},
   "outputs": [],
   "source": [
    "print(\"Maximum elevation: \"+ str(array.max()))\n",
    "print(\"Minimum elevation: \"+ str(array.min()))\n",
    "print(\"Mean elevation: \"+ str(array.mean()))"
   ]
  },
  {
   "cell_type": "markdown",
   "metadata": {},
   "source": [
    "### 3.3 Analyze the raster"
   ]
  },
  {
   "cell_type": "markdown",
   "metadata": {},
   "source": [
    "Next, we create a map to show only areas where the elevation is equal to or greater than 30m (100 feet). To do so, you need to mask the pixels where elevation is smaller than 30m."
   ]
  },
  {
   "cell_type": "code",
   "execution_count": null,
   "metadata": {},
   "outputs": [],
   "source": [
    "# Mask pixels where elevation is <30\n",
    "array[array<30] = np.ma.masked\n",
    "\n",
    "# Display the unmasked pixels (elevation >= 30)\n",
    "rio_pl.show(array)"
   ]
  },
  {
   "cell_type": "markdown",
   "metadata": {},
   "source": [
    "Low-lying coastal areas are at a high-risk of flooding and storm surge. Next, we will select areas where elevation is equal to or less than 1 meter and plot the areas in a map.\n",
    "\n",
    "### Quiz 5 (2pt): Please complete the following code to display areas where elevation is equal to or less than 1 meter."
   ]
  },
  {
   "cell_type": "code",
   "execution_count": null,
   "metadata": {},
   "outputs": [],
   "source": [
    "# Read the numpy array from Band 1 of the DEM\n",
    "array = dem.read(1)\n",
    "\n",
    "# Mask pixels where elevation is greater than 1\n",
    "array[array>1] = np.ma.masked\n",
    "\n",
    "# Displayed the unmasked pixels\n",
    "rio_pl.show(array,cmap='OrRd')"
   ]
  }
 ],
 "metadata": {
  "kernelspec": {
   "display_name": "Python 3",
   "language": "python",
   "name": "python3"
  },
  "language_info": {
   "codemirror_mode": {
    "name": "ipython",
    "version": 3
   },
   "file_extension": ".py",
   "mimetype": "text/x-python",
   "name": "python",
   "nbconvert_exporter": "python",
   "pygments_lexer": "ipython3",
   "version": "3.9.1"
  }
 },
 "nbformat": 4,
 "nbformat_minor": 4
}
