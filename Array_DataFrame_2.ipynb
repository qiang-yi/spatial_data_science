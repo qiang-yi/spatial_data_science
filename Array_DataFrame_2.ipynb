{
 "cells": [
  {
   "cell_type": "markdown",
   "metadata": {
    "nbpresent": {
     "id": "c6bfb25d-e7a8-4c64-a4b0-2addfae63bd0"
    },
    "slideshow": {
     "slide_type": "slide"
    }
   },
   "source": [
    "## Spatial Data Science (GEO6119)\n",
    "\n",
    "---\n",
    "\n",
    "# Lecture 3: Array and DataFrame II\n",
    "\n",
    "<br>\n",
    "Instructor: Yi Qiang (qiangy@usf.edu)<br>"
   ]
  },
  {
   "cell_type": "markdown",
   "metadata": {
    "slideshow": {
     "slide_type": "slide"
    }
   },
   "source": [
    "___\n",
    "\n",
    "# Recap of Last Class\n",
    "\n",
    "## Numpy Array\n",
    "- Array is a n-dimensional matrix that stores values of the same type.\n",
    "- An array can be in different shapes and sizes\n",
    "\n",
    "<img src=\"image/array.jpg\" width=\"400\" align=\"left\">"
   ]
  },
  {
   "cell_type": "markdown",
   "metadata": {
    "slideshow": {
     "slide_type": "slide"
    }
   },
   "source": [
    "# 1. Additional Array Manipulation\n",
    "## 1.1 Array Transposing\n",
    "\n",
    "<img src=\"image/wk3/transpose.png\" width=\"300\" align=\"left\">\n"
   ]
  },
  {
   "cell_type": "code",
   "execution_count": null,
   "metadata": {
    "slideshow": {
     "slide_type": "subslide"
    }
   },
   "outputs": [],
   "source": [
    "# Create a 3*5 array with random numbers\n",
    "import numpy as np\n",
    "a = np.random.rand(3,5)\n",
    "a"
   ]
  },
  {
   "cell_type": "code",
   "execution_count": null,
   "metadata": {
    "slideshow": {
     "slide_type": "fragment"
    }
   },
   "outputs": [],
   "source": [
    "# Transposing the array\n",
    "a.T"
   ]
  },
  {
   "cell_type": "code",
   "execution_count": null,
   "metadata": {
    "slideshow": {
     "slide_type": "fragment"
    }
   },
   "outputs": [],
   "source": [
    "# Transposing the array\n",
    "np.transpose(a)"
   ]
  },
  {
   "cell_type": "markdown",
   "metadata": {
    "slideshow": {
     "slide_type": "slide"
    }
   },
   "source": [
    "## 1.2 Changing Array Shape\n",
    "### Flatten an Array\n",
    "\n",
    "<img src=\"image/wk3/flatten.jpg\" width=\"300\" align=\"left\">\n"
   ]
  },
  {
   "cell_type": "code",
   "execution_count": null,
   "metadata": {
    "slideshow": {
     "slide_type": "subslide"
    }
   },
   "outputs": [],
   "source": [
    "# Print Array a\n",
    "a"
   ]
  },
  {
   "cell_type": "code",
   "execution_count": null,
   "metadata": {
    "slideshow": {
     "slide_type": "fragment"
    }
   },
   "outputs": [],
   "source": [
    "# Print the shape of a\n",
    "a.shape"
   ]
  },
  {
   "cell_type": "code",
   "execution_count": null,
   "metadata": {
    "slideshow": {
     "slide_type": "fragment"
    }
   },
   "outputs": [],
   "source": [
    "# Flatten a and store it in b\n",
    "b = a.ravel()\n",
    "\n",
    "# Print b\n",
    "b"
   ]
  },
  {
   "cell_type": "code",
   "execution_count": null,
   "metadata": {
    "slideshow": {
     "slide_type": "fragment"
    }
   },
   "outputs": [],
   "source": [
    "# Print the shape of b\n",
    "b.shape"
   ]
  },
  {
   "cell_type": "markdown",
   "metadata": {
    "slideshow": {
     "slide_type": "subslide"
    }
   },
   "source": [
    "### Reshape an array\n",
    "\n",
    "<img src=\"image/wk3/reshape.jpg\" width=\"150\" align=\"left\">\n"
   ]
  },
  {
   "cell_type": "code",
   "execution_count": null,
   "metadata": {},
   "outputs": [],
   "source": [
    "# print a, which is a 3*5 array\n",
    "a"
   ]
  },
  {
   "cell_type": "code",
   "execution_count": null,
   "metadata": {
    "scrolled": true,
    "slideshow": {
     "slide_type": "fragment"
    }
   },
   "outputs": [],
   "source": [
    "# Reshape to 5*3 array\n",
    "a.reshape(5,3)"
   ]
  },
  {
   "cell_type": "markdown",
   "metadata": {
    "slideshow": {
     "slide_type": "slide"
    }
   },
   "source": [
    "## 1.3 Editing Elements in Array\n",
    "### Edit element at a specific position"
   ]
  },
  {
   "cell_type": "code",
   "execution_count": null,
   "metadata": {
    "slideshow": {
     "slide_type": "subslide"
    }
   },
   "outputs": [],
   "source": [
    "# Create a 4*4 array of random value\n",
    "a = np.random.rand(4,4)\n",
    "a"
   ]
  },
  {
   "cell_type": "code",
   "execution_count": null,
   "metadata": {
    "slideshow": {
     "slide_type": "fragment"
    }
   },
   "outputs": [],
   "source": [
    "# Change the element in the 4th row and 3rd column to 1\n",
    "a[3,2] = 1\n",
    "a"
   ]
  },
  {
   "cell_type": "markdown",
   "metadata": {},
   "source": [
    "### Edit a subset of array (slicing)"
   ]
  },
  {
   "cell_type": "code",
   "execution_count": null,
   "metadata": {
    "slideshow": {
     "slide_type": "subslide"
    }
   },
   "outputs": [],
   "source": [
    "# Change all elements in the 3rd row to 2\n",
    "a[2,:] = 2\n",
    "a"
   ]
  },
  {
   "cell_type": "code",
   "execution_count": null,
   "metadata": {
    "slideshow": {
     "slide_type": "fragment"
    }
   },
   "outputs": [],
   "source": [
    "# Change elements from the 1st to the 3rd row, and from the 3rd to the 5th column\n",
    "a[0:3,2:5] = 3\n",
    "a"
   ]
  },
  {
   "cell_type": "markdown",
   "metadata": {
    "slideshow": {
     "slide_type": "slide"
    }
   },
   "source": [
    "## 1.4 Stacking Arrays"
   ]
  },
  {
   "cell_type": "markdown",
   "metadata": {
    "slideshow": {
     "slide_type": "fragment"
    }
   },
   "source": [
    "### Vertically stacking arrays\n",
    "\n",
    "<img src=\"image/wk3/vstack.png\" width=\"200\" align=\"left\">\n"
   ]
  },
  {
   "cell_type": "code",
   "execution_count": null,
   "metadata": {
    "slideshow": {
     "slide_type": "subslide"
    }
   },
   "outputs": [],
   "source": [
    "# Create an 3*5 array of zeros\n",
    "a = np.zeros((3,5))\n",
    "a"
   ]
  },
  {
   "cell_type": "code",
   "execution_count": null,
   "metadata": {
    "slideshow": {
     "slide_type": "fragment"
    }
   },
   "outputs": [],
   "source": [
    "# Create an 2*5 array of ones\n",
    "b = np.ones((2,5))\n",
    "b"
   ]
  },
  {
   "cell_type": "code",
   "execution_count": null,
   "metadata": {
    "slideshow": {
     "slide_type": "fragment"
    }
   },
   "outputs": [],
   "source": [
    "# Vertically stack a and b\n",
    "np.vstack((a,b))"
   ]
  },
  {
   "cell_type": "markdown",
   "metadata": {
    "slideshow": {
     "slide_type": "slide"
    }
   },
   "source": [
    "### horizontally stack arrays\n",
    "\n",
    "<img src=\"image/wk3/hstack.png\" width=\"100\" align=\"left\">\n"
   ]
  },
  {
   "cell_type": "code",
   "execution_count": null,
   "metadata": {
    "slideshow": {
     "slide_type": "subslide"
    }
   },
   "outputs": [],
   "source": [
    "a = np.zeros((3,5))\n",
    "a"
   ]
  },
  {
   "cell_type": "code",
   "execution_count": null,
   "metadata": {
    "slideshow": {
     "slide_type": "fragment"
    }
   },
   "outputs": [],
   "source": [
    "# Create a 3*2 array\n",
    "c = np.ones((3,2))\n",
    "c = c*3\n",
    "c"
   ]
  },
  {
   "cell_type": "code",
   "execution_count": null,
   "metadata": {
    "slideshow": {
     "slide_type": "fragment"
    }
   },
   "outputs": [],
   "source": [
    "# Horizontally stack a and c\n",
    "np.hstack((a,c))"
   ]
  },
  {
   "cell_type": "markdown",
   "metadata": {
    "slideshow": {
     "slide_type": "slide"
    }
   },
   "source": [
    "# 2. Pandas DataFrame\n",
    "- Designed for spreadsheets and tables\n",
    "\n",
    "<img src=\"image/dataframe.jpg\" width=\"600\" align=\"left\">"
   ]
  },
  {
   "cell_type": "code",
   "execution_count": null,
   "metadata": {
    "slideshow": {
     "slide_type": "subslide"
    }
   },
   "outputs": [],
   "source": [
    "import pandas as pd\n",
    "\n",
    "# Creating a dataframe by rows\n",
    "df1 = pd.DataFrame(\n",
    "    [['Martha', 87, 83,'A'],\n",
    "     ['Tim', 91, 99,'B'],\n",
    "     ['Rob', 97, 84,'B'],\n",
    "    ['Georgia',95, 76,'A']],\n",
    "    columns=['Name', 'Math', 'Science','Class'])\n",
    "df1"
   ]
  },
  {
   "cell_type": "code",
   "execution_count": null,
   "metadata": {
    "slideshow": {
     "slide_type": "subslide"
    }
   },
   "outputs": [],
   "source": [
    "# Creating a dataframe by columns\n",
    "dict = {'Name':['Martha', 'Tim', 'Rob', 'Georgia'],\n",
    "        'Math':[87, 91, 97, 95],\n",
    "        'Science':[83, 99, 84, 76],\n",
    "        'Class': ['A','B','B','A']\n",
    "       }\n",
    "\n",
    "df1 = pd.DataFrame(dict)\n",
    "df1"
   ]
  },
  {
   "cell_type": "markdown",
   "metadata": {
    "slideshow": {
     "slide_type": "slide"
    }
   },
   "source": [
    "## 2.1 Dropping and adding rows and columns"
   ]
  },
  {
   "cell_type": "markdown",
   "metadata": {
    "slideshow": {
     "slide_type": "subslide"
    }
   },
   "source": [
    "### Drop a row"
   ]
  },
  {
   "cell_type": "code",
   "execution_count": null,
   "metadata": {
    "slideshow": {
     "slide_type": "fragment"
    }
   },
   "outputs": [],
   "source": [
    "# Drop a row by index\n",
    "df1.drop(0)"
   ]
  },
  {
   "cell_type": "code",
   "execution_count": null,
   "metadata": {},
   "outputs": [],
   "source": [
    "df1[df1.Name == 'Martha'].index"
   ]
  },
  {
   "cell_type": "code",
   "execution_count": null,
   "metadata": {
    "slideshow": {
     "slide_type": "fragment"
    }
   },
   "outputs": [],
   "source": [
    "# Drop a row by query\n",
    "df1.drop(df1[df1.Name == 'Martha'].index)"
   ]
  },
  {
   "cell_type": "code",
   "execution_count": null,
   "metadata": {},
   "outputs": [],
   "source": [
    "# Update the df1 after dropping the row\n",
    "df1 = df1.drop(df1[df1.Name == 'Martha'].index)\n",
    "df1"
   ]
  },
  {
   "cell_type": "markdown",
   "metadata": {
    "slideshow": {
     "slide_type": "slide"
    }
   },
   "source": [
    "### Add a row"
   ]
  },
  {
   "cell_type": "code",
   "execution_count": null,
   "metadata": {
    "slideshow": {
     "slide_type": "fragment"
    }
   },
   "outputs": [],
   "source": [
    "# Print df1\n",
    "df1"
   ]
  },
  {
   "cell_type": "code",
   "execution_count": null,
   "metadata": {
    "slideshow": {
     "slide_type": "fragment"
    }
   },
   "outputs": [],
   "source": [
    "# Append a row at the end of a DataFrame\n",
    "dict = {'Name': 'Amy', 'Math': 89, 'Class':'A','Science':92}\n",
    "df1.append(dict, ignore_index = True)"
   ]
  },
  {
   "cell_type": "code",
   "execution_count": null,
   "metadata": {},
   "outputs": [],
   "source": [
    "# update df1 after append\n",
    "df1 = df1.append(dict, ignore_index = True)\n",
    "df1"
   ]
  },
  {
   "cell_type": "markdown",
   "metadata": {
    "slideshow": {
     "slide_type": "slide"
    }
   },
   "source": [
    "### Add a column"
   ]
  },
  {
   "cell_type": "markdown",
   "metadata": {
    "slideshow": {
     "slide_type": "subslide"
    }
   },
   "source": [
    "#### Add a column of the same value"
   ]
  },
  {
   "cell_type": "code",
   "execution_count": null,
   "metadata": {
    "slideshow": {
     "slide_type": "fragment"
    }
   },
   "outputs": [],
   "source": [
    "df1['School'] = 'Mckitrick'\n",
    "df1"
   ]
  },
  {
   "cell_type": "code",
   "execution_count": null,
   "metadata": {
    "scrolled": true,
    "slideshow": {
     "slide_type": "fragment"
    }
   },
   "outputs": [],
   "source": [
    "# Use .loc function to update values in selected row and column\n",
    "df1.loc[df1['Name'] == 'Tim','School'] = 'Hammond'\n",
    "df1"
   ]
  },
  {
   "cell_type": "markdown",
   "metadata": {
    "slideshow": {
     "slide_type": "slide"
    }
   },
   "source": [
    "### Drop a column"
   ]
  },
  {
   "cell_type": "code",
   "execution_count": null,
   "metadata": {
    "slideshow": {
     "slide_type": "subslide"
    }
   },
   "outputs": [],
   "source": [
    "# Drop the Math column\n",
    "df1.drop('Math',axis = 1)"
   ]
  },
  {
   "cell_type": "code",
   "execution_count": null,
   "metadata": {
    "slideshow": {
     "slide_type": "fragment"
    }
   },
   "outputs": [],
   "source": [
    "# Update df1 for the changes\n",
    "df1 = df1.drop(['Science','Class'],axis = 1)\n",
    "df1"
   ]
  },
  {
   "cell_type": "markdown",
   "metadata": {
    "slideshow": {
     "slide_type": "slide"
    }
   },
   "source": [
    "### Vertically concatenate DataFrames"
   ]
  },
  {
   "cell_type": "markdown",
   "metadata": {
    "slideshow": {
     "slide_type": "fragment"
    }
   },
   "source": [
    "<img src=\"image/wk3/v_concat.png\" width=\"250\" align=\"left\">"
   ]
  },
  {
   "cell_type": "code",
   "execution_count": null,
   "metadata": {},
   "outputs": [],
   "source": [
    "df1"
   ]
  },
  {
   "cell_type": "code",
   "execution_count": null,
   "metadata": {
    "slideshow": {
     "slide_type": "fragment"
    }
   },
   "outputs": [],
   "source": [
    "# Create a new dataframe\n",
    "dict = {'Name':['Dave', 'Jack', 'Elena'],\n",
    "        'Math':[79, 99, 87],\n",
    "        'School': ['Hammond','Lutz','Lutz']\n",
    "       }\n",
    "\n",
    "df2 = pd.DataFrame(dict)\n",
    "df2"
   ]
  },
  {
   "cell_type": "code",
   "execution_count": null,
   "metadata": {
    "slideshow": {
     "slide_type": "subslide"
    }
   },
   "outputs": [],
   "source": [
    "# Concatenate df1 and df2\n",
    "df1 = pd.concat([df1,df2]).reset_index(drop=True)\n",
    "df1"
   ]
  },
  {
   "cell_type": "markdown",
   "metadata": {
    "slideshow": {
     "slide_type": "slide"
    }
   },
   "source": [
    "### Horizontally concatenate DataFrames\n",
    "\n",
    "<img src=\"image/wk3/h_concate.jpg\" width=\"300\" align=\"left\">"
   ]
  },
  {
   "cell_type": "code",
   "execution_count": null,
   "metadata": {
    "slideshow": {
     "slide_type": "subslide"
    }
   },
   "outputs": [],
   "source": [
    "# Create a single column dataframe\n",
    "df3 = pd.DataFrame({'Science':[88,72,97,84,87,93,88]})\n",
    "df3"
   ]
  },
  {
   "cell_type": "code",
   "execution_count": null,
   "metadata": {
    "slideshow": {
     "slide_type": "fragment"
    }
   },
   "outputs": [],
   "source": [
    "# Horizontally concatenate df1 and df3\n",
    "pd.concat([df1,df3],axis = 1)"
   ]
  },
  {
   "cell_type": "markdown",
   "metadata": {
    "slideshow": {
     "slide_type": "slide"
    }
   },
   "source": [
    "## 2.3 More Manipulation of DataFrame"
   ]
  },
  {
   "cell_type": "code",
   "execution_count": null,
   "metadata": {
    "slideshow": {
     "slide_type": "fragment"
    }
   },
   "outputs": [],
   "source": [
    "# Load county level population data\n",
    "url = 'https://raw.githubusercontent.com/qiang-yi/spatial_data_science/main/other/county_pop.xlsx'\n",
    "df_pop = pd.read_excel(url)"
   ]
  },
  {
   "cell_type": "code",
   "execution_count": null,
   "metadata": {
    "scrolled": true,
    "slideshow": {
     "slide_type": "fragment"
    }
   },
   "outputs": [],
   "source": [
    "# Preview the dataframe\n",
    "df_pop.head()"
   ]
  },
  {
   "cell_type": "code",
   "execution_count": null,
   "metadata": {
    "slideshow": {
     "slide_type": "subslide"
    }
   },
   "outputs": [],
   "source": [
    "df_pop"
   ]
  },
  {
   "cell_type": "code",
   "execution_count": null,
   "metadata": {
    "slideshow": {
     "slide_type": "subslide"
    }
   },
   "outputs": [],
   "source": [
    "# Change the setting to print full dataframe\n",
    "pd.set_option(\"display.max_rows\", 20, \"display.max_columns\", 20)\n",
    "\n",
    "df_pop"
   ]
  },
  {
   "cell_type": "markdown",
   "metadata": {
    "slideshow": {
     "slide_type": "slide"
    }
   },
   "source": [
    "### Remove missing values"
   ]
  },
  {
   "cell_type": "code",
   "execution_count": null,
   "metadata": {
    "scrolled": true
   },
   "outputs": [],
   "source": [
    "df_pop.isna().any(axis=1)"
   ]
  },
  {
   "cell_type": "code",
   "execution_count": null,
   "metadata": {
    "slideshow": {
     "slide_type": "subslide"
    }
   },
   "outputs": [],
   "source": [
    "# Get all rows containing NaN\n",
    "df_pop[df_pop.isna().any(axis=1)]\n",
    "#df_pop[~(df_pop.isna().any(axis=1))]"
   ]
  },
  {
   "cell_type": "code",
   "execution_count": null,
   "metadata": {
    "slideshow": {
     "slide_type": "subslide"
    }
   },
   "outputs": [],
   "source": [
    "# Update df_pop to store the rows without NaN\n",
    "df_pop = df_pop[~(df_pop.isna().any(axis=1))]\n",
    "\n",
    "# df_pop.dropna(axis='row') also works\n",
    "\n",
    "df_pop"
   ]
  },
  {
   "cell_type": "code",
   "execution_count": null,
   "metadata": {
    "slideshow": {
     "slide_type": "slide"
    }
   },
   "outputs": [],
   "source": [
    "# Select records of Hillsborough County\n",
    "df_hill = df_pop[(df_pop['Area name'] == 'Orleans Parish') & (df_pop['State'] == 'LA')]\n",
    "df_hill"
   ]
  },
  {
   "cell_type": "code",
   "execution_count": null,
   "metadata": {
    "slideshow": {
     "slide_type": "subslide"
    }
   },
   "outputs": [],
   "source": [
    "# Get the last four column names and convert them to a list\n",
    "col_ls = list(df_hill.columns)[-4:]\n",
    "col_ls"
   ]
  },
  {
   "cell_type": "code",
   "execution_count": null,
   "metadata": {
    "scrolled": true,
    "slideshow": {
     "slide_type": "subslide"
    }
   },
   "outputs": [],
   "source": [
    "# Use 'melt' to convert a wide dataframe to a long one\n",
    "df_hill2 = df_hill.melt(value_vars = col_ls)\n",
    "df_hill2"
   ]
  },
  {
   "cell_type": "code",
   "execution_count": null,
   "metadata": {
    "slideshow": {
     "slide_type": "subslide"
    }
   },
   "outputs": [],
   "source": [
    "# Melt the dataframe with the variable and value names defined\n",
    "df_hill2 = df_hill.melt(value_vars=col_ls,var_name='Year',value_name = 'Population')\n",
    "df_hill2"
   ]
  },
  {
   "cell_type": "code",
   "execution_count": null,
   "metadata": {},
   "outputs": [],
   "source": [
    "# Remove Population in the Year column, and change the column to integer type\n",
    "\n",
    "df_hill2['Year'].str.replace('Population ','').astype(int)"
   ]
  },
  {
   "cell_type": "code",
   "execution_count": null,
   "metadata": {},
   "outputs": [],
   "source": [
    "# Remove Population in the Year column, and change the column to integer type\n",
    "df_hill2['Year'] = df_hill2['Year'].str.replace('Population ','').astype(int)"
   ]
  },
  {
   "cell_type": "code",
   "execution_count": null,
   "metadata": {},
   "outputs": [],
   "source": [
    "df_hill2.set_index('Year').plot()"
   ]
  },
  {
   "cell_type": "code",
   "execution_count": null,
   "metadata": {},
   "outputs": [],
   "source": [
    "df_hill2.set_index('Year').plot.bar()"
   ]
  },
  {
   "cell_type": "markdown",
   "metadata": {},
   "source": [
    "### Grouping columns"
   ]
  },
  {
   "cell_type": "code",
   "execution_count": null,
   "metadata": {
    "scrolled": false
   },
   "outputs": [],
   "source": [
    "# Group by the State column\n",
    "df_pop.groupby(['State']).max()"
   ]
  },
  {
   "cell_type": "code",
   "execution_count": null,
   "metadata": {},
   "outputs": [],
   "source": [
    "df_pop.groupby(['Rural-urban continuum code 2013']).mean()"
   ]
  }
 ],
 "metadata": {
  "anaconda-cloud": {},
  "kernelspec": {
   "display_name": "Python 3",
   "language": "python",
   "name": "python3"
  },
  "language_info": {
   "codemirror_mode": {
    "name": "ipython",
    "version": 3
   },
   "file_extension": ".py",
   "mimetype": "text/x-python",
   "name": "python",
   "nbconvert_exporter": "python",
   "pygments_lexer": "ipython3",
   "version": "3.8.3"
  },
  "nbpresent": {
   "slides": {
    "14777820-1bb5-4ff6-a972-37d642db5f59": {
     "id": "14777820-1bb5-4ff6-a972-37d642db5f59",
     "prev": "499d1bce-2e92-456b-a604-213fc7073726",
     "regions": {
      "157aa374-9d7f-4cd1-a83c-b3cb20b77815": {
       "attrs": {
        "height": 0.9182222222222223,
        "width": 0.904,
        "x": 0.038,
        "y": 0.042666666666666575
       },
       "content": {
        "cell": "f46b4a54-956d-482e-8f49-2c070062642c",
        "part": "source"
       },
       "height": 0.9,
       "id": "157aa374-9d7f-4cd1-a83c-b3cb20b77815",
       "width": 0.9,
       "x": 0.01,
       "y": 0.01
      }
     }
    },
    "3366a6ae-1757-43bc-afa2-1248168472c8": {
     "id": "3366a6ae-1757-43bc-afa2-1248168472c8",
     "prev": "14777820-1bb5-4ff6-a972-37d642db5f59",
     "regions": {
      "9440ae39-e0b9-4d82-b70e-fb538cbeae7d": {
       "attrs": {
        "height": 0.7937778320312501,
        "width": 0.842,
        "x": 0.1,
        "y": 0.08888888888888878
       },
       "content": {
        "cell": "fc627b40-83a2-4d2a-9d52-d7c079734fcd",
        "part": "source"
       },
       "height": 0.9,
       "id": "9440ae39-e0b9-4d82-b70e-fb538cbeae7d",
       "width": 0.9,
       "x": 0.01,
       "y": 0.01
      }
     }
    },
    "387700f9-20ed-4f6e-aa35-39b8457e7989": {
     "id": "387700f9-20ed-4f6e-aa35-39b8457e7989",
     "prev": "5a34a2bc-d12a-4947-b819-6e4d80e4a2fd",
     "regions": {
      "70ec9e16-c6f9-46c1-bbce-fbdf2825dc45": {
       "attrs": {
        "height": 0.9182222222222223,
        "width": 0.904,
        "x": 0.038,
        "y": 0.042666666666666575
       },
       "content": {
        "cell": "ccd91f94-7462-4855-b41e-4e4d92c51869",
        "part": "source"
       },
       "height": 0.9,
       "id": "70ec9e16-c6f9-46c1-bbce-fbdf2825dc45",
       "width": 0.9,
       "x": 0.01,
       "y": 0.01
      }
     }
    },
    "39f02a02-a91f-4bf0-93ea-f30cd5537ac9": {
     "id": "39f02a02-a91f-4bf0-93ea-f30cd5537ac9",
     "prev": "ab811b9a-3306-4538-9403-1faa0c943d21",
     "regions": {
      "6c8a63dc-8c61-46b5-9066-fdcb6c87a0df": {
       "attrs": {
        "height": 0.9182222222222223,
        "width": 0.904,
        "x": 0.038,
        "y": 0.042666666666666575
       },
       "content": {
        "cell": "ba951809-995a-40ec-832c-11f4bd28d7e4",
        "part": "source"
       },
       "height": 0.9,
       "id": "6c8a63dc-8c61-46b5-9066-fdcb6c87a0df",
       "width": 0.9,
       "x": 0.01,
       "y": 0.01
      }
     }
    },
    "499d1bce-2e92-456b-a604-213fc7073726": {
     "id": "499d1bce-2e92-456b-a604-213fc7073726",
     "prev": "fe84757a-963e-444d-ab7f-01c5f0055fd0",
     "regions": {
      "c46fe040-5a9b-474e-bbba-af54e5508e47": {
       "attrs": {
        "height": 0.9182222222222223,
        "width": 0.904,
        "x": 0.038,
        "y": 0.042666666666666575
       },
       "content": {
        "cell": "4ff054f1-538a-4cb6-8e03-331a3d4f1be1",
        "part": "source"
       },
       "height": 0.9,
       "id": "c46fe040-5a9b-474e-bbba-af54e5508e47",
       "width": 0.9,
       "x": 0.01,
       "y": 0.01
      }
     }
    },
    "5a34a2bc-d12a-4947-b819-6e4d80e4a2fd": {
     "id": "5a34a2bc-d12a-4947-b819-6e4d80e4a2fd",
     "prev": null,
     "regions": {
      "bc1edf9f-ad58-4ff4-b7ee-ea3c92cace17": {
       "attrs": {
        "height": 0.8400000000000001,
        "width": 0.81,
        "x": 0.096,
        "y": 0.12088888888888878
       },
       "content": {
        "cell": "c6bfb25d-e7a8-4c64-a4b0-2addfae63bd0",
        "part": "source"
       },
       "height": 0.9,
       "id": "bc1edf9f-ad58-4ff4-b7ee-ea3c92cace17",
       "width": 0.9,
       "x": 0.01,
       "y": 0.01
      }
     }
    },
    "5b57bd7c-a0e6-4b5b-a7ff-0192e53c633d": {
     "id": "5b57bd7c-a0e6-4b5b-a7ff-0192e53c633d",
     "prev": "387700f9-20ed-4f6e-aa35-39b8457e7989",
     "regions": {
      "fa6d13ec-8890-44dc-9bcc-d6dff69593fa": {
       "attrs": {
        "height": 0.9573333333333334,
        "width": 0.98,
        "x": 0.008,
        "y": 0.014222222222222127
       },
       "content": {
        "cell": "cc6ab0ed-84f4-45dd-97f0-b189c7cdc7b7",
        "part": "source"
       },
       "height": 0.9,
       "id": "fa6d13ec-8890-44dc-9bcc-d6dff69593fa",
       "width": 0.9,
       "x": 0.01,
       "y": 0.01
      }
     }
    },
    "ab811b9a-3306-4538-9403-1faa0c943d21": {
     "id": "ab811b9a-3306-4538-9403-1faa0c943d21",
     "prev": "3366a6ae-1757-43bc-afa2-1248168472c8",
     "regions": {
      "942e7749-7e32-40aa-b825-7e7c3ee8c080": {
       "attrs": {
        "height": 0.9182222222222223,
        "width": 0.904,
        "x": 0.038,
        "y": 0.042666666666666575
       },
       "content": {
        "cell": "3c190f66-5b29-424b-8346-c05b8ec8999f",
        "part": "source"
       },
       "height": 0.9,
       "id": "942e7749-7e32-40aa-b825-7e7c3ee8c080",
       "width": 0.9,
       "x": 0.01,
       "y": 0.01
      }
     }
    },
    "cd942684-1f01-41b2-ac62-07980c051826": {
     "id": "cd942684-1f01-41b2-ac62-07980c051826",
     "prev": "39f02a02-a91f-4bf0-93ea-f30cd5537ac9",
     "regions": {
      "b8925d5d-ff1e-4635-95dc-a61766024657": {
       "attrs": {
        "height": 0.9182222222222223,
        "width": 0.904,
        "x": 0.038,
        "y": 0.042666666666666575
       },
       "content": {
        "cell": "dddb151a-5841-412c-b2e5-a4f9b3db06d1",
        "part": "source"
       },
       "height": 0.9,
       "id": "b8925d5d-ff1e-4635-95dc-a61766024657",
       "width": 0.9,
       "x": 0.01,
       "y": 0.01
      }
     }
    },
    "fe84757a-963e-444d-ab7f-01c5f0055fd0": {
     "id": "fe84757a-963e-444d-ab7f-01c5f0055fd0",
     "prev": "5b57bd7c-a0e6-4b5b-a7ff-0192e53c633d",
     "regions": {
      "d42d2745-acff-4775-a992-1b2534c61e73": {
       "attrs": {
        "height": 0.9182222222222223,
        "width": 0.904,
        "x": 0.038,
        "y": 0.042666666666666575
       },
       "content": {
        "cell": "478eb0d5-fcd7-42d5-ad76-35f1cac7b934",
        "part": "source"
       },
       "height": 0.9,
       "id": "d42d2745-acff-4775-a992-1b2534c61e73",
       "width": 0.9,
       "x": 0.01,
       "y": 0.01
      }
     }
    }
   },
   "themes": {
    "default": "461fc31e-ba83-47f0-9143-e2699b25e0a4",
    "theme": {
     "1188f6ec-cb4e-4ae7-9ded-df5dea1b42c7": {
      "backgrounds": {
       "backgroundColor": {
        "background-color": "backgroundColor",
        "id": "backgroundColor"
       }
      },
      "id": "1188f6ec-cb4e-4ae7-9ded-df5dea1b42c7",
      "palette": {
       "backgroundColor": {
        "id": "backgroundColor",
        "rgb": [
         247,
         251,
         252
        ]
       },
       "headingColor": {
        "id": "headingColor",
        "rgb": [
         51,
         51,
         51
        ]
       },
       "linkColor": {
        "id": "linkColor",
        "rgb": [
         59,
         117,
         158
        ]
       },
       "mainColor": {
        "id": "mainColor",
        "rgb": [
         51,
         51,
         51
        ]
       }
      },
      "rules": {
       "a": {
        "color": "linkColor"
       },
       "h1": {
        "color": "headingColor",
        "font-family": "Quicksand",
        "font-size": 7
       },
       "h2": {
        "color": "headingColor",
        "font-family": "Quicksand",
        "font-size": 5
       },
       "h3": {
        "color": "headingColor",
        "font-family": "Quicksand",
        "font-size": 3.75
       },
       "h4": {
        "color": "headingColor",
        "font-family": "Quicksand",
        "font-size": 3
       },
       "h5": {
        "color": "headingColor",
        "font-family": "Quicksand"
       },
       "h6": {
        "color": "headingColor",
        "font-family": "Quicksand"
       },
       "h7": {
        "color": "headingColor",
        "font-family": "Quicksand"
       },
       "li": {
        "color": "mainColor",
        "font-family": "Open Sans",
        "font-size": 5
       },
       "p": {
        "color": "mainColor",
        "font-family": "Open Sans",
        "font-size": 5
       }
      },
      "text-base": {
       "color": "mainColor",
       "font-family": "Open Sans",
       "font-size": 5
      }
     },
     "28141bd1-6799-489b-b650-2f5cb0c41640": {
      "backgrounds": {
       "backgroundColor": {
        "background-color": "backgroundColor",
        "id": "backgroundColor"
       }
      },
      "id": "28141bd1-6799-489b-b650-2f5cb0c41640",
      "palette": {
       "backgroundColor": {
        "id": "backgroundColor",
        "rgb": [
         247,
         243,
         222
        ]
       },
       "headingColor": {
        "id": "headingColor",
        "rgb": [
         51,
         51,
         51
        ]
       },
       "linkColor": {
        "id": "linkColor",
        "rgb": [
         139,
         116,
         61
        ]
       },
       "mainColor": {
        "id": "mainColor",
        "rgb": [
         51,
         51,
         51
        ]
       }
      },
      "rules": {
       "a": {
        "color": "linkColor"
       },
       "h1": {
        "color": "headingColor",
        "font-family": "Oswald",
        "font-size": 7
       },
       "h2": {
        "color": "headingColor",
        "font-family": "Oswald",
        "font-size": 5
       },
       "h3": {
        "color": "headingColor",
        "font-family": "Oswald",
        "font-size": 3.75
       },
       "h4": {
        "color": "headingColor",
        "font-family": "Oswald",
        "font-size": 3
       },
       "h5": {
        "color": "headingColor",
        "font-family": "Oswald"
       },
       "h6": {
        "color": "headingColor",
        "font-family": "Oswald"
       },
       "h7": {
        "color": "headingColor",
        "font-family": "Oswald"
       },
       "li": {
        "color": "mainColor",
        "font-family": "Lato",
        "font-size": 5
       },
       "p": {
        "color": "mainColor",
        "font-family": "Lato",
        "font-size": 5
       }
      },
      "text-base": {
       "color": "mainColor",
       "font-family": "Lato",
       "font-size": 5
      }
     },
     "461fc31e-ba83-47f0-9143-e2699b25e0a4": {
      "backgrounds": {
       "backgroundColor": {
        "background-color": "backgroundColor",
        "id": "backgroundColor"
       }
      },
      "id": "461fc31e-ba83-47f0-9143-e2699b25e0a4",
      "palette": {
       "backgroundColor": {
        "id": "backgroundColor",
        "rgb": [
         17,
         17,
         17
        ]
       },
       "headingColor": {
        "id": "headingColor",
        "rgb": [
         238,
         238,
         238
        ]
       },
       "linkColor": {
        "id": "linkColor",
        "rgb": [
         231,
         173,
         82
        ]
       },
       "mainColor": {
        "id": "mainColor",
        "rgb": [
         238,
         238,
         238
        ]
       }
      },
      "rules": {
       "a": {
        "color": "linkColor"
       },
       "h1": {
        "color": "headingColor",
        "font-family": "Montserrat",
        "font-size": 7
       },
       "h2": {
        "color": "headingColor",
        "font-family": "Montserrat",
        "font-size": 5
       },
       "h3": {
        "color": "headingColor",
        "font-family": "Montserrat",
        "font-size": 3.75
       },
       "h4": {
        "color": "headingColor",
        "font-family": "Montserrat",
        "font-size": 3
       },
       "h5": {
        "color": "headingColor",
        "font-family": "Montserrat"
       },
       "h6": {
        "color": "headingColor",
        "font-family": "Montserrat"
       },
       "h7": {
        "color": "headingColor",
        "font-family": "Montserrat"
       },
       "li": {
        "color": "mainColor",
        "font-family": "Open Sans",
        "font-size": 4
       },
       "p": {
        "color": "mainColor",
        "font-family": "Open Sans",
        "font-size": 4
       }
      },
      "text-base": {
       "color": "mainColor",
       "font-family": "Open Sans",
       "font-size": 4
      }
     },
     "c70414c1-8cca-4bdd-992c-d3b3298311a2": {
      "backgrounds": {
       "backgroundColor": {
        "background-color": "backgroundColor",
        "id": "backgroundColor"
       }
      },
      "id": "c70414c1-8cca-4bdd-992c-d3b3298311a2",
      "palette": {
       "backgroundColor": {
        "id": "backgroundColor",
        "rgb": [
         34,
         34,
         34
        ]
       },
       "headingColor": {
        "id": "headingColor",
        "rgb": [
         238,
         238,
         238
        ]
       },
       "linkColor": {
        "id": "linkColor",
        "rgb": [
         170,
         34,
         51
        ]
       },
       "mainColor": {
        "id": "mainColor",
        "rgb": [
         238,
         238,
         238
        ]
       }
      },
      "rules": {
       "a": {
        "color": "linkColor"
       },
       "h1": {
        "color": "headingColor",
        "font-family": "Ubuntu",
        "font-size": 7
       },
       "h2": {
        "color": "headingColor",
        "font-family": "Ubuntu",
        "font-size": 5
       },
       "h3": {
        "color": "headingColor",
        "font-family": "Ubuntu",
        "font-size": 3.75
       },
       "h4": {
        "color": "headingColor",
        "font-family": "Ubuntu",
        "font-size": 3
       },
       "h5": {
        "color": "headingColor",
        "font-family": "Ubuntu"
       },
       "h6": {
        "color": "headingColor",
        "font-family": "Ubuntu"
       },
       "h7": {
        "color": "headingColor",
        "font-family": "Ubuntu"
       },
       "li": {
        "color": "mainColor",
        "font-family": "Ubuntu",
        "font-size": 5
       },
       "p": {
        "color": "mainColor",
        "font-family": "Ubuntu",
        "font-size": 5
       }
      },
      "text-base": {
       "color": "mainColor",
       "font-family": "Ubuntu",
       "font-size": 5
      }
     },
     "cfc03641-b8a9-4c57-9055-ad6afd80bf9e": {
      "backgrounds": {
       "dc7afa04-bf90-40b1-82a5-726e3cff5267": {
        "background-color": "31af15d2-7e15-44c5-ab5e-e04b16a89eff",
        "id": "dc7afa04-bf90-40b1-82a5-726e3cff5267"
       }
      },
      "id": "cfc03641-b8a9-4c57-9055-ad6afd80bf9e",
      "palette": {
       "19cc588f-0593-49c9-9f4b-e4d7cc113b1c": {
        "id": "19cc588f-0593-49c9-9f4b-e4d7cc113b1c",
        "rgb": [
         252,
         252,
         252
        ]
       },
       "31af15d2-7e15-44c5-ab5e-e04b16a89eff": {
        "id": "31af15d2-7e15-44c5-ab5e-e04b16a89eff",
        "rgb": [
         68,
         68,
         68
        ]
       },
       "50f92c45-a630-455b-aec3-788680ec7410": {
        "id": "50f92c45-a630-455b-aec3-788680ec7410",
        "rgb": [
         197,
         226,
         245
        ]
       },
       "c5cc3653-2ee1-402a-aba2-7caae1da4f6c": {
        "id": "c5cc3653-2ee1-402a-aba2-7caae1da4f6c",
        "rgb": [
         43,
         126,
         184
        ]
       },
       "efa7f048-9acb-414c-8b04-a26811511a21": {
        "id": "efa7f048-9acb-414c-8b04-a26811511a21",
        "rgb": [
         25.118061674008803,
         73.60176211453744,
         107.4819383259912
        ]
       }
      },
      "rules": {
       "a": {
        "color": "19cc588f-0593-49c9-9f4b-e4d7cc113b1c"
       },
       "blockquote": {
        "color": "50f92c45-a630-455b-aec3-788680ec7410",
        "font-size": 3
       },
       "code": {
        "font-family": "Anonymous Pro"
       },
       "h1": {
        "color": "19cc588f-0593-49c9-9f4b-e4d7cc113b1c",
        "font-family": "Merriweather",
        "font-size": 8
       },
       "h2": {
        "color": "19cc588f-0593-49c9-9f4b-e4d7cc113b1c",
        "font-family": "Merriweather",
        "font-size": 6
       },
       "h3": {
        "color": "50f92c45-a630-455b-aec3-788680ec7410",
        "font-family": "Lato",
        "font-size": 5.5
       },
       "h4": {
        "color": "c5cc3653-2ee1-402a-aba2-7caae1da4f6c",
        "font-family": "Lato",
        "font-size": 5
       },
       "h5": {
        "font-family": "Lato"
       },
       "h6": {
        "font-family": "Lato"
       },
       "h7": {
        "font-family": "Lato"
       },
       "li": {
        "color": "50f92c45-a630-455b-aec3-788680ec7410",
        "font-size": 3.25
       },
       "pre": {
        "font-family": "Anonymous Pro",
        "font-size": 4
       }
      },
      "text-base": {
       "color": "19cc588f-0593-49c9-9f4b-e4d7cc113b1c",
       "font-family": "Lato",
       "font-size": 4
      }
     }
    }
   }
  }
 },
 "nbformat": 4,
 "nbformat_minor": 1
}
