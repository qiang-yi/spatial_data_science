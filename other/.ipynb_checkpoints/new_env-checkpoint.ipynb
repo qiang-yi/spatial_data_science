{
 "cells": [
  {
   "cell_type": "markdown",
   "metadata": {},
   "source": [
    "# Set Up an New Environment"
   ]
  },
  {
   "cell_type": "markdown",
   "metadata": {},
   "source": [
    "## 1. Create an New Environment"
   ]
  },
  {
   "cell_type": "markdown",
   "metadata": {},
   "source": [
    "GeoPandas and Rasterio are not built-in libraries in Anaconda. Thus, you need to install these two libraries in order to import and use them in your Python program. Please complete the following steps to install the libraries:\n",
    "\n",
    "(1) Open __Anaconda Prompt__ in the Start Menu. It opens as a black window with command lines.\n",
    "(2) Type the following command in the prompt and hit `Enter` to create a new environment \"geo\".\n",
    "\n",
    "   `conda create --name geo`\n",
    "\n",
    "    Hit `y` and `Enter` when asked to proceed.\n",
    "\n",
    "(3) Type `conda activate geo` to activate the new environment. \n",
    "<img src=\"https://raw.githubusercontent.com/qiang-yi/spatial_data_science/main/image/wk4/install_env.gif\" width=\"700\">"
   ]
  },
  {
   "cell_type": "markdown",
   "metadata": {},
   "source": [
    "## 2. Install Jupyter Lab, GeoPandas and Rasterio"
   ]
  },
  {
   "cell_type": "markdown",
   "metadata": {},
   "source": [
    "(4) Type `conda install -c conda-forge jupyterlab` and hit `Enter` to install jupyter notebook in the \"geo\" environment. Hit `y` and `Enter` when asked to proceed.\n",
    "<img src=\"https://raw.githubusercontent.com/qiang-yi/spatial_data_science/main/image/wk4/install_jupyter.gif\" width=\"700\">\n",
    "\n",
    "(5) Use the following command to install GeoPandas. Hit `y` + `Enter` when asked to proceed.\n",
    "\n",
    "`conda install --channel conda-forge geopandas`\n",
    "\n",
    "(6) Use the following command to install Rasterio. Hit `y` + `Enter` when asked to proceed.\n",
    "\n",
    "`conda install --channel conda-forge rasterio`\n",
    "    \n",
    "(7) Type `jupyter notebook` in the prompt to launch Jupyter Notebook in the \"geo\" environment. Open the downloaded Lab3.ipynb in the newly launched Jupyter Notebook."
   ]
  },
  {
   "cell_type": "markdown",
   "metadata": {},
   "source": [
    "> **Note**: If you encounter an error when importing geopandas (as below), please do the following:<br>\n",
    " Go to Anaconda Prompt, activate the geo environment, and use the following command to install rtree <br><br>`conda install -c conda-forge rtree=0.9.4` <br><br>After the installation, please launch Jupyter Notebook and import geopandas again.</span>\n",
    " \n",
    " <img src=\"https://raw.githubusercontent.com/qiang-yi/spatial_data_science/main/image/wk4/error.png\" width=\"500\" align=\"left\"><br>"
   ]
  },
  {
   "cell_type": "markdown",
   "metadata": {},
   "source": [
    "**In the future, if you want to use the \"GeoPandas\" and \"Rasterio\" libraries, you need to activate the \"geo\" environment and launch Jupyter Notebook from the Anaconda Prompt.**\n",
    "\n",
    "<img src=\"https://raw.githubusercontent.com/qiang-yi/spatial_data_science/main/image/wk4/activate.gif\" width=\"700\">"
   ]
  },
  {
   "cell_type": "markdown",
   "metadata": {},
   "source": [
    "## 3. Install other libraries needed for the course"
   ]
  },
  {
   "cell_type": "markdown",
   "metadata": {},
   "source": [
    "- **Install libpysal, contextily, seaborn, pointpats, esda**\n",
    "\n",
    "`conda install -c conda-forge libpysal contextily seaborn pointpats esda rasterstats tweepy folium wordcloud`\n",
    "\n",
    "- **Install plotly**\n",
    "\n",
    "`conda install -c plotly plotly plotly_express`\n",
    "\n",
    "- **Install nltk**\n",
    "\n",
    "`conda install -c anaconda nltk`\n"
   ]
  },
  {
   "cell_type": "markdown",
   "metadata": {},
   "source": []
  }
 ],
 "metadata": {
  "kernelspec": {
   "display_name": "Python 3 (ipykernel)",
   "language": "python",
   "name": "python3"
  },
  "language_info": {
   "codemirror_mode": {
    "name": "ipython",
    "version": 3
   },
   "file_extension": ".py",
   "mimetype": "text/x-python",
   "name": "python",
   "nbconvert_exporter": "python",
   "pygments_lexer": "ipython3",
   "version": "3.10.4"
  }
 },
 "nbformat": 4,
 "nbformat_minor": 4
}
