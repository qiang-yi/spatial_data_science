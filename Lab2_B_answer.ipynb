{
 "cells": [
  {
   "cell_type": "markdown",
   "metadata": {
    "slideshow": {
     "slide_type": "slide"
    }
   },
   "source": [
    "## Spatial Data Science (GEO6119)\n",
    "\n",
    "---\n",
    "\n",
    "# Lab 2: Array and Data Frame (Part B)\n",
    "\n",
    "<br>\n",
    "Instructor: Yi Qiang (qiangy@usf.edu)<br>\n",
    "\n"
   ]
  },
  {
   "cell_type": "markdown",
   "metadata": {
    "slideshow": {
     "slide_type": "slide"
    }
   },
   "source": [
    "### Please write or complete Python code to accomplish the tasks in questions. \n",
    "\n",
    "### Useful materials:\n",
    "- Lecture slides ([lec3_array_dataframe_2.pptx](https://usflearn.instructure.com/courses/1649144/files/129563852/download?download_frd=1)) in Canvas\n",
    "- [Example code in Lecture 3](https://github.com/qiang-yi/spatial_data_science/blob/main/Week3_Array_DataFrame_2.ipynb)\n",
    "- [Numpy Array Cheatsheet](https://assets.datacamp.com/blog_assets/Numpy_Python_Cheat_Sheet.pdf)\n",
    "- [Pandas DataFrame Cheatsheet](https://pandas.pydata.org/Pandas_Cheat_Sheet.pdf)"
   ]
  },
  {
   "cell_type": "markdown",
   "metadata": {},
   "source": [
    "---"
   ]
  },
  {
   "cell_type": "markdown",
   "metadata": {
    "slideshow": {
     "slide_type": "slide"
    }
   },
   "source": [
    "## 1. Numpy Array"
   ]
  },
  {
   "cell_type": "markdown",
   "metadata": {
    "slideshow": {
     "slide_type": "-"
    }
   },
   "source": [
    "### Question 1 (0.5pt): Create two Numpy arrays array1 and array2 as the figure below. Vertically stack array1 and array2. Update array1 with the stacked array.\n",
    "\n",
    "| Note: remember to import the numpy library before using its functions.\n",
    "\n",
    "<img src=\"https://raw.githubusercontent.com/qiang-yi/spatial_data_science/main/image/wk3/l2b_q1.png\" width=\"400\" align=\"left\">"
   ]
  },
  {
   "cell_type": "markdown",
   "metadata": {},
   "source": [
    "(Insert a code cell below and write code to complete the question)"
   ]
  },
  {
   "cell_type": "markdown",
   "metadata": {},
   "source": [
    "### Question 2 (0.5pt): Change the values in the 2nd row in array1 to 0. \n",
    "\n",
    "(Insert a code cell below and write code to complete the question)"
   ]
  },
  {
   "cell_type": "markdown",
   "metadata": {},
   "source": [
    "### Question 3 (0.5pt): Flatten array1 to a 1D array\n",
    "\n",
    "(Insert a code cell below and write code to complete the question)"
   ]
  },
  {
   "cell_type": "markdown",
   "metadata": {
    "slideshow": {
     "slide_type": "slide"
    }
   },
   "source": [
    "## 2. Pandas DataFrame\n",
    "\n",
    "For the following questions, you'll be looking at varicella (chicken pox) immunizations data from the CDC. The table contains varicella (chicken pox) vaccination status of children and whether the children have had chicken pox. Your goal is to calculate the efficacy ratio of the varicella vaccine.\n",
    "\n",
    "The table contains the following variables (columns):\n",
    "\n",
    "- SEX: sexuality of the child\n",
    "- MOM_EDU: education level of the child's mother\n",
    "- BREAST_FEEDING: whether the child is breastfed\n",
    "- HAD_CPOX: whether the child has had chicken pox\n",
    "- P_NUMVRC: number of varicella vaccine the child has administered."
   ]
  },
  {
   "cell_type": "markdown",
   "metadata": {},
   "source": [
    "### Question 4 (0.5pt): Complete the Python code in the cell below to:\n",
    "#### (1) import the Pandas library  \n",
    "#### (2) read the csv file in the 'other' folder into a dataframe 'df'\n",
    "#### (3) preview the dataframe\n",
    "\n",
    "- <mark>In some questions, you need to replace ...... with appropriate code</mark>\n",
    "\n",
    "- <mark>You can create a new code cell to test your code in ideas </mark>"
   ]
  },
  {
   "cell_type": "code",
   "execution_count": 1,
   "metadata": {},
   "outputs": [
    {
     "data": {
      "text/html": [
       "<div>\n",
       "<style scoped>\n",
       "    .dataframe tbody tr th:only-of-type {\n",
       "        vertical-align: middle;\n",
       "    }\n",
       "\n",
       "    .dataframe tbody tr th {\n",
       "        vertical-align: top;\n",
       "    }\n",
       "\n",
       "    .dataframe thead th {\n",
       "        text-align: right;\n",
       "    }\n",
       "</style>\n",
       "<table border=\"1\" class=\"dataframe\">\n",
       "  <thead>\n",
       "    <tr style=\"text-align: right;\">\n",
       "      <th></th>\n",
       "      <th>SEX</th>\n",
       "      <th>MOM_EDU</th>\n",
       "      <th>BREAST_FEEDING</th>\n",
       "      <th>HAD_CPOX</th>\n",
       "      <th>P_NUMVRC</th>\n",
       "    </tr>\n",
       "  </thead>\n",
       "  <tbody>\n",
       "    <tr>\n",
       "      <th>0</th>\n",
       "      <td>Female</td>\n",
       "      <td>college</td>\n",
       "      <td>No</td>\n",
       "      <td>No</td>\n",
       "      <td>1.0</td>\n",
       "    </tr>\n",
       "    <tr>\n",
       "      <th>1</th>\n",
       "      <td>Female</td>\n",
       "      <td>&lt;12 years</td>\n",
       "      <td>Yes</td>\n",
       "      <td>No</td>\n",
       "      <td>0.0</td>\n",
       "    </tr>\n",
       "    <tr>\n",
       "      <th>2</th>\n",
       "      <td>Female</td>\n",
       "      <td>college</td>\n",
       "      <td>Yes</td>\n",
       "      <td>No</td>\n",
       "      <td>1.0</td>\n",
       "    </tr>\n",
       "    <tr>\n",
       "      <th>3</th>\n",
       "      <td>Female</td>\n",
       "      <td>&gt;12 years, not college</td>\n",
       "      <td>Yes</td>\n",
       "      <td>No</td>\n",
       "      <td>0.0</td>\n",
       "    </tr>\n",
       "    <tr>\n",
       "      <th>4</th>\n",
       "      <td>Male</td>\n",
       "      <td>12 years</td>\n",
       "      <td>Yes</td>\n",
       "      <td>Yes</td>\n",
       "      <td>0.0</td>\n",
       "    </tr>\n",
       "  </tbody>\n",
       "</table>\n",
       "</div>"
      ],
      "text/plain": [
       "      SEX                 MOM_EDU BREAST_FEEDING HAD_CPOX  P_NUMVRC\n",
       "0  Female                 college             No       No       1.0\n",
       "1  Female               <12 years            Yes       No       0.0\n",
       "2  Female                 college            Yes       No       1.0\n",
       "3  Female  >12 years, not college            Yes       No       0.0\n",
       "4    Male                12 years            Yes      Yes       0.0"
      ]
     },
     "execution_count": 1,
     "metadata": {},
     "output_type": "execute_result"
    }
   ],
   "source": [
    "# Load the pandas library\n",
    "import pandas as pd\n",
    "\n",
    "# read the vac.csv file in the 'other' folder into a dataframe df\n",
    "df = pd.read_csv('other/vac.csv')\n",
    "\n",
    "# preview the first 5 rows in df\n",
    "df.head()"
   ]
  },
  {
   "cell_type": "markdown",
   "metadata": {},
   "source": [
    "### Question 5 (1pt): Calculate the ratio of non-vaccinated children (P_NUMVRC == 0) who had chicken pox to all non-vaccinated children"
   ]
  },
  {
   "cell_type": "markdown",
   "metadata": {},
   "source": [
    "Hint: you can use `.count()` or `.shape` to get the size of a dataframe (or a subset)."
   ]
  },
  {
   "cell_type": "code",
   "execution_count": 3,
   "metadata": {},
   "outputs": [],
   "source": [
    "# (1) Calculate the total number of children who have not administered varicella vaccine (P_NUMVRC == 0)\n",
    "#     non_vac is an integer number\n",
    "non_vac = df[df['P_NUMVRC']==0].shape[0]"
   ]
  },
  {
   "cell_type": "code",
   "execution_count": 4,
   "metadata": {},
   "outputs": [],
   "source": [
    "# (2) calculate the total number of children who have not administered varicella vaccine and have got chicken pox\n",
    "#     non_vac_cpox is an integer number\n",
    "non_vac_cpox = df[(df['P_NUMVRC']==0)&(df['HAD_CPOX']=='Yes')].shape[0]"
   ]
  },
  {
   "cell_type": "code",
   "execution_count": 5,
   "metadata": {},
   "outputs": [
    {
     "name": "stdout",
     "output_type": "stream",
     "text": [
      "0.03886397608370702\n"
     ]
    }
   ],
   "source": [
    "# (3) calculate the ratio of children who are not vaccinated and got chicken pox (numerator) to all non-vaccinated children (denominator)\n",
    "r_non_vac_cpox = non_vac_cpox/non_vac\n",
    "\n",
    "# Print the ratio\n",
    "print(r_non_vac_cpox)"
   ]
  },
  {
   "cell_type": "markdown",
   "metadata": {},
   "source": [
    "### Question 6 (1pt): Calculate the ratio of vaccinated children (P_NUMVRC > 0) who had chicken pox to all vaccinated children"
   ]
  },
  {
   "cell_type": "markdown",
   "metadata": {},
   "source": [
    "Hint: the code is similar to Question 6, but uses different query conditions."
   ]
  },
  {
   "cell_type": "code",
   "execution_count": 6,
   "metadata": {},
   "outputs": [],
   "source": [
    "# (1) Calculate the total number of children who have administered at least one shot of varicella vaccine (P_NUMVRC > 0)\n",
    "#     non_vac is an integer number\n",
    "vac = df[df['P_NUMVRC']>0].shape[0]"
   ]
  },
  {
   "cell_type": "code",
   "execution_count": 7,
   "metadata": {},
   "outputs": [],
   "source": [
    "# (2) calculate the total number of children who have administered at least one shot of varicella vaccine and have got chicken pox\n",
    "#     non_vac_cpox is an integer number\n",
    "vac_cpox = df[(df['P_NUMVRC']>0)&(df['HAD_CPOX']=='Yes')].shape[0]"
   ]
  },
  {
   "cell_type": "code",
   "execution_count": 8,
   "metadata": {},
   "outputs": [
    {
     "name": "stdout",
     "output_type": "stream",
     "text": [
      "0.008645944980350125\n"
     ]
    }
   ],
   "source": [
    "# (3) calculate the ratio of children who are vaccinated and got chicken pox (numerator) to all non-vaccinated children (denominator)\n",
    "r_vac_cpox = vac_cpox/vac\n",
    "print(r_vac_cpox)"
   ]
  },
  {
   "cell_type": "markdown",
   "metadata": {},
   "source": [
    "### Question 7: Please run the following code to calculate and print the efficacy ratio of the varicella vaccine"
   ]
  },
  {
   "cell_type": "code",
   "execution_count": 9,
   "metadata": {},
   "outputs": [
    {
     "name": "stdout",
     "output_type": "stream",
     "text": [
      "0.7775331849286834\n"
     ]
    }
   ],
   "source": [
    "# Calculate the efficacy ratio\n",
    "e_ratio = (r_non_vac_cpox - r_vac_cpox)/r_non_vac_cpox\n",
    "# Print the efficacy ratio\n",
    "print(e_ratio)"
   ]
  },
  {
   "cell_type": "markdown",
   "metadata": {},
   "source": [
    "### Question 8 (1pt): Create a bar chart to show number of children according to their mothers' education levels (as the graph below)"
   ]
  },
  {
   "cell_type": "markdown",
   "metadata": {},
   "source": [
    "__Please refer to the documentations of [groupby](https://pandas.pydata.org/docs/reference/api/pandas.DataFrame.groupby.html), [rename](https://pandas.pydata.org/docs/reference/api/pandas.DataFrame.rename.html), [plot.bar](https://pandas.pydata.org/docs/reference/api/pandas.DataFrame.plot.bar.html) to complete the code.__"
   ]
  },
  {
   "cell_type": "markdown",
   "metadata": {},
   "source": [
    "<img src=\"https://raw.githubusercontent.com/qiang-yi/spatial_data_science/60601da67bd8edd68c20dad6817c715f27329760/image/wk3/lab2b.jpg\" width=\"400\" align=\"left\">"
   ]
  },
  {
   "cell_type": "code",
   "execution_count": 23,
   "metadata": {},
   "outputs": [
    {
     "data": {
      "text/html": [
       "<div>\n",
       "<style scoped>\n",
       "    .dataframe tbody tr th:only-of-type {\n",
       "        vertical-align: middle;\n",
       "    }\n",
       "\n",
       "    .dataframe tbody tr th {\n",
       "        vertical-align: top;\n",
       "    }\n",
       "\n",
       "    .dataframe thead th {\n",
       "        text-align: right;\n",
       "    }\n",
       "</style>\n",
       "<table border=\"1\" class=\"dataframe\">\n",
       "  <thead>\n",
       "    <tr style=\"text-align: right;\">\n",
       "      <th></th>\n",
       "      <th>SEX</th>\n",
       "      <th>BREAST_FEEDING</th>\n",
       "      <th>HAD_CPOX</th>\n",
       "      <th>P_NUMVRC</th>\n",
       "    </tr>\n",
       "    <tr>\n",
       "      <th>MOM_EDU</th>\n",
       "      <th></th>\n",
       "      <th></th>\n",
       "      <th></th>\n",
       "      <th></th>\n",
       "    </tr>\n",
       "  </thead>\n",
       "  <tbody>\n",
       "    <tr>\n",
       "      <th>12 years</th>\n",
       "      <td>2503</td>\n",
       "      <td>2503</td>\n",
       "      <td>2503</td>\n",
       "      <td>2503</td>\n",
       "    </tr>\n",
       "    <tr>\n",
       "      <th>&lt;12 years</th>\n",
       "      <td>1639</td>\n",
       "      <td>1639</td>\n",
       "      <td>1639</td>\n",
       "      <td>1639</td>\n",
       "    </tr>\n",
       "    <tr>\n",
       "      <th>&gt;12 years, not college</th>\n",
       "      <td>3639</td>\n",
       "      <td>3639</td>\n",
       "      <td>3639</td>\n",
       "      <td>3639</td>\n",
       "    </tr>\n",
       "    <tr>\n",
       "      <th>college</th>\n",
       "      <td>7552</td>\n",
       "      <td>7552</td>\n",
       "      <td>7552</td>\n",
       "      <td>7552</td>\n",
       "    </tr>\n",
       "  </tbody>\n",
       "</table>\n",
       "</div>"
      ],
      "text/plain": [
       "                         SEX  BREAST_FEEDING  HAD_CPOX  P_NUMVRC\n",
       "MOM_EDU                                                         \n",
       "12 years                2503            2503      2503      2503\n",
       "<12 years               1639            1639      1639      1639\n",
       ">12 years, not college  3639            3639      3639      3639\n",
       "college                 7552            7552      7552      7552"
      ]
     },
     "execution_count": 23,
     "metadata": {},
     "output_type": "execute_result"
    }
   ],
   "source": [
    "df.groupby(['MOM_EDU']).count()"
   ]
  },
  {
   "cell_type": "code",
   "execution_count": 26,
   "metadata": {},
   "outputs": [
    {
     "data": {
      "text/plain": [
       "<AxesSubplot:xlabel='MOM_EDU'>"
      ]
     },
     "execution_count": 26,
     "metadata": {},
     "output_type": "execute_result"
    },
    {
     "data": {
      "image/png": "[encoded data removed]",
      "text/plain": [
       "<Figure size 432x288 with 1 Axes>"
      ]
     },
     "metadata": {
      "needs_background": "light"
     },
     "output_type": "display_data"
    }
   ],
   "source": [
    "# Group the dataframe by the mothers' education levels\n",
    "df_grp = df.groupby(['MOM_EDU']).count()\n",
    "\n",
    "# Rename the column 'SEX'  to 'Num of children'. This is to create a meaningful legend in the plot\n",
    "df_grp = df_grp.rename(columns={'SEX':'Num of children'})\n",
    "\n",
    "# Create a bar chart using the 'Num of children' as the y axis.\n",
    "df_grp.plot.bar(y='Num of children')"
   ]
  }
 ],
 "metadata": {
  "kernelspec": {
   "display_name": "Python 3 (ipykernel)",
   "language": "python",
   "name": "python3"
  },
  "language_info": {
   "codemirror_mode": {
    "name": "ipython",
    "version": 3
   },
   "file_extension": ".py",
   "mimetype": "text/x-python",
   "name": "python",
   "nbconvert_exporter": "python",
   "pygments_lexer": "ipython3",
   "version": "3.10.4"
  }
 },
 "nbformat": 4,
 "nbformat_minor": 4
}
