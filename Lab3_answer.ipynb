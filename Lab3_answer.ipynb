{
 "cells": [
  {
   "cell_type": "markdown",
   "metadata": {},
   "source": [
    "## Spatial Data Science (GEO6119)\n",
    "\n",
    "---\n",
    "\n",
    "# Lab 3: Water Quality Data Processing\n",
    "\n",
    "\n",
    "<br>\n",
    "Instructor: Yi Qiang (qiangy@usf.edu)<br>\n",
    "\n",
    "---\n",
    "\n",
    "In this lab, you will use Python to conduct preliminary analysis of a dataset about coastal wate quality in Florida. Web maps of the data can be found [here](https://data.florida-seacar.org/maps/locations/programs/).\n",
    "\n",
    "Please click and download the dataset [OEAT_Discrete-2022-Aug-31.csv](https://usflearn.instructure.com/files/140340782/download?download_frd=1). Copy and paste the dataset into the same folder of this Jupyter Notebook (WQ_data_processing.ipynb).\n",
    "\n",
    "### Please write or complete Python code to accomplish the tasks in questions. \n",
    "\n",
    "### Useful materials:\n",
    "- [Example codes about Numpy Array and Data Frame](https://github.com/qiang-yi/spatial_data_science/blob/main/Week2_Array_DataFrame.ipynb)\n",
    "- [Numpy Array Cheatsheet](https://assets.datacamp.com/blog_assets/Numpy_Python_Cheat_Sheet.pdf)\n",
    "- [Pandas DataFrame Cheatsheet](https://pandas.pydata.org/Pandas_Cheat_Sheet.pdf)\n",
    "\n",
    "### Useful shortcuts for Jupyter Notebook\n",
    "\n",
    "- A: add a cell above the current cell\n",
    "- B: add a cell below the current cell\n",
    "- C: copy the current cell\n",
    "- X: cut the current cell\n",
    "- V: paste the copied cell below the current cell\n",
    "- DD: delete the current cell\n",
    "- ESC: exit cell editing\n",
    "- M: change cell to MarkDown code (must exit editing first)\n",
    "- Y: change cell to Python code (must exit editing first)"
   ]
  },
  {
   "cell_type": "markdown",
   "metadata": {},
   "source": [
    "## Step 1: Load data"
   ]
  },
  {
   "cell_type": "markdown",
   "metadata": {},
   "source": [
    "Please import the `numpy` and `pandas` package as `np` and `pd`."
   ]
  },
  {
   "cell_type": "code",
   "execution_count": 1,
   "metadata": {},
   "outputs": [],
   "source": [
    "# ---add codes here---\n",
    "import numpy as np\n",
    "import pandas as pd"
   ]
  },
  {
   "cell_type": "markdown",
   "metadata": {},
   "source": [
    "Read the csv file `OEAT_Discrete-2022-Aug-31.csv` as a data frame, and name it `df`. \n",
    "\n",
    "If the file is in the same folder of this Jupyter Notebook, you can read it using its file name. If it is in another location (folder), you can read it using the file path."
   ]
  },
  {
   "cell_type": "code",
   "execution_count": 5,
   "metadata": {},
   "outputs": [
    {
     "name": "stderr",
     "output_type": "stream",
     "text": [
      "C:\\Users\\yi\\AppData\\Local\\Temp/ipykernel_29732/1547517878.py:2: DtypeWarning: Columns (6,17,18,19,20,21) have mixed types. Specify dtype option on import or set low_memory=False.\n",
      "  df = pd.read_csv(r\"OEAT_Discrete-2022-Aug-31.csv\")\n"
     ]
    }
   ],
   "source": [
    "# ---add codes below---\n",
    "df = pd.read_csv(r\"OEAT_Discrete-2022-Aug-31.csv\")"
   ]
  },
  {
   "cell_type": "markdown",
   "metadata": {},
   "source": [
    "Preview the first 10 lines in `df`. You can refer to this [webpage](https://pandas.pydata.org/docs/reference/api/pandas.DataFrame.head.html) about how to do it.\n",
    "\n",
    "Briefly browse the data preview to learn the data structure (e.g., columns, values in columns, etc.)"
   ]
  },
  {
   "cell_type": "code",
   "execution_count": 10,
   "metadata": {},
   "outputs": [
    {
     "data": {
      "text/html": [
       "<div>\n",
       "<style scoped>\n",
       "    .dataframe tbody tr th:only-of-type {\n",
       "        vertical-align: middle;\n",
       "    }\n",
       "\n",
       "    .dataframe tbody tr th {\n",
       "        vertical-align: top;\n",
       "    }\n",
       "\n",
       "    .dataframe thead th {\n",
       "        text-align: right;\n",
       "    }\n",
       "</style>\n",
       "<table border=\"1\" class=\"dataframe\">\n",
       "  <thead>\n",
       "    <tr style=\"text-align: right;\">\n",
       "      <th></th>\n",
       "      <th>RowID</th>\n",
       "      <th>ProgramID</th>\n",
       "      <th>ProgramName</th>\n",
       "      <th>DataFileName</th>\n",
       "      <th>ParameterName</th>\n",
       "      <th>ParameterUnits</th>\n",
       "      <th>ProgramLocationID</th>\n",
       "      <th>ActivityType</th>\n",
       "      <th>SampleDate</th>\n",
       "      <th>Year</th>\n",
       "      <th>...</th>\n",
       "      <th>ResultComments</th>\n",
       "      <th>Latitude_DD</th>\n",
       "      <th>Longitude_DD</th>\n",
       "      <th>ManagedAreaName</th>\n",
       "      <th>Region</th>\n",
       "      <th>SEACAR_QAQCFlagCode</th>\n",
       "      <th>SEACAR_QAQC_Description</th>\n",
       "      <th>Include</th>\n",
       "      <th>SEACAR_EventID</th>\n",
       "      <th>AreaID</th>\n",
       "    </tr>\n",
       "  </thead>\n",
       "  <tbody>\n",
       "    <tr>\n",
       "      <th>0</th>\n",
       "      <td>1</td>\n",
       "      <td>118</td>\n",
       "      <td>National Aquatic Resource Surveys, National Co...</td>\n",
       "      <td>Data_118E_Final.csv</td>\n",
       "      <td>Chlorophyll a uncorrected for pheophytin</td>\n",
       "      <td>ug/L</td>\n",
       "      <td>FL01-0015</td>\n",
       "      <td>Sample</td>\n",
       "      <td>2001-12-31</td>\n",
       "      <td>2001</td>\n",
       "      <td>...</td>\n",
       "      <td>NaN</td>\n",
       "      <td>26.56520</td>\n",
       "      <td>-82.06790</td>\n",
       "      <td>Matlacha Pass Aquatic Preserve</td>\n",
       "      <td>SW</td>\n",
       "      <td>6Q</td>\n",
       "      <td>6Q - Within threshold tolerance</td>\n",
       "      <td>1</td>\n",
       "      <td>3521AFD2-7CB5-472C-9F0A-094711354B17</td>\n",
       "      <td>28</td>\n",
       "    </tr>\n",
       "    <tr>\n",
       "      <th>1</th>\n",
       "      <td>2</td>\n",
       "      <td>118</td>\n",
       "      <td>National Aquatic Resource Surveys, National Co...</td>\n",
       "      <td>Data_118E_Final.csv</td>\n",
       "      <td>Chlorophyll a uncorrected for pheophytin</td>\n",
       "      <td>ug/L</td>\n",
       "      <td>FLW05-0009</td>\n",
       "      <td>Sample</td>\n",
       "      <td>2005-12-31</td>\n",
       "      <td>2005</td>\n",
       "      <td>...</td>\n",
       "      <td>NaN</td>\n",
       "      <td>26.58742</td>\n",
       "      <td>-82.06785</td>\n",
       "      <td>Matlacha Pass Aquatic Preserve</td>\n",
       "      <td>SW</td>\n",
       "      <td>6Q</td>\n",
       "      <td>6Q - Within threshold tolerance</td>\n",
       "      <td>1</td>\n",
       "      <td>4F7FAE89-44E6-4527-B780-62604BEDA08E</td>\n",
       "      <td>28</td>\n",
       "    </tr>\n",
       "    <tr>\n",
       "      <th>2</th>\n",
       "      <td>3</td>\n",
       "      <td>118</td>\n",
       "      <td>National Aquatic Resource Surveys, National Co...</td>\n",
       "      <td>Data_118E_Final.csv</td>\n",
       "      <td>Chlorophyll a uncorrected for pheophytin</td>\n",
       "      <td>ug/L</td>\n",
       "      <td>FLW06-0042</td>\n",
       "      <td>Sample</td>\n",
       "      <td>2006-12-31</td>\n",
       "      <td>2006</td>\n",
       "      <td>...</td>\n",
       "      <td>NaN</td>\n",
       "      <td>26.63835</td>\n",
       "      <td>-82.21297</td>\n",
       "      <td>Pine Island Sound Aquatic Preserve</td>\n",
       "      <td>SW</td>\n",
       "      <td>6Q</td>\n",
       "      <td>6Q - Within threshold tolerance</td>\n",
       "      <td>1</td>\n",
       "      <td>135985C4-315B-430F-B56A-BCBA0ECEE7B8</td>\n",
       "      <td>34</td>\n",
       "    </tr>\n",
       "    <tr>\n",
       "      <th>3</th>\n",
       "      <td>4</td>\n",
       "      <td>118</td>\n",
       "      <td>National Aquatic Resource Surveys, National Co...</td>\n",
       "      <td>Data_118E_Final.csv</td>\n",
       "      <td>Chlorophyll a uncorrected for pheophytin</td>\n",
       "      <td>ug/L</td>\n",
       "      <td>FLW06-0041</td>\n",
       "      <td>Sample</td>\n",
       "      <td>2006-12-31</td>\n",
       "      <td>2006</td>\n",
       "      <td>...</td>\n",
       "      <td>NaN</td>\n",
       "      <td>26.83697</td>\n",
       "      <td>-82.09640</td>\n",
       "      <td>Gasparilla Sound-Charlotte Harbor Aquatic Pres...</td>\n",
       "      <td>SW</td>\n",
       "      <td>6Q</td>\n",
       "      <td>6Q - Within threshold tolerance</td>\n",
       "      <td>1</td>\n",
       "      <td>ED7F7EC6-3254-4768-9CCC-7744025DFE2F</td>\n",
       "      <td>18</td>\n",
       "    </tr>\n",
       "    <tr>\n",
       "      <th>4</th>\n",
       "      <td>5</td>\n",
       "      <td>118</td>\n",
       "      <td>National Aquatic Resource Surveys, National Co...</td>\n",
       "      <td>Data_118E_Final.csv</td>\n",
       "      <td>Chlorophyll a uncorrected for pheophytin</td>\n",
       "      <td>ug/L</td>\n",
       "      <td>FL00-0020</td>\n",
       "      <td>Sample</td>\n",
       "      <td>2000-12-31</td>\n",
       "      <td>2000</td>\n",
       "      <td>...</td>\n",
       "      <td>NaN</td>\n",
       "      <td>26.75800</td>\n",
       "      <td>-82.08850</td>\n",
       "      <td>Gasparilla Sound-Charlotte Harbor Aquatic Pres...</td>\n",
       "      <td>SW</td>\n",
       "      <td>6Q</td>\n",
       "      <td>6Q - Within threshold tolerance</td>\n",
       "      <td>1</td>\n",
       "      <td>B3933D86-BB5A-4431-AC1C-3793B782E615</td>\n",
       "      <td>18</td>\n",
       "    </tr>\n",
       "    <tr>\n",
       "      <th>5</th>\n",
       "      <td>6</td>\n",
       "      <td>118</td>\n",
       "      <td>National Aquatic Resource Surveys, National Co...</td>\n",
       "      <td>Data_118E_Final.csv</td>\n",
       "      <td>Chlorophyll a uncorrected for pheophytin</td>\n",
       "      <td>ug/L</td>\n",
       "      <td>FL00-0011</td>\n",
       "      <td>Sample</td>\n",
       "      <td>2000-12-31</td>\n",
       "      <td>2000</td>\n",
       "      <td>...</td>\n",
       "      <td>NaN</td>\n",
       "      <td>29.15600</td>\n",
       "      <td>-83.05780</td>\n",
       "      <td>Big Bend Seagrasses Aquatic Preserve</td>\n",
       "      <td>NW</td>\n",
       "      <td>6Q</td>\n",
       "      <td>6Q - Within threshold tolerance</td>\n",
       "      <td>1</td>\n",
       "      <td>1A60C295-45C3-4E94-890A-EA5C81D67148</td>\n",
       "      <td>5</td>\n",
       "    </tr>\n",
       "    <tr>\n",
       "      <th>6</th>\n",
       "      <td>7</td>\n",
       "      <td>118</td>\n",
       "      <td>National Aquatic Resource Surveys, National Co...</td>\n",
       "      <td>Data_118E_Final.csv</td>\n",
       "      <td>Chlorophyll a uncorrected for pheophytin</td>\n",
       "      <td>ug/L</td>\n",
       "      <td>FLW05-0020</td>\n",
       "      <td>Sample</td>\n",
       "      <td>2005-12-31</td>\n",
       "      <td>2005</td>\n",
       "      <td>...</td>\n",
       "      <td>NaN</td>\n",
       "      <td>30.07050</td>\n",
       "      <td>-84.10702</td>\n",
       "      <td>Big Bend Seagrasses Aquatic Preserve</td>\n",
       "      <td>NW</td>\n",
       "      <td>6Q</td>\n",
       "      <td>6Q - Within threshold tolerance</td>\n",
       "      <td>1</td>\n",
       "      <td>5EA61E99-5BC7-448A-A14B-D701AB2FE255</td>\n",
       "      <td>5</td>\n",
       "    </tr>\n",
       "    <tr>\n",
       "      <th>7</th>\n",
       "      <td>8</td>\n",
       "      <td>118</td>\n",
       "      <td>National Aquatic Resource Surveys, National Co...</td>\n",
       "      <td>Data_118E_Final.csv</td>\n",
       "      <td>Chlorophyll a uncorrected for pheophytin</td>\n",
       "      <td>ug/L</td>\n",
       "      <td>FL01-0014</td>\n",
       "      <td>Sample</td>\n",
       "      <td>2001-12-31</td>\n",
       "      <td>2001</td>\n",
       "      <td>...</td>\n",
       "      <td>NaN</td>\n",
       "      <td>26.75900</td>\n",
       "      <td>-82.07900</td>\n",
       "      <td>Gasparilla Sound-Charlotte Harbor Aquatic Pres...</td>\n",
       "      <td>SW</td>\n",
       "      <td>6Q</td>\n",
       "      <td>6Q - Within threshold tolerance</td>\n",
       "      <td>1</td>\n",
       "      <td>D1C671D0-CDC6-4138-9412-DE908FEE0240</td>\n",
       "      <td>18</td>\n",
       "    </tr>\n",
       "    <tr>\n",
       "      <th>8</th>\n",
       "      <td>9</td>\n",
       "      <td>118</td>\n",
       "      <td>National Aquatic Resource Surveys, National Co...</td>\n",
       "      <td>Data_118E_Final.csv</td>\n",
       "      <td>Chlorophyll a uncorrected for pheophytin</td>\n",
       "      <td>ug/L</td>\n",
       "      <td>FLW06-0036</td>\n",
       "      <td>Sample</td>\n",
       "      <td>2006-12-31</td>\n",
       "      <td>2006</td>\n",
       "      <td>...</td>\n",
       "      <td>NaN</td>\n",
       "      <td>29.12490</td>\n",
       "      <td>-83.05488</td>\n",
       "      <td>Big Bend Seagrasses Aquatic Preserve</td>\n",
       "      <td>NW</td>\n",
       "      <td>6Q</td>\n",
       "      <td>6Q - Within threshold tolerance</td>\n",
       "      <td>1</td>\n",
       "      <td>B772305E-5E0D-4201-B52E-AB2A821106FF</td>\n",
       "      <td>5</td>\n",
       "    </tr>\n",
       "    <tr>\n",
       "      <th>9</th>\n",
       "      <td>10</td>\n",
       "      <td>118</td>\n",
       "      <td>National Aquatic Resource Surveys, National Co...</td>\n",
       "      <td>Data_118E_Final.csv</td>\n",
       "      <td>Chlorophyll a uncorrected for pheophytin</td>\n",
       "      <td>ug/L</td>\n",
       "      <td>FLE06-0044</td>\n",
       "      <td>Sample</td>\n",
       "      <td>2006-12-31</td>\n",
       "      <td>2006</td>\n",
       "      <td>...</td>\n",
       "      <td>NaN</td>\n",
       "      <td>30.05455</td>\n",
       "      <td>-81.33382</td>\n",
       "      <td>Guana Tolomato Matanzas National Estuarine Res...</td>\n",
       "      <td>NE</td>\n",
       "      <td>6Q</td>\n",
       "      <td>6Q - Within threshold tolerance</td>\n",
       "      <td>1</td>\n",
       "      <td>A8C3F32D-B255-44A4-AC2D-29F77F9A2E54</td>\n",
       "      <td>20</td>\n",
       "    </tr>\n",
       "  </tbody>\n",
       "</table>\n",
       "<p>10 rows × 31 columns</p>\n",
       "</div>"
      ],
      "text/plain": [
       "   RowID  ProgramID                                        ProgramName  \\\n",
       "0      1        118  National Aquatic Resource Surveys, National Co...   \n",
       "1      2        118  National Aquatic Resource Surveys, National Co...   \n",
       "2      3        118  National Aquatic Resource Surveys, National Co...   \n",
       "3      4        118  National Aquatic Resource Surveys, National Co...   \n",
       "4      5        118  National Aquatic Resource Surveys, National Co...   \n",
       "5      6        118  National Aquatic Resource Surveys, National Co...   \n",
       "6      7        118  National Aquatic Resource Surveys, National Co...   \n",
       "7      8        118  National Aquatic Resource Surveys, National Co...   \n",
       "8      9        118  National Aquatic Resource Surveys, National Co...   \n",
       "9     10        118  National Aquatic Resource Surveys, National Co...   \n",
       "\n",
       "          DataFileName                             ParameterName  \\\n",
       "0  Data_118E_Final.csv  Chlorophyll a uncorrected for pheophytin   \n",
       "1  Data_118E_Final.csv  Chlorophyll a uncorrected for pheophytin   \n",
       "2  Data_118E_Final.csv  Chlorophyll a uncorrected for pheophytin   \n",
       "3  Data_118E_Final.csv  Chlorophyll a uncorrected for pheophytin   \n",
       "4  Data_118E_Final.csv  Chlorophyll a uncorrected for pheophytin   \n",
       "5  Data_118E_Final.csv  Chlorophyll a uncorrected for pheophytin   \n",
       "6  Data_118E_Final.csv  Chlorophyll a uncorrected for pheophytin   \n",
       "7  Data_118E_Final.csv  Chlorophyll a uncorrected for pheophytin   \n",
       "8  Data_118E_Final.csv  Chlorophyll a uncorrected for pheophytin   \n",
       "9  Data_118E_Final.csv  Chlorophyll a uncorrected for pheophytin   \n",
       "\n",
       "  ParameterUnits ProgramLocationID ActivityType  SampleDate  Year  ...  \\\n",
       "0           ug/L         FL01-0015       Sample  2001-12-31  2001  ...   \n",
       "1           ug/L        FLW05-0009       Sample  2005-12-31  2005  ...   \n",
       "2           ug/L        FLW06-0042       Sample  2006-12-31  2006  ...   \n",
       "3           ug/L        FLW06-0041       Sample  2006-12-31  2006  ...   \n",
       "4           ug/L         FL00-0020       Sample  2000-12-31  2000  ...   \n",
       "5           ug/L         FL00-0011       Sample  2000-12-31  2000  ...   \n",
       "6           ug/L        FLW05-0020       Sample  2005-12-31  2005  ...   \n",
       "7           ug/L         FL01-0014       Sample  2001-12-31  2001  ...   \n",
       "8           ug/L        FLW06-0036       Sample  2006-12-31  2006  ...   \n",
       "9           ug/L        FLE06-0044       Sample  2006-12-31  2006  ...   \n",
       "\n",
       "   ResultComments  Latitude_DD Longitude_DD  \\\n",
       "0             NaN     26.56520    -82.06790   \n",
       "1             NaN     26.58742    -82.06785   \n",
       "2             NaN     26.63835    -82.21297   \n",
       "3             NaN     26.83697    -82.09640   \n",
       "4             NaN     26.75800    -82.08850   \n",
       "5             NaN     29.15600    -83.05780   \n",
       "6             NaN     30.07050    -84.10702   \n",
       "7             NaN     26.75900    -82.07900   \n",
       "8             NaN     29.12490    -83.05488   \n",
       "9             NaN     30.05455    -81.33382   \n",
       "\n",
       "                                     ManagedAreaName  Region  \\\n",
       "0                     Matlacha Pass Aquatic Preserve      SW   \n",
       "1                     Matlacha Pass Aquatic Preserve      SW   \n",
       "2                 Pine Island Sound Aquatic Preserve      SW   \n",
       "3  Gasparilla Sound-Charlotte Harbor Aquatic Pres...      SW   \n",
       "4  Gasparilla Sound-Charlotte Harbor Aquatic Pres...      SW   \n",
       "5               Big Bend Seagrasses Aquatic Preserve      NW   \n",
       "6               Big Bend Seagrasses Aquatic Preserve      NW   \n",
       "7  Gasparilla Sound-Charlotte Harbor Aquatic Pres...      SW   \n",
       "8               Big Bend Seagrasses Aquatic Preserve      NW   \n",
       "9  Guana Tolomato Matanzas National Estuarine Res...      NE   \n",
       "\n",
       "   SEACAR_QAQCFlagCode          SEACAR_QAQC_Description Include  \\\n",
       "0                   6Q  6Q - Within threshold tolerance       1   \n",
       "1                   6Q  6Q - Within threshold tolerance       1   \n",
       "2                   6Q  6Q - Within threshold tolerance       1   \n",
       "3                   6Q  6Q - Within threshold tolerance       1   \n",
       "4                   6Q  6Q - Within threshold tolerance       1   \n",
       "5                   6Q  6Q - Within threshold tolerance       1   \n",
       "6                   6Q  6Q - Within threshold tolerance       1   \n",
       "7                   6Q  6Q - Within threshold tolerance       1   \n",
       "8                   6Q  6Q - Within threshold tolerance       1   \n",
       "9                   6Q  6Q - Within threshold tolerance       1   \n",
       "\n",
       "                         SEACAR_EventID AreaID  \n",
       "0  3521AFD2-7CB5-472C-9F0A-094711354B17     28  \n",
       "1  4F7FAE89-44E6-4527-B780-62604BEDA08E     28  \n",
       "2  135985C4-315B-430F-B56A-BCBA0ECEE7B8     34  \n",
       "3  ED7F7EC6-3254-4768-9CCC-7744025DFE2F     18  \n",
       "4  B3933D86-BB5A-4431-AC1C-3793B782E615     18  \n",
       "5  1A60C295-45C3-4E94-890A-EA5C81D67148      5  \n",
       "6  5EA61E99-5BC7-448A-A14B-D701AB2FE255      5  \n",
       "7  D1C671D0-CDC6-4138-9412-DE908FEE0240     18  \n",
       "8  B772305E-5E0D-4201-B52E-AB2A821106FF      5  \n",
       "9  A8C3F32D-B255-44A4-AC2D-29F77F9A2E54     20  \n",
       "\n",
       "[10 rows x 31 columns]"
      ]
     },
     "execution_count": 10,
     "metadata": {},
     "output_type": "execute_result"
    }
   ],
   "source": [
    "# ---add codes below---\n",
    "df.head(10)"
   ]
  },
  {
   "cell_type": "markdown",
   "metadata": {},
   "source": [
    "## Step 2: Data Exploration\n",
    "The preview only offer a glance of the data. Next, you will do further exploration of the data using functions in pandas data frame.\n",
    "\n",
    "Print the numbers of rows and columns of the dataframe. If you forgot how, you can google \"Python print numbers of columns and rows of a data frame\", and then find tutorials or example codes."
   ]
  },
  {
   "cell_type": "code",
   "execution_count": 7,
   "metadata": {},
   "outputs": [
    {
     "data": {
      "text/plain": [
       "(1709855, 31)"
      ]
     },
     "execution_count": 7,
     "metadata": {},
     "output_type": "execute_result"
    }
   ],
   "source": [
    "# ---add codes below---\n",
    "df.shape"
   ]
  },
  {
   "cell_type": "markdown",
   "metadata": {},
   "source": [
    "Due to the large data size, we canot print all columns in Jupyter Notebook (columns in the middle is skipped with \"...\"). You can use the `columns` attribute to view all columns in the data frame."
   ]
  },
  {
   "cell_type": "code",
   "execution_count": 60,
   "metadata": {},
   "outputs": [
    {
     "data": {
      "text/plain": [
       "Index(['RowID', 'ProgramID', 'ProgramName', 'DataFileName', 'ParameterName',\n",
       "       'ParameterUnits', 'ProgramLocationID', 'ActivityType', 'SampleDate',\n",
       "       'Year', 'Month', 'ActivityDepth_m', 'RelativeDepth', 'TotalDepth_m',\n",
       "       'ResultValue', 'MDL', 'PQL', 'DetectionUnit', 'ValueQualifier',\n",
       "       'ValueQualifierSource', 'SampleFraction', 'ResultComments',\n",
       "       'Latitude_DD', 'Longitude_DD', 'ManagedAreaName', 'Region',\n",
       "       'SEACAR_QAQCFlagCode', 'SEACAR_QAQC_Description', 'Include',\n",
       "       'SEACAR_EventID', 'AreaID'],\n",
       "      dtype='object')"
      ]
     },
     "execution_count": 60,
     "metadata": {},
     "output_type": "execute_result"
    }
   ],
   "source": [
    "# ---add codes below---\n",
    "df.columns"
   ]
  },
  {
   "cell_type": "markdown",
   "metadata": {},
   "source": [
    "We will mainly use the following columns for our analysis. You don't need to worry about the other columns.\n",
    "- ParameterName: water quality variables been sampled\n",
    "- SampleDate: Sampling dates\n",
    "- Year: Sampling year\n",
    "- Month: Sampling month\n",
    "- ResultValue: Value of the measured varaible\n",
    "- ParameterUnits: Unit of the measured variable\n",
    "- Latitude_DD: Latitude of the sample\n",
    "- Longitude_DD: Longitude of the sample\n",
    "- ManagedAreaName: Management area where the sample is located.\n",
    "\n",
    "The dataset contains water quality data in the entire Florida. But we are only interested in the following five management areas:\n",
    "\n",
    "- Guana Tolomato Matanzas National Estuarine Research Reserve\n",
    "- Biscayne Bay Aquatic Preserve\n",
    "- Estero Bay Aquatic Preserve \n",
    "- Charlotte Harbor-Gasparilla Sound Aquatic Preserves\n",
    "- Big Bend Seagrasses Aquatic Preserve\n",
    "\n",
    "First, let's print unique values in the \"ManagedAreaName\" column. If you don't know how, you can google \"Print unique values in a column\" to find example code."
   ]
  },
  {
   "cell_type": "code",
   "execution_count": 12,
   "metadata": {},
   "outputs": [
    {
     "data": {
      "text/plain": [
       "array(['Matlacha Pass Aquatic Preserve',\n",
       "       'Pine Island Sound Aquatic Preserve',\n",
       "       'Gasparilla Sound-Charlotte Harbor Aquatic Preserve',\n",
       "       'Big Bend Seagrasses Aquatic Preserve',\n",
       "       'Guana Tolomato Matanzas National Estuarine Research Reserve',\n",
       "       'Biscayne Bay Aquatic Preserve', 'Lemon Bay Aquatic Preserve',\n",
       "       'Cape Haze Aquatic Preserve', 'Estero Bay Aquatic Preserve'],\n",
       "      dtype=object)"
      ]
     },
     "execution_count": 12,
     "metadata": {},
     "output_type": "execute_result"
    }
   ],
   "source": [
    "# ---add codes below---\n",
    "df['ManagedAreaName'].unique()"
   ]
  },
  {
   "cell_type": "markdown",
   "metadata": {},
   "source": [
    "Next, we select data in the above mentioned five management areas and assign the selected data in a new data frame `df2`. \n",
    "\n",
    "Note: instead of using Or (|) to connect the five conditions, you need to use the `isin` function to select rows where manage area is in a list of values. You can refer to the example [here](https://www.statology.org/pandas-select-rows-based-on-column-values/) to complete the code."
   ]
  },
  {
   "cell_type": "code",
   "execution_count": 15,
   "metadata": {},
   "outputs": [],
   "source": [
    "# ---add codes below---\n",
    "df2 = df[df['ManagedAreaName'].isin(['Guana Tolomato Matanzas National Estuarine Research Reserve',\n",
    "                                     'Biscayne Bay Aquatic Preserve',\n",
    "                                     'Estero Bay Aquatic Preserve',\n",
    "                                     'Charlotte Harbor-Gasparilla Sound Aquatic Preserves',\n",
    "                                     'Big Bend Seagrasses Aquatic Preserve'])]"
   ]
  },
  {
   "cell_type": "markdown",
   "metadata": {},
   "source": [
    "Print the row numbers of df and df2 to view the difference. df2 is essentially a subset of df1."
   ]
  },
  {
   "cell_type": "code",
   "execution_count": 16,
   "metadata": {},
   "outputs": [
    {
     "name": "stdout",
     "output_type": "stream",
     "text": [
      "(1709855, 31)\n",
      "(1029898, 31)\n"
     ]
    }
   ],
   "source": [
    "# Print numbers of columns & rows in df\n",
    "print(df.shape)\n",
    "\n",
    "# Print numbers of columns & rows in df2\n",
    "print(df2.shape)"
   ]
  },
  {
   "cell_type": "markdown",
   "metadata": {},
   "source": [
    "Please follow the above steps to select rows in df2 that contain water quality variables (ParameterName) of salinity, total Nitrogen, dissolved oxygen, turbidity, and secchi depth. You need to print the unique values in the ParameterName column to see what variables are available. Then, use the `isin` function to select rows including the desired variables. Finally, assign the selected rows in a new data frame `df3`."
   ]
  },
  {
   "cell_type": "code",
   "execution_count": 17,
   "metadata": {},
   "outputs": [
    {
     "data": {
      "text/plain": [
       "array(['Chlorophyll a uncorrected for pheophytin', 'Dissolved Oxygen',\n",
       "       'Dissolved Oxygen Saturation', 'NO2+3 Filtered', 'pH', 'Salinity',\n",
       "       'Secchi Depth', 'Specific Conductivity',\n",
       "       'Total Kjeldahl Nitrogen TKN', 'Water Temperature', 'Turbidity',\n",
       "       'Light Extinction Coefficient', 'Total Phosphorus',\n",
       "       'Total Suspended Solids, TSS',\n",
       "       'Chlorophyll a corrected for pheophytin', 'NH4 Filtered',\n",
       "       'PO4 Filtered', 'Colored dissolved organic matter, CDOM',\n",
       "       'Total Nitrogen', 'Nitrite (N)', 'Nitrate (N)',\n",
       "       'Nitrogen, organic'], dtype=object)"
      ]
     },
     "execution_count": 17,
     "metadata": {},
     "output_type": "execute_result"
    }
   ],
   "source": [
    "# ---add codes below---\n",
    "df2['ParameterName'].unique()"
   ]
  },
  {
   "cell_type": "code",
   "execution_count": 18,
   "metadata": {},
   "outputs": [],
   "source": [
    "# ---add codes below---\n",
    "df3 = df2[df2['ParameterName'].isin(['Dissolved Oxygen','Salinity','Turbidity','Secchi Depth','Total Nitrogen'])]"
   ]
  },
  {
   "cell_type": "markdown",
   "metadata": {},
   "source": [
    "Print the numbers of rows and columns in df3"
   ]
  },
  {
   "cell_type": "code",
   "execution_count": 19,
   "metadata": {
    "scrolled": true
   },
   "outputs": [
    {
     "data": {
      "text/plain": [
       "(502299, 31)"
      ]
     },
     "execution_count": 19,
     "metadata": {},
     "output_type": "execute_result"
    }
   ],
   "source": [
    "# ---add codes below---\n",
    "df3.shape"
   ]
  },
  {
   "cell_type": "markdown",
   "metadata": {},
   "source": [
    "## Step 3: Data Aggregation"
   ]
  },
  {
   "cell_type": "markdown",
   "metadata": {},
   "source": [
    "Now, df3 contains the data (in the 5 management area and 5 WQ variables) that we are interested. Next, we will aggregate the daily water quality data into weekly, monthly, and yearly data."
   ]
  },
  {
   "cell_type": "markdown",
   "metadata": {},
   "source": [
    "First, we convert the `SampleDate` column from string to the datatime object, which will allow computation based on data and time."
   ]
  },
  {
   "cell_type": "code",
   "execution_count": 22,
   "metadata": {},
   "outputs": [
    {
     "name": "stderr",
     "output_type": "stream",
     "text": [
      "C:\\Users\\yi\\AppData\\Local\\Temp/ipykernel_29732/1548954083.py:1: SettingWithCopyWarning: \n",
      "A value is trying to be set on a copy of a slice from a DataFrame.\n",
      "Try using .loc[row_indexer,col_indexer] = value instead\n",
      "\n",
      "See the caveats in the documentation: https://pandas.pydata.org/pandas-docs/stable/user_guide/indexing.html#returning-a-view-versus-a-copy\n",
      "  df3['timestamp'] = pd.to_datetime(df3['SampleDate'])\n"
     ]
    }
   ],
   "source": [
    "df3['timestamp'] = pd.to_datetime(df3['SampleDate'])"
   ]
  },
  {
   "cell_type": "markdown",
   "metadata": {},
   "source": [
    "Next, we group the data by weeks. Here, the pandas grouper function is used to count the number of data samples in a weekly frequency (using the `.count()` function). `freq = 'W'` means weekly frequency. Please find [here](https://pandas.pydata.org/pandas-docs/stable/user_guide/timeseries.html#offset-aliases) for other frequency parameters."
   ]
  },
  {
   "cell_type": "code",
   "execution_count": 32,
   "metadata": {},
   "outputs": [],
   "source": [
    "weekly_count = df3.groupby(['ParameterName', pd.Grouper(key='timestamp', freq='W')])[\n",
    "    'ResultValue'].count().reset_index().sort_values('timestamp')"
   ]
  },
  {
   "cell_type": "code",
   "execution_count": 33,
   "metadata": {},
   "outputs": [
    {
     "data": {
      "text/html": [
       "<div>\n",
       "<style scoped>\n",
       "    .dataframe tbody tr th:only-of-type {\n",
       "        vertical-align: middle;\n",
       "    }\n",
       "\n",
       "    .dataframe tbody tr th {\n",
       "        vertical-align: top;\n",
       "    }\n",
       "\n",
       "    .dataframe thead th {\n",
       "        text-align: right;\n",
       "    }\n",
       "</style>\n",
       "<table border=\"1\" class=\"dataframe\">\n",
       "  <thead>\n",
       "    <tr style=\"text-align: right;\">\n",
       "      <th></th>\n",
       "      <th>ParameterName</th>\n",
       "      <th>timestamp</th>\n",
       "      <th>Count</th>\n",
       "    </tr>\n",
       "  </thead>\n",
       "  <tbody>\n",
       "    <tr>\n",
       "      <th>1533</th>\n",
       "      <td>Salinity</td>\n",
       "      <td>1963-12-08</td>\n",
       "      <td>2</td>\n",
       "    </tr>\n",
       "    <tr>\n",
       "      <th>1534</th>\n",
       "      <td>Salinity</td>\n",
       "      <td>1964-02-09</td>\n",
       "      <td>2</td>\n",
       "    </tr>\n",
       "    <tr>\n",
       "      <th>1535</th>\n",
       "      <td>Salinity</td>\n",
       "      <td>1964-03-08</td>\n",
       "      <td>2</td>\n",
       "    </tr>\n",
       "    <tr>\n",
       "      <th>1536</th>\n",
       "      <td>Salinity</td>\n",
       "      <td>1964-04-12</td>\n",
       "      <td>2</td>\n",
       "    </tr>\n",
       "    <tr>\n",
       "      <th>1537</th>\n",
       "      <td>Salinity</td>\n",
       "      <td>1964-05-10</td>\n",
       "      <td>2</td>\n",
       "    </tr>\n",
       "    <tr>\n",
       "      <th>...</th>\n",
       "      <td>...</td>\n",
       "      <td>...</td>\n",
       "      <td>...</td>\n",
       "    </tr>\n",
       "    <tr>\n",
       "      <th>4258</th>\n",
       "      <td>Secchi Depth</td>\n",
       "      <td>2022-01-16</td>\n",
       "      <td>2</td>\n",
       "    </tr>\n",
       "    <tr>\n",
       "      <th>1531</th>\n",
       "      <td>Dissolved Oxygen</td>\n",
       "      <td>2022-01-23</td>\n",
       "      <td>1</td>\n",
       "    </tr>\n",
       "    <tr>\n",
       "      <th>5635</th>\n",
       "      <td>Total Nitrogen</td>\n",
       "      <td>2022-01-23</td>\n",
       "      <td>1</td>\n",
       "    </tr>\n",
       "    <tr>\n",
       "      <th>7068</th>\n",
       "      <td>Turbidity</td>\n",
       "      <td>2022-01-23</td>\n",
       "      <td>1</td>\n",
       "    </tr>\n",
       "    <tr>\n",
       "      <th>1532</th>\n",
       "      <td>Dissolved Oxygen</td>\n",
       "      <td>2022-01-30</td>\n",
       "      <td>1</td>\n",
       "    </tr>\n",
       "  </tbody>\n",
       "</table>\n",
       "<p>7069 rows × 3 columns</p>\n",
       "</div>"
      ],
      "text/plain": [
       "         ParameterName  timestamp  Count\n",
       "1533          Salinity 1963-12-08      2\n",
       "1534          Salinity 1964-02-09      2\n",
       "1535          Salinity 1964-03-08      2\n",
       "1536          Salinity 1964-04-12      2\n",
       "1537          Salinity 1964-05-10      2\n",
       "...                ...        ...    ...\n",
       "4258      Secchi Depth 2022-01-16      2\n",
       "1531  Dissolved Oxygen 2022-01-23      1\n",
       "5635    Total Nitrogen 2022-01-23      1\n",
       "7068         Turbidity 2022-01-23      1\n",
       "1532  Dissolved Oxygen 2022-01-30      1\n",
       "\n",
       "[7069 rows x 3 columns]"
      ]
     },
     "execution_count": 33,
     "metadata": {},
     "output_type": "execute_result"
    }
   ],
   "source": [
    "weekly_count = weekly_count.rename(columns={\"ResultValue\": \"Count\"})\n",
    "weekly_count"
   ]
  },
  {
   "cell_type": "markdown",
   "metadata": {},
   "source": [
    "Next, please modify the above codes to calculate the mean, maximum, minimum and standard deviation of the data in weekly, monthly, and yearly frequencies."
   ]
  },
  {
   "cell_type": "code",
   "execution_count": 36,
   "metadata": {},
   "outputs": [
    {
     "data": {
      "text/html": [
       "<div>\n",
       "<style scoped>\n",
       "    .dataframe tbody tr th:only-of-type {\n",
       "        vertical-align: middle;\n",
       "    }\n",
       "\n",
       "    .dataframe tbody tr th {\n",
       "        vertical-align: top;\n",
       "    }\n",
       "\n",
       "    .dataframe thead th {\n",
       "        text-align: right;\n",
       "    }\n",
       "</style>\n",
       "<table border=\"1\" class=\"dataframe\">\n",
       "  <thead>\n",
       "    <tr style=\"text-align: right;\">\n",
       "      <th></th>\n",
       "      <th>ParameterName</th>\n",
       "      <th>timestamp</th>\n",
       "      <th>ResultValue</th>\n",
       "    </tr>\n",
       "  </thead>\n",
       "  <tbody>\n",
       "    <tr>\n",
       "      <th>417</th>\n",
       "      <td>Salinity</td>\n",
       "      <td>1963-12-31</td>\n",
       "      <td>34.500000</td>\n",
       "    </tr>\n",
       "    <tr>\n",
       "      <th>418</th>\n",
       "      <td>Salinity</td>\n",
       "      <td>1964-02-29</td>\n",
       "      <td>32.950000</td>\n",
       "    </tr>\n",
       "    <tr>\n",
       "      <th>419</th>\n",
       "      <td>Salinity</td>\n",
       "      <td>1964-03-31</td>\n",
       "      <td>33.850000</td>\n",
       "    </tr>\n",
       "    <tr>\n",
       "      <th>420</th>\n",
       "      <td>Salinity</td>\n",
       "      <td>1964-04-30</td>\n",
       "      <td>36.400000</td>\n",
       "    </tr>\n",
       "    <tr>\n",
       "      <th>421</th>\n",
       "      <td>Salinity</td>\n",
       "      <td>1964-05-31</td>\n",
       "      <td>37.850000</td>\n",
       "    </tr>\n",
       "    <tr>\n",
       "      <th>...</th>\n",
       "      <td>...</td>\n",
       "      <td>...</td>\n",
       "      <td>...</td>\n",
       "    </tr>\n",
       "    <tr>\n",
       "      <th>1136</th>\n",
       "      <td>Secchi Depth</td>\n",
       "      <td>2022-01-31</td>\n",
       "      <td>0.612500</td>\n",
       "    </tr>\n",
       "    <tr>\n",
       "      <th>800</th>\n",
       "      <td>Salinity</td>\n",
       "      <td>2022-01-31</td>\n",
       "      <td>28.642000</td>\n",
       "    </tr>\n",
       "    <tr>\n",
       "      <th>1518</th>\n",
       "      <td>Total Nitrogen</td>\n",
       "      <td>2022-01-31</td>\n",
       "      <td>0.984667</td>\n",
       "    </tr>\n",
       "    <tr>\n",
       "      <th>416</th>\n",
       "      <td>Dissolved Oxygen</td>\n",
       "      <td>2022-01-31</td>\n",
       "      <td>6.251667</td>\n",
       "    </tr>\n",
       "    <tr>\n",
       "      <th>1904</th>\n",
       "      <td>Turbidity</td>\n",
       "      <td>2022-01-31</td>\n",
       "      <td>35.100000</td>\n",
       "    </tr>\n",
       "  </tbody>\n",
       "</table>\n",
       "<p>1905 rows × 3 columns</p>\n",
       "</div>"
      ],
      "text/plain": [
       "         ParameterName  timestamp  ResultValue\n",
       "417           Salinity 1963-12-31    34.500000\n",
       "418           Salinity 1964-02-29    32.950000\n",
       "419           Salinity 1964-03-31    33.850000\n",
       "420           Salinity 1964-04-30    36.400000\n",
       "421           Salinity 1964-05-31    37.850000\n",
       "...                ...        ...          ...\n",
       "1136      Secchi Depth 2022-01-31     0.612500\n",
       "800           Salinity 2022-01-31    28.642000\n",
       "1518    Total Nitrogen 2022-01-31     0.984667\n",
       "416   Dissolved Oxygen 2022-01-31     6.251667\n",
       "1904         Turbidity 2022-01-31    35.100000\n",
       "\n",
       "[1905 rows x 3 columns]"
      ]
     },
     "execution_count": 36,
     "metadata": {},
     "output_type": "execute_result"
    }
   ],
   "source": [
    "monthly_mean = df3.groupby(['ParameterName', pd.Grouper(key='timestamp', freq='M')])[\n",
    "    'ResultValue'].mean().reset_index().sort_values('timestamp')\n",
    "\n",
    "monthly_mean"
   ]
  },
  {
   "cell_type": "code",
   "execution_count": 39,
   "metadata": {},
   "outputs": [],
   "source": [
    "yearly_std = df3.groupby(['ParameterName', pd.Grouper(key='timestamp', freq='Y')])[\n",
    "    'ResultValue'].std().reset_index().sort_values('timestamp')\n",
    "\n",
    "yearly_std =yearly_std.rename(columns={\"ResultValue\":\"Yearly STD\"})"
   ]
  },
  {
   "cell_type": "code",
   "execution_count": 40,
   "metadata": {},
   "outputs": [
    {
     "data": {
      "text/html": [
       "<div>\n",
       "<style scoped>\n",
       "    .dataframe tbody tr th:only-of-type {\n",
       "        vertical-align: middle;\n",
       "    }\n",
       "\n",
       "    .dataframe tbody tr th {\n",
       "        vertical-align: top;\n",
       "    }\n",
       "\n",
       "    .dataframe thead th {\n",
       "        text-align: right;\n",
       "    }\n",
       "</style>\n",
       "<table border=\"1\" class=\"dataframe\">\n",
       "  <thead>\n",
       "    <tr style=\"text-align: right;\">\n",
       "      <th></th>\n",
       "      <th>ParameterName</th>\n",
       "      <th>timestamp</th>\n",
       "      <th>Yearly STD</th>\n",
       "    </tr>\n",
       "  </thead>\n",
       "  <tbody>\n",
       "    <tr>\n",
       "      <th>42</th>\n",
       "      <td>Salinity</td>\n",
       "      <td>1963-12-31</td>\n",
       "      <td>0.282843</td>\n",
       "    </tr>\n",
       "    <tr>\n",
       "      <th>43</th>\n",
       "      <td>Salinity</td>\n",
       "      <td>1964-12-31</td>\n",
       "      <td>3.112679</td>\n",
       "    </tr>\n",
       "    <tr>\n",
       "      <th>44</th>\n",
       "      <td>Salinity</td>\n",
       "      <td>1967-12-31</td>\n",
       "      <td>3.672435</td>\n",
       "    </tr>\n",
       "    <tr>\n",
       "      <th>0</th>\n",
       "      <td>Dissolved Oxygen</td>\n",
       "      <td>1970-12-31</td>\n",
       "      <td>0.967321</td>\n",
       "    </tr>\n",
       "    <tr>\n",
       "      <th>1</th>\n",
       "      <td>Dissolved Oxygen</td>\n",
       "      <td>1971-12-31</td>\n",
       "      <td>1.147834</td>\n",
       "    </tr>\n",
       "    <tr>\n",
       "      <th>...</th>\n",
       "      <td>...</td>\n",
       "      <td>...</td>\n",
       "      <td>...</td>\n",
       "    </tr>\n",
       "    <tr>\n",
       "      <th>41</th>\n",
       "      <td>Dissolved Oxygen</td>\n",
       "      <td>2022-12-31</td>\n",
       "      <td>3.131335</td>\n",
       "    </tr>\n",
       "    <tr>\n",
       "      <th>119</th>\n",
       "      <td>Secchi Depth</td>\n",
       "      <td>2022-12-31</td>\n",
       "      <td>0.322426</td>\n",
       "    </tr>\n",
       "    <tr>\n",
       "      <th>85</th>\n",
       "      <td>Salinity</td>\n",
       "      <td>2022-12-31</td>\n",
       "      <td>5.685074</td>\n",
       "    </tr>\n",
       "    <tr>\n",
       "      <th>152</th>\n",
       "      <td>Total Nitrogen</td>\n",
       "      <td>2022-12-31</td>\n",
       "      <td>1.144308</td>\n",
       "    </tr>\n",
       "    <tr>\n",
       "      <th>187</th>\n",
       "      <td>Turbidity</td>\n",
       "      <td>2022-12-31</td>\n",
       "      <td>55.393231</td>\n",
       "    </tr>\n",
       "  </tbody>\n",
       "</table>\n",
       "<p>188 rows × 3 columns</p>\n",
       "</div>"
      ],
      "text/plain": [
       "        ParameterName  timestamp  Yearly STD\n",
       "42           Salinity 1963-12-31    0.282843\n",
       "43           Salinity 1964-12-31    3.112679\n",
       "44           Salinity 1967-12-31    3.672435\n",
       "0    Dissolved Oxygen 1970-12-31    0.967321\n",
       "1    Dissolved Oxygen 1971-12-31    1.147834\n",
       "..                ...        ...         ...\n",
       "41   Dissolved Oxygen 2022-12-31    3.131335\n",
       "119      Secchi Depth 2022-12-31    0.322426\n",
       "85           Salinity 2022-12-31    5.685074\n",
       "152    Total Nitrogen 2022-12-31    1.144308\n",
       "187         Turbidity 2022-12-31   55.393231\n",
       "\n",
       "[188 rows x 3 columns]"
      ]
     },
     "execution_count": 40,
     "metadata": {},
     "output_type": "execute_result"
    }
   ],
   "source": [
    "yearly_std"
   ]
  }
 ],
 "metadata": {
  "kernelspec": {
   "display_name": "Python 3 (ipykernel)",
   "language": "python",
   "name": "python3"
  },
  "language_info": {
   "codemirror_mode": {
    "name": "ipython",
    "version": 3
   },
   "file_extension": ".py",
   "mimetype": "text/x-python",
   "name": "python",
   "nbconvert_exporter": "python",
   "pygments_lexer": "ipython3",
   "version": "3.10.4"
  }
 },
 "nbformat": 4,
 "nbformat_minor": 4
}
