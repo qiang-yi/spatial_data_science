{
 "cells": [
  {
   "cell_type": "markdown",
   "metadata": {},
   "source": [
    "## Spatial Data Science (GIS6307/GEO4930)\n",
    "\n",
    "\n",
    "<br>\n",
    "Instructor: Yi Qiang (qiangy@usf.edu)<br>\n",
    "Teaching Assistant: Jinwen Xu (jinwenxu@usf.edu)\n",
    "\n",
    "---\n",
    "\n",
    "# Workshop on Spatial Analysis of Twitter\n",
    "\n",
    "This workshop will help you to get started with the acquisition, processing, and analysis of Twitter data using data science techniques. Specifically, you will learn:\n",
    "\n",
    "- Streaming real-time tweets using Twitter Developer APIs.\n",
    "- Processing the raw tweets into an analyzable form.\n",
    "- Basic mapping, spatial analysis and natural language processing for Twitter data.\n",
    "\n",
    "### Prerequisite\n",
    "- Install Anaconda in your computer.\n",
    "- Activation of Twitter Developer Account and approved **Elevated Access** before the workshop.\n",
    "- Basic programming skills are recommended, but not required.\n",
    "\n",
    "\n"
   ]
  },
  {
   "cell_type": "markdown",
   "metadata": {},
   "source": [
    "## 1. Install Python Libraries\n",
    "\n",
    "We will need two new libraries [tweepy](https://www.tweepy.org/) and [folium](https://plotly.com/python/) for this lab. Please do the following steps to install these two libarries.\n",
    "\n",
    "1. Please open Anaconda Prompt, and use the command `conda activate geo` to activate the \"geo\" environment that you created in the previous lab. \n",
    "\n",
    "2. Install tweepy using the following command:\n",
    "\n",
    "    `conda install -c conda-forge tweepy`\n",
    "    \n",
    "    If the above command doesn't work, please try the following one:\n",
    "    \n",
    "    `conda install -c conda-forge folium`\n",
    "    \n",
    "    Click 'y' and then 'Enter' when asked to proceed.\n",
    "    \n",
    "3. Install contextily using the following command:\n",
    "\n",
    "    `conda install -c plotly plotly`\n",
    "    \n",
    "4. Run the following code to import the installed libraries and other needed libraries. If the code runs through, the libraries are installed successfully."
   ]
  },
  {
   "cell_type": "code",
   "execution_count": 3,
   "metadata": {},
   "outputs": [],
   "source": [
    "# Run the following lines if there is an error loading basemap\n",
    "# import os\n",
    "# os.environ['PROJ_LIB'] = '~your anaconda 3 path/Anaconda3/Library/share/'\n",
    "\n",
    "import tweepy\n",
    "import folium\n",
    "import pandas as pd\n",
    "\n",
    "#from mpl_toolkits.basemap import Basemap\n",
    "import matplotlib.pyplot as plt"
   ]
  },
  {
   "cell_type": "markdown",
   "metadata": {},
   "source": [
    "## 2. Set-Up the Connection to Twitter APIs\n",
    "\n",
    "Go to Twitter Developer Portal (https://developer.twitter.com/en/apps). Click the App you created in account activation.\n",
    "\n",
    "If you haven't created an App when you created the account, you can create one in the project.\n",
    "\n",
    "Click `Sign up`.\n",
    "\n",
    "![](../image/twitter/signup3.jpg)\n",
    "\n",
    "Turn on `OAuth 1.0a` and keep `OAuth 2.0` off. \n",
    "\n",
    "![](../image/twitter/OAuth.jpg)\n",
    "\n",
    "Select \"Read and write and Direct message\". You can use \"http://127.0.0.1:8080\" as Callback URL. Add any website as the website URL (e.g. your personal website or https://google.com).\n",
    "\n",
    "![](../image/twitter/setting.jpg)\n",
    "\n",
    "Copy the API keys you have saved when you activated your Developer account, and paste them to replace \"......\" below. If you can't find them, you can **regenerate** the keys and tokens in your Developer Portal. \n",
    "\n",
    "![](../image/twitter/keys2.jpg)\n",
    "\n",
    "Generate your Access Token and Secret and paste them below."
   ]
  },
  {
   "cell_type": "code",
   "execution_count": 13,
   "metadata": {},
   "outputs": [],
   "source": [
    "# paste your API keys and tokens to replace ......\n",
    "# API_key = 'aOLqeAcCKvMRhKLZBIKADW2rW'\n",
    "# API_key_secret = 'b1lOWTIy3Vfb5C2OS4S9wXP3BYzugrPs50i4oIqWmn1tcdORaT'\n",
    "# access_token = '1508096832806731780-wIo5pKdrys6o1qoX7LETloH1tRirkS'\n",
    "# access_token_secret = 'U4g0XQiGxGXnwN2Y5T2ePqKdxhS91jcHy2Zc5jqBEJ9V8'\n",
    "\n",
    "API_key = 'gmDPt4mHl24zKIWeabwu1ebDs'\n",
    "API_key_secret = '2Wx9lIi37wAH8oCHyS6Lw5dzboif7B8xxjMP3lnaGsKCIbtoEC'\n",
    "access_token = '1343615702809374721-nBEV6K4qlSvkUFWpxhjn2Q3Gf5WpaL'\n",
    "access_token_secret = 'z2dTOARM5FpdIMqOP9IzRwM9bzCvFNh9UhgvOD8WkquTc'"
   ]
  },
  {
   "cell_type": "markdown",
   "metadata": {},
   "source": [
    "Set up for Twitter authentication."
   ]
  },
  {
   "cell_type": "code",
   "execution_count": 14,
   "metadata": {},
   "outputs": [],
   "source": [
    "auth = tweepy.OAuthHandler(API_key, API_key_secret)\n",
    "auth.set_access_token(access_token, access_token_secret)"
   ]
  },
  {
   "cell_type": "markdown",
   "metadata": {},
   "source": [
    "Set up tweepy API and set rate limit to be true."
   ]
  },
  {
   "cell_type": "code",
   "execution_count": 15,
   "metadata": {},
   "outputs": [],
   "source": [
    "api = tweepy.API(auth, wait_on_rate_limit=True)"
   ]
  },
  {
   "cell_type": "markdown",
   "metadata": {},
   "source": [
    "---"
   ]
  },
  {
   "cell_type": "markdown",
   "metadata": {},
   "source": [
    "## 3. Simple Operations with Twitter APIs\n",
    "\n",
    "Now, your working environment is set up for Twitter analysis. Let's first try a few simple operations to acquire Twitter data in a programmatic way.\n",
    "\n",
    "The full functionalities of Twitter API and Tweepy can be found in:\n",
    "\n",
    "- [Twitter APIs](https://developer.twitter.com/en/docs.html)\n",
    "- [Tweepy documentation](http://docs.tweepy.org/en/v4.8.0/)"
   ]
  },
  {
   "cell_type": "markdown",
   "metadata": {},
   "source": [
    "### 3.1 Posting/Deleting a Tweet\n",
    "\n",
    "First, let's post a message in your Twitter account.\n",
    "\n",
    "**Note**: if you don't want to disturb your followers with a meanless tweet, don't run the following block of code."
   ]
  },
  {
   "cell_type": "code",
   "execution_count": 16,
   "metadata": {},
   "outputs": [],
   "source": [
    "# Post a tweet from Python\n",
    "test_tweet = api.update_status(\"DRILL: I'm creating a robot to tweet!\")"
   ]
  },
  {
   "cell_type": "markdown",
   "metadata": {},
   "source": [
    "Check your Twitter account, and you'll see the above message is posted.\n",
    "\n",
    "![](../image/twitter/tweet.jpg)\n",
    "\n",
    "\n",
    "Tweets are encoded in a JSON (JavaScript Object Notation) format. You can run the following code to check the content of the tweet you just posted."
   ]
  },
  {
   "cell_type": "code",
   "execution_count": 17,
   "metadata": {},
   "outputs": [
    {
     "data": {
      "text/plain": [
       "{'created_at': 'Thu Mar 31 01:21:40 +0000 2022',\n",
       " 'id': 1509340116334133249,\n",
       " 'id_str': '1509340116334133249',\n",
       " 'text': \"DRILL: I'm creating a robot to tweet!\",\n",
       " 'truncated': False,\n",
       " 'entities': {'hashtags': [], 'symbols': [], 'user_mentions': [], 'urls': []},\n",
       " 'source': '<a href=\"https://google.com\" rel=\"nofollow\">GIS6307</a>',\n",
       " 'in_reply_to_status_id': None,\n",
       " 'in_reply_to_status_id_str': None,\n",
       " 'in_reply_to_user_id': None,\n",
       " 'in_reply_to_user_id_str': None,\n",
       " 'in_reply_to_screen_name': None,\n",
       " 'user': {'id': 1343615702809374721,\n",
       "  'id_str': '1343615702809374721',\n",
       "  'name': 'alex',\n",
       "  'screen_name': 'alex32348132',\n",
       "  'location': '',\n",
       "  'description': 'me',\n",
       "  'url': None,\n",
       "  'entities': {'description': {'urls': []}},\n",
       "  'protected': False,\n",
       "  'followers_count': 0,\n",
       "  'friends_count': 9,\n",
       "  'listed_count': 2,\n",
       "  'created_at': 'Mon Dec 28 17:52:11 +0000 2020',\n",
       "  'favourites_count': 1,\n",
       "  'utc_offset': None,\n",
       "  'time_zone': None,\n",
       "  'geo_enabled': False,\n",
       "  'verified': False,\n",
       "  'statuses_count': 1,\n",
       "  'lang': None,\n",
       "  'contributors_enabled': False,\n",
       "  'is_translator': False,\n",
       "  'is_translation_enabled': False,\n",
       "  'profile_background_color': 'F5F8FA',\n",
       "  'profile_background_image_url': None,\n",
       "  'profile_background_image_url_https': None,\n",
       "  'profile_background_tile': False,\n",
       "  'profile_image_url': 'http://abs.twimg.com/sticky/default_profile_images/default_profile_normal.png',\n",
       "  'profile_image_url_https': 'https://abs.twimg.com/sticky/default_profile_images/default_profile_normal.png',\n",
       "  'profile_link_color': '1DA1F2',\n",
       "  'profile_sidebar_border_color': 'C0DEED',\n",
       "  'profile_sidebar_fill_color': 'DDEEF6',\n",
       "  'profile_text_color': '333333',\n",
       "  'profile_use_background_image': True,\n",
       "  'has_extended_profile': True,\n",
       "  'default_profile': True,\n",
       "  'default_profile_image': True,\n",
       "  'following': False,\n",
       "  'follow_request_sent': False,\n",
       "  'notifications': False,\n",
       "  'translator_type': 'none',\n",
       "  'withheld_in_countries': []},\n",
       " 'geo': None,\n",
       " 'coordinates': None,\n",
       " 'place': None,\n",
       " 'contributors': None,\n",
       " 'is_quote_status': False,\n",
       " 'retweet_count': 0,\n",
       " 'favorite_count': 0,\n",
       " 'favorited': False,\n",
       " 'retweeted': False,\n",
       " 'lang': 'en'}"
      ]
     },
     "execution_count": 17,
     "metadata": {},
     "output_type": "execute_result"
    }
   ],
   "source": [
    "test_tweet._json"
   ]
  },
  {
   "cell_type": "markdown",
   "metadata": {},
   "source": [
    "You can run the following code to delete the tweet you just posted."
   ]
  },
  {
   "cell_type": "code",
   "execution_count": 18,
   "metadata": {},
   "outputs": [
    {
     "data": {
      "text/plain": [
       "Status(_api=<tweepy.api.API object at 0x00000245F4D7F6D0>, _json={'created_at': 'Thu Mar 31 01:21:40 +0000 2022', 'id': 1509340116334133249, 'id_str': '1509340116334133249', 'text': \"DRILL: I'm creating a robot to tweet!\", 'truncated': False, 'entities': {'hashtags': [], 'symbols': [], 'user_mentions': [], 'urls': []}, 'source': '<a href=\"https://google.com\" rel=\"nofollow\">GIS6307</a>', 'in_reply_to_status_id': None, 'in_reply_to_status_id_str': None, 'in_reply_to_user_id': None, 'in_reply_to_user_id_str': None, 'in_reply_to_screen_name': None, 'user': {'id': 1343615702809374721, 'id_str': '1343615702809374721', 'name': 'alex', 'screen_name': 'alex32348132', 'location': '', 'description': 'me', 'url': None, 'entities': {'description': {'urls': []}}, 'protected': False, 'followers_count': 0, 'friends_count': 9, 'listed_count': 2, 'created_at': 'Mon Dec 28 17:52:11 +0000 2020', 'favourites_count': 1, 'utc_offset': None, 'time_zone': None, 'geo_enabled': False, 'verified': False, 'statuses_count': 1, 'lang': None, 'contributors_enabled': False, 'is_translator': False, 'is_translation_enabled': False, 'profile_background_color': 'F5F8FA', 'profile_background_image_url': None, 'profile_background_image_url_https': None, 'profile_background_tile': False, 'profile_image_url': 'http://abs.twimg.com/sticky/default_profile_images/default_profile_normal.png', 'profile_image_url_https': 'https://abs.twimg.com/sticky/default_profile_images/default_profile_normal.png', 'profile_link_color': '1DA1F2', 'profile_sidebar_border_color': 'C0DEED', 'profile_sidebar_fill_color': 'DDEEF6', 'profile_text_color': '333333', 'profile_use_background_image': True, 'has_extended_profile': True, 'default_profile': True, 'default_profile_image': True, 'following': False, 'follow_request_sent': False, 'notifications': False, 'translator_type': 'none', 'withheld_in_countries': []}, 'geo': None, 'coordinates': None, 'place': None, 'contributors': None, 'is_quote_status': False, 'retweet_count': 0, 'favorite_count': 0, 'favorited': False, 'retweeted': False, 'lang': 'en'}, created_at=datetime.datetime(2022, 3, 31, 1, 21, 40, tzinfo=datetime.timezone.utc), id=1509340116334133249, id_str='1509340116334133249', text=\"DRILL: I'm creating a robot to tweet!\", truncated=False, entities={'hashtags': [], 'symbols': [], 'user_mentions': [], 'urls': []}, source='GIS6307', source_url='https://google.com', in_reply_to_status_id=None, in_reply_to_status_id_str=None, in_reply_to_user_id=None, in_reply_to_user_id_str=None, in_reply_to_screen_name=None, author=User(_api=<tweepy.api.API object at 0x00000245F4D7F6D0>, _json={'id': 1343615702809374721, 'id_str': '1343615702809374721', 'name': 'alex', 'screen_name': 'alex32348132', 'location': '', 'description': 'me', 'url': None, 'entities': {'description': {'urls': []}}, 'protected': False, 'followers_count': 0, 'friends_count': 9, 'listed_count': 2, 'created_at': 'Mon Dec 28 17:52:11 +0000 2020', 'favourites_count': 1, 'utc_offset': None, 'time_zone': None, 'geo_enabled': False, 'verified': False, 'statuses_count': 1, 'lang': None, 'contributors_enabled': False, 'is_translator': False, 'is_translation_enabled': False, 'profile_background_color': 'F5F8FA', 'profile_background_image_url': None, 'profile_background_image_url_https': None, 'profile_background_tile': False, 'profile_image_url': 'http://abs.twimg.com/sticky/default_profile_images/default_profile_normal.png', 'profile_image_url_https': 'https://abs.twimg.com/sticky/default_profile_images/default_profile_normal.png', 'profile_link_color': '1DA1F2', 'profile_sidebar_border_color': 'C0DEED', 'profile_sidebar_fill_color': 'DDEEF6', 'profile_text_color': '333333', 'profile_use_background_image': True, 'has_extended_profile': True, 'default_profile': True, 'default_profile_image': True, 'following': False, 'follow_request_sent': False, 'notifications': False, 'translator_type': 'none', 'withheld_in_countries': []}, id=1343615702809374721, id_str='1343615702809374721', name='alex', screen_name='alex32348132', location='', description='me', url=None, entities={'description': {'urls': []}}, protected=False, followers_count=0, friends_count=9, listed_count=2, created_at=datetime.datetime(2020, 12, 28, 17, 52, 11, tzinfo=datetime.timezone.utc), favourites_count=1, utc_offset=None, time_zone=None, geo_enabled=False, verified=False, statuses_count=1, lang=None, contributors_enabled=False, is_translator=False, is_translation_enabled=False, profile_background_color='F5F8FA', profile_background_image_url=None, profile_background_image_url_https=None, profile_background_tile=False, profile_image_url='http://abs.twimg.com/sticky/default_profile_images/default_profile_normal.png', profile_image_url_https='https://abs.twimg.com/sticky/default_profile_images/default_profile_normal.png', profile_link_color='1DA1F2', profile_sidebar_border_color='C0DEED', profile_sidebar_fill_color='DDEEF6', profile_text_color='333333', profile_use_background_image=True, has_extended_profile=True, default_profile=True, default_profile_image=True, following=False, follow_request_sent=False, notifications=False, translator_type='none', withheld_in_countries=[]), user=User(_api=<tweepy.api.API object at 0x00000245F4D7F6D0>, _json={'id': 1343615702809374721, 'id_str': '1343615702809374721', 'name': 'alex', 'screen_name': 'alex32348132', 'location': '', 'description': 'me', 'url': None, 'entities': {'description': {'urls': []}}, 'protected': False, 'followers_count': 0, 'friends_count': 9, 'listed_count': 2, 'created_at': 'Mon Dec 28 17:52:11 +0000 2020', 'favourites_count': 1, 'utc_offset': None, 'time_zone': None, 'geo_enabled': False, 'verified': False, 'statuses_count': 1, 'lang': None, 'contributors_enabled': False, 'is_translator': False, 'is_translation_enabled': False, 'profile_background_color': 'F5F8FA', 'profile_background_image_url': None, 'profile_background_image_url_https': None, 'profile_background_tile': False, 'profile_image_url': 'http://abs.twimg.com/sticky/default_profile_images/default_profile_normal.png', 'profile_image_url_https': 'https://abs.twimg.com/sticky/default_profile_images/default_profile_normal.png', 'profile_link_color': '1DA1F2', 'profile_sidebar_border_color': 'C0DEED', 'profile_sidebar_fill_color': 'DDEEF6', 'profile_text_color': '333333', 'profile_use_background_image': True, 'has_extended_profile': True, 'default_profile': True, 'default_profile_image': True, 'following': False, 'follow_request_sent': False, 'notifications': False, 'translator_type': 'none', 'withheld_in_countries': []}, id=1343615702809374721, id_str='1343615702809374721', name='alex', screen_name='alex32348132', location='', description='me', url=None, entities={'description': {'urls': []}}, protected=False, followers_count=0, friends_count=9, listed_count=2, created_at=datetime.datetime(2020, 12, 28, 17, 52, 11, tzinfo=datetime.timezone.utc), favourites_count=1, utc_offset=None, time_zone=None, geo_enabled=False, verified=False, statuses_count=1, lang=None, contributors_enabled=False, is_translator=False, is_translation_enabled=False, profile_background_color='F5F8FA', profile_background_image_url=None, profile_background_image_url_https=None, profile_background_tile=False, profile_image_url='http://abs.twimg.com/sticky/default_profile_images/default_profile_normal.png', profile_image_url_https='https://abs.twimg.com/sticky/default_profile_images/default_profile_normal.png', profile_link_color='1DA1F2', profile_sidebar_border_color='C0DEED', profile_sidebar_fill_color='DDEEF6', profile_text_color='333333', profile_use_background_image=True, has_extended_profile=True, default_profile=True, default_profile_image=True, following=False, follow_request_sent=False, notifications=False, translator_type='none', withheld_in_countries=[]), geo=None, coordinates=None, place=None, contributors=None, is_quote_status=False, retweet_count=0, favorite_count=0, favorited=False, retweeted=False, lang='en')"
      ]
     },
     "execution_count": 18,
     "metadata": {},
     "output_type": "execute_result"
    }
   ],
   "source": [
    "api.destroy_status(test_tweet.id_str)"
   ]
  },
  {
   "cell_type": "markdown",
   "metadata": {},
   "source": [
    "### 3.2 Getting Trending Tweets"
   ]
  },
  {
   "cell_type": "markdown",
   "metadata": {},
   "source": [
    "Get the list of cities where trends are available"
   ]
  },
  {
   "cell_type": "code",
   "execution_count": 19,
   "metadata": {},
   "outputs": [],
   "source": [
    "city_ls = api.available_trends()"
   ]
  },
  {
   "cell_type": "markdown",
   "metadata": {},
   "source": [
    "Convert the list (in JSON format) into a dataframe (i.e. a table). Print the number of cities where trends are available."
   ]
  },
  {
   "cell_type": "code",
   "execution_count": 20,
   "metadata": {},
   "outputs": [
    {
     "name": "stdout",
     "output_type": "stream",
     "text": [
      "467 cities have trends.\n"
     ]
    }
   ],
   "source": [
    "df_city = pd.DataFrame(city_ls)\n",
    "\n",
    "print (str(len(df_city)) + \" cities have trends.\")"
   ]
  },
  {
   "cell_type": "markdown",
   "metadata": {},
   "source": [
    "Preview 10 cities where trends are available"
   ]
  },
  {
   "cell_type": "code",
   "execution_count": 21,
   "metadata": {},
   "outputs": [
    {
     "data": {
      "text/html": [
       "<div>\n",
       "<style scoped>\n",
       "    .dataframe tbody tr th:only-of-type {\n",
       "        vertical-align: middle;\n",
       "    }\n",
       "\n",
       "    .dataframe tbody tr th {\n",
       "        vertical-align: top;\n",
       "    }\n",
       "\n",
       "    .dataframe thead th {\n",
       "        text-align: right;\n",
       "    }\n",
       "</style>\n",
       "<table border=\"1\" class=\"dataframe\">\n",
       "  <thead>\n",
       "    <tr style=\"text-align: right;\">\n",
       "      <th></th>\n",
       "      <th>name</th>\n",
       "      <th>placeType</th>\n",
       "      <th>url</th>\n",
       "      <th>parentid</th>\n",
       "      <th>country</th>\n",
       "      <th>woeid</th>\n",
       "      <th>countryCode</th>\n",
       "    </tr>\n",
       "  </thead>\n",
       "  <tbody>\n",
       "    <tr>\n",
       "      <th>0</th>\n",
       "      <td>Worldwide</td>\n",
       "      <td>{'code': 19, 'name': 'Supername'}</td>\n",
       "      <td>http://where.yahooapis.com/v1/place/1</td>\n",
       "      <td>0</td>\n",
       "      <td></td>\n",
       "      <td>1</td>\n",
       "      <td>None</td>\n",
       "    </tr>\n",
       "    <tr>\n",
       "      <th>1</th>\n",
       "      <td>Winnipeg</td>\n",
       "      <td>{'code': 7, 'name': 'Town'}</td>\n",
       "      <td>http://where.yahooapis.com/v1/place/2972</td>\n",
       "      <td>23424775</td>\n",
       "      <td>Canada</td>\n",
       "      <td>2972</td>\n",
       "      <td>CA</td>\n",
       "    </tr>\n",
       "    <tr>\n",
       "      <th>2</th>\n",
       "      <td>Ottawa</td>\n",
       "      <td>{'code': 7, 'name': 'Town'}</td>\n",
       "      <td>http://where.yahooapis.com/v1/place/3369</td>\n",
       "      <td>23424775</td>\n",
       "      <td>Canada</td>\n",
       "      <td>3369</td>\n",
       "      <td>CA</td>\n",
       "    </tr>\n",
       "    <tr>\n",
       "      <th>3</th>\n",
       "      <td>Quebec</td>\n",
       "      <td>{'code': 7, 'name': 'Town'}</td>\n",
       "      <td>http://where.yahooapis.com/v1/place/3444</td>\n",
       "      <td>23424775</td>\n",
       "      <td>Canada</td>\n",
       "      <td>3444</td>\n",
       "      <td>CA</td>\n",
       "    </tr>\n",
       "    <tr>\n",
       "      <th>4</th>\n",
       "      <td>Montreal</td>\n",
       "      <td>{'code': 7, 'name': 'Town'}</td>\n",
       "      <td>http://where.yahooapis.com/v1/place/3534</td>\n",
       "      <td>23424775</td>\n",
       "      <td>Canada</td>\n",
       "      <td>3534</td>\n",
       "      <td>CA</td>\n",
       "    </tr>\n",
       "    <tr>\n",
       "      <th>5</th>\n",
       "      <td>Toronto</td>\n",
       "      <td>{'code': 7, 'name': 'Town'}</td>\n",
       "      <td>http://where.yahooapis.com/v1/place/4118</td>\n",
       "      <td>23424775</td>\n",
       "      <td>Canada</td>\n",
       "      <td>4118</td>\n",
       "      <td>CA</td>\n",
       "    </tr>\n",
       "    <tr>\n",
       "      <th>6</th>\n",
       "      <td>Edmonton</td>\n",
       "      <td>{'code': 7, 'name': 'Town'}</td>\n",
       "      <td>http://where.yahooapis.com/v1/place/8676</td>\n",
       "      <td>23424775</td>\n",
       "      <td>Canada</td>\n",
       "      <td>8676</td>\n",
       "      <td>CA</td>\n",
       "    </tr>\n",
       "    <tr>\n",
       "      <th>7</th>\n",
       "      <td>Calgary</td>\n",
       "      <td>{'code': 7, 'name': 'Town'}</td>\n",
       "      <td>http://where.yahooapis.com/v1/place/8775</td>\n",
       "      <td>23424775</td>\n",
       "      <td>Canada</td>\n",
       "      <td>8775</td>\n",
       "      <td>CA</td>\n",
       "    </tr>\n",
       "    <tr>\n",
       "      <th>8</th>\n",
       "      <td>Vancouver</td>\n",
       "      <td>{'code': 7, 'name': 'Town'}</td>\n",
       "      <td>http://where.yahooapis.com/v1/place/9807</td>\n",
       "      <td>23424775</td>\n",
       "      <td>Canada</td>\n",
       "      <td>9807</td>\n",
       "      <td>CA</td>\n",
       "    </tr>\n",
       "    <tr>\n",
       "      <th>9</th>\n",
       "      <td>Birmingham</td>\n",
       "      <td>{'code': 7, 'name': 'Town'}</td>\n",
       "      <td>http://where.yahooapis.com/v1/place/12723</td>\n",
       "      <td>23424975</td>\n",
       "      <td>United Kingdom</td>\n",
       "      <td>12723</td>\n",
       "      <td>GB</td>\n",
       "    </tr>\n",
       "  </tbody>\n",
       "</table>\n",
       "</div>"
      ],
      "text/plain": [
       "         name                          placeType  \\\n",
       "0   Worldwide  {'code': 19, 'name': 'Supername'}   \n",
       "1    Winnipeg        {'code': 7, 'name': 'Town'}   \n",
       "2      Ottawa        {'code': 7, 'name': 'Town'}   \n",
       "3      Quebec        {'code': 7, 'name': 'Town'}   \n",
       "4    Montreal        {'code': 7, 'name': 'Town'}   \n",
       "5     Toronto        {'code': 7, 'name': 'Town'}   \n",
       "6    Edmonton        {'code': 7, 'name': 'Town'}   \n",
       "7     Calgary        {'code': 7, 'name': 'Town'}   \n",
       "8   Vancouver        {'code': 7, 'name': 'Town'}   \n",
       "9  Birmingham        {'code': 7, 'name': 'Town'}   \n",
       "\n",
       "                                         url  parentid         country  woeid  \\\n",
       "0      http://where.yahooapis.com/v1/place/1         0                      1   \n",
       "1   http://where.yahooapis.com/v1/place/2972  23424775          Canada   2972   \n",
       "2   http://where.yahooapis.com/v1/place/3369  23424775          Canada   3369   \n",
       "3   http://where.yahooapis.com/v1/place/3444  23424775          Canada   3444   \n",
       "4   http://where.yahooapis.com/v1/place/3534  23424775          Canada   3534   \n",
       "5   http://where.yahooapis.com/v1/place/4118  23424775          Canada   4118   \n",
       "6   http://where.yahooapis.com/v1/place/8676  23424775          Canada   8676   \n",
       "7   http://where.yahooapis.com/v1/place/8775  23424775          Canada   8775   \n",
       "8   http://where.yahooapis.com/v1/place/9807  23424775          Canada   9807   \n",
       "9  http://where.yahooapis.com/v1/place/12723  23424975  United Kingdom  12723   \n",
       "\n",
       "  countryCode  \n",
       "0        None  \n",
       "1          CA  \n",
       "2          CA  \n",
       "3          CA  \n",
       "4          CA  \n",
       "5          CA  \n",
       "6          CA  \n",
       "7          CA  \n",
       "8          CA  \n",
       "9          GB  "
      ]
     },
     "execution_count": 21,
     "metadata": {},
     "output_type": "execute_result"
    }
   ],
   "source": [
    "df_city.head(10)"
   ]
  },
  {
   "cell_type": "markdown",
   "metadata": {},
   "source": [
    "Get the record of Tampa. The `woeid` is a unique ID for each place."
   ]
  },
  {
   "cell_type": "code",
   "execution_count": 22,
   "metadata": {},
   "outputs": [
    {
     "data": {
      "text/html": [
       "<div>\n",
       "<style scoped>\n",
       "    .dataframe tbody tr th:only-of-type {\n",
       "        vertical-align: middle;\n",
       "    }\n",
       "\n",
       "    .dataframe tbody tr th {\n",
       "        vertical-align: top;\n",
       "    }\n",
       "\n",
       "    .dataframe thead th {\n",
       "        text-align: right;\n",
       "    }\n",
       "</style>\n",
       "<table border=\"1\" class=\"dataframe\">\n",
       "  <thead>\n",
       "    <tr style=\"text-align: right;\">\n",
       "      <th></th>\n",
       "      <th>name</th>\n",
       "      <th>placeType</th>\n",
       "      <th>url</th>\n",
       "      <th>parentid</th>\n",
       "      <th>country</th>\n",
       "      <th>woeid</th>\n",
       "      <th>countryCode</th>\n",
       "    </tr>\n",
       "  </thead>\n",
       "  <tbody>\n",
       "    <tr>\n",
       "      <th>394</th>\n",
       "      <td>Tampa</td>\n",
       "      <td>{'code': 7, 'name': 'Town'}</td>\n",
       "      <td>http://where.yahooapis.com/v1/place/2503863</td>\n",
       "      <td>23424977</td>\n",
       "      <td>United States</td>\n",
       "      <td>2503863</td>\n",
       "      <td>US</td>\n",
       "    </tr>\n",
       "  </tbody>\n",
       "</table>\n",
       "</div>"
      ],
      "text/plain": [
       "      name                    placeType  \\\n",
       "394  Tampa  {'code': 7, 'name': 'Town'}   \n",
       "\n",
       "                                             url  parentid        country  \\\n",
       "394  http://where.yahooapis.com/v1/place/2503863  23424977  United States   \n",
       "\n",
       "       woeid countryCode  \n",
       "394  2503863          US  "
      ]
     },
     "execution_count": 22,
     "metadata": {},
     "output_type": "execute_result"
    }
   ],
   "source": [
    "df_city[df_city['name']=='Tampa']"
   ]
  },
  {
   "cell_type": "markdown",
   "metadata": {},
   "source": [
    "Store the `woeid` of Tampa in tampa_id."
   ]
  },
  {
   "cell_type": "code",
   "execution_count": 23,
   "metadata": {},
   "outputs": [],
   "source": [
    "tampa_id = df_city[df_city['name']=='Tampa']['woeid']"
   ]
  },
  {
   "cell_type": "markdown",
   "metadata": {},
   "source": [
    "Return the trends in Tampa.\n",
    "\n",
    "Note: you need to convert the city_id from a pandas series object into an integer."
   ]
  },
  {
   "cell_type": "code",
   "execution_count": 24,
   "metadata": {},
   "outputs": [],
   "source": [
    "# make Tampa as an example\n",
    "trends_tampa = api.get_place_trends(int(tampa_id))"
   ]
  },
  {
   "cell_type": "markdown",
   "metadata": {},
   "source": [
    "Print the trends in JSON format"
   ]
  },
  {
   "cell_type": "code",
   "execution_count": 25,
   "metadata": {},
   "outputs": [
    {
     "data": {
      "text/plain": [
       "[{'trends': [{'name': '#AsItWas',\n",
       "    'url': 'http://twitter.com/search?q=%23AsItWas',\n",
       "    'promoted_content': None,\n",
       "    'query': '%23AsItWas',\n",
       "    'tweet_volume': 26807},\n",
       "   {'name': 'Jared',\n",
       "    'url': 'http://twitter.com/search?q=Jared',\n",
       "    'promoted_content': None,\n",
       "    'query': 'Jared',\n",
       "    'tweet_volume': 49608},\n",
       "   {'name': '#BoycottDisney',\n",
       "    'url': 'http://twitter.com/search?q=%23BoycottDisney',\n",
       "    'promoted_content': None,\n",
       "    'query': '%23BoycottDisney',\n",
       "    'tweet_volume': 16662},\n",
       "   {'name': 'Ivanka',\n",
       "    'url': 'http://twitter.com/search?q=Ivanka',\n",
       "    'promoted_content': None,\n",
       "    'query': 'Ivanka',\n",
       "    'tweet_volume': 65324},\n",
       "   {'name': 'Booming',\n",
       "    'url': 'http://twitter.com/search?q=Booming',\n",
       "    'promoted_content': None,\n",
       "    'query': 'Booming',\n",
       "    'tweet_volume': 34743},\n",
       "   {'name': '#AEWDynamite',\n",
       "    'url': 'http://twitter.com/search?q=%23AEWDynamite',\n",
       "    'promoted_content': None,\n",
       "    'query': '%23AEWDynamite',\n",
       "    'tweet_volume': 34950},\n",
       "   {'name': 'Brady',\n",
       "    'url': 'http://twitter.com/search?q=Brady',\n",
       "    'promoted_content': None,\n",
       "    'query': 'Brady',\n",
       "    'tweet_volume': 28610},\n",
       "   {'name': 'Todd Bowles',\n",
       "    'url': 'http://twitter.com/search?q=%22Todd+Bowles%22',\n",
       "    'promoted_content': None,\n",
       "    'query': '%22Todd+Bowles%22',\n",
       "    'tweet_volume': 15547},\n",
       "   {'name': '#MAFS',\n",
       "    'url': 'http://twitter.com/search?q=%23MAFS',\n",
       "    'promoted_content': None,\n",
       "    'query': '%23MAFS',\n",
       "    'tweet_volume': None},\n",
       "   {'name': 'Leftwich',\n",
       "    'url': 'http://twitter.com/search?q=Leftwich',\n",
       "    'promoted_content': None,\n",
       "    'query': 'Leftwich',\n",
       "    'tweet_volume': None},\n",
       "   {'name': 'Bucs',\n",
       "    'url': 'http://twitter.com/search?q=Bucs',\n",
       "    'promoted_content': None,\n",
       "    'query': 'Bucs',\n",
       "    'tweet_volume': 11813},\n",
       "   {'name': 'Tony Brothers',\n",
       "    'url': 'http://twitter.com/search?q=%22Tony+Brothers%22',\n",
       "    'promoted_content': None,\n",
       "    'query': '%22Tony+Brothers%22',\n",
       "    'tweet_volume': None},\n",
       "   {'name': 'Georgiev',\n",
       "    'url': 'http://twitter.com/search?q=Georgiev',\n",
       "    'promoted_content': None,\n",
       "    'query': 'Georgiev',\n",
       "    'tweet_volume': None},\n",
       "   {'name': 'Wheeler Yuta',\n",
       "    'url': 'http://twitter.com/search?q=%22Wheeler+Yuta%22',\n",
       "    'promoted_content': None,\n",
       "    'query': '%22Wheeler+Yuta%22',\n",
       "    'tweet_volume': None},\n",
       "   {'name': 'Wardlow',\n",
       "    'url': 'http://twitter.com/search?q=Wardlow',\n",
       "    'promoted_content': None,\n",
       "    'query': 'Wardlow',\n",
       "    'tweet_volume': None},\n",
       "   {'name': 'Jay Lethal',\n",
       "    'url': 'http://twitter.com/search?q=%22Jay+Lethal%22',\n",
       "    'promoted_content': None,\n",
       "    'query': '%22Jay+Lethal%22',\n",
       "    'tweet_volume': None},\n",
       "   {'name': 'Marcus Smart',\n",
       "    'url': 'http://twitter.com/search?q=%22Marcus+Smart%22',\n",
       "    'promoted_content': None,\n",
       "    'query': '%22Marcus+Smart%22',\n",
       "    'tweet_volume': None},\n",
       "   {'name': 'danielson',\n",
       "    'url': 'http://twitter.com/search?q=danielson',\n",
       "    'promoted_content': None,\n",
       "    'query': 'danielson',\n",
       "    'tweet_volume': None},\n",
       "   {'name': 'Swati',\n",
       "    'url': 'http://twitter.com/search?q=Swati',\n",
       "    'promoted_content': None,\n",
       "    'query': 'Swati',\n",
       "    'tweet_volume': None},\n",
       "   {'name': 'Kevin Knox',\n",
       "    'url': 'http://twitter.com/search?q=%22Kevin+Knox%22',\n",
       "    'promoted_content': None,\n",
       "    'query': '%22Kevin+Knox%22',\n",
       "    'tweet_volume': None},\n",
       "   {'name': 'Olajuwon',\n",
       "    'url': 'http://twitter.com/search?q=Olajuwon',\n",
       "    'promoted_content': None,\n",
       "    'query': 'Olajuwon',\n",
       "    'tweet_volume': None},\n",
       "   {'name': 'Moxley',\n",
       "    'url': 'http://twitter.com/search?q=Moxley',\n",
       "    'promoted_content': None,\n",
       "    'query': 'Moxley',\n",
       "    'tweet_volume': None},\n",
       "   {'name': 'Max Caster',\n",
       "    'url': 'http://twitter.com/search?q=%22Max+Caster%22',\n",
       "    'promoted_content': None,\n",
       "    'query': '%22Max+Caster%22',\n",
       "    'tweet_volume': None},\n",
       "   {'name': 'Pacers',\n",
       "    'url': 'http://twitter.com/search?q=Pacers',\n",
       "    'promoted_content': None,\n",
       "    'query': 'Pacers',\n",
       "    'tweet_volume': None},\n",
       "   {'name': 'CM Punk',\n",
       "    'url': 'http://twitter.com/search?q=%22CM+Punk%22',\n",
       "    'promoted_content': None,\n",
       "    'query': '%22CM+Punk%22',\n",
       "    'tweet_volume': None},\n",
       "   {'name': 'Tori',\n",
       "    'url': 'http://twitter.com/search?q=Tori',\n",
       "    'promoted_content': None,\n",
       "    'query': 'Tori',\n",
       "    'tweet_volume': 32901},\n",
       "   {'name': 'Jasmina',\n",
       "    'url': 'http://twitter.com/search?q=Jasmina',\n",
       "    'promoted_content': None,\n",
       "    'query': 'Jasmina',\n",
       "    'tweet_volume': None},\n",
       "   {'name': 'Chernobyl',\n",
       "    'url': 'http://twitter.com/search?q=Chernobyl',\n",
       "    'promoted_content': None,\n",
       "    'query': 'Chernobyl',\n",
       "    'tweet_volume': 21734},\n",
       "   {'name': 'Earthworm Jim 2',\n",
       "    'url': 'http://twitter.com/search?q=%22Earthworm+Jim+2%22',\n",
       "    'promoted_content': None,\n",
       "    'query': '%22Earthworm+Jim+2%22',\n",
       "    'tweet_volume': None},\n",
       "   {'name': 'Blac Chyna',\n",
       "    'url': 'http://twitter.com/search?q=%22Blac+Chyna%22',\n",
       "    'promoted_content': None,\n",
       "    'query': '%22Blac+Chyna%22',\n",
       "    'tweet_volume': 32959},\n",
       "   {'name': 'Navas',\n",
       "    'url': 'http://twitter.com/search?q=Navas',\n",
       "    'promoted_content': None,\n",
       "    'query': 'Navas',\n",
       "    'tweet_volume': None},\n",
       "   {'name': 'Marina Shafir',\n",
       "    'url': 'http://twitter.com/search?q=%22Marina+Shafir%22',\n",
       "    'promoted_content': None,\n",
       "    'query': '%22Marina+Shafir%22',\n",
       "    'tweet_volume': None},\n",
       "   {'name': 'Tyga',\n",
       "    'url': 'http://twitter.com/search?q=Tyga',\n",
       "    'promoted_content': None,\n",
       "    'query': 'Tyga',\n",
       "    'tweet_volume': 42018},\n",
       "   {'name': 'Austin Rivers',\n",
       "    'url': 'http://twitter.com/search?q=%22Austin+Rivers%22',\n",
       "    'promoted_content': None,\n",
       "    'query': '%22Austin+Rivers%22',\n",
       "    'tweet_volume': None},\n",
       "   {'name': 'Moses Brown',\n",
       "    'url': 'http://twitter.com/search?q=%22Moses+Brown%22',\n",
       "    'promoted_content': None,\n",
       "    'query': '%22Moses+Brown%22',\n",
       "    'tweet_volume': None},\n",
       "   {'name': 'Jonathan',\n",
       "    'url': 'http://twitter.com/search?q=Jonathan',\n",
       "    'promoted_content': None,\n",
       "    'query': 'Jonathan',\n",
       "    'tweet_volume': 60114},\n",
       "   {'name': 'Hunter Biden',\n",
       "    'url': 'http://twitter.com/search?q=%22Hunter+Biden%22',\n",
       "    'promoted_content': None,\n",
       "    'query': '%22Hunter+Biden%22',\n",
       "    'tweet_volume': 365784},\n",
       "   {'name': 'The Get Down',\n",
       "    'url': 'http://twitter.com/search?q=%22The+Get+Down%22',\n",
       "    'promoted_content': None,\n",
       "    'query': '%22The+Get+Down%22',\n",
       "    'tweet_volume': 41424},\n",
       "   {'name': 'Eddie Kingston',\n",
       "    'url': 'http://twitter.com/search?q=%22Eddie+Kingston%22',\n",
       "    'promoted_content': None,\n",
       "    'query': '%22Eddie+Kingston%22',\n",
       "    'tweet_volume': None},\n",
       "   {'name': 'Vamos Mexico',\n",
       "    'url': 'http://twitter.com/search?q=%22Vamos+Mexico%22',\n",
       "    'promoted_content': None,\n",
       "    'query': '%22Vamos+Mexico%22',\n",
       "    'tweet_volume': None},\n",
       "   {'name': 'Keith Lee',\n",
       "    'url': 'http://twitter.com/search?q=%22Keith+Lee%22',\n",
       "    'promoted_content': None,\n",
       "    'query': '%22Keith+Lee%22',\n",
       "    'tweet_volume': None},\n",
       "   {'name': 'Prop Joe',\n",
       "    'url': 'http://twitter.com/search?q=%22Prop+Joe%22',\n",
       "    'promoted_content': None,\n",
       "    'query': '%22Prop+Joe%22',\n",
       "    'tweet_volume': None},\n",
       "   {'name': 'Huey Lewis',\n",
       "    'url': 'http://twitter.com/search?q=%22Huey+Lewis%22',\n",
       "    'promoted_content': None,\n",
       "    'query': '%22Huey+Lewis%22',\n",
       "    'tweet_volume': None},\n",
       "   {'name': 'Pushing Daisies',\n",
       "    'url': 'http://twitter.com/search?q=%22Pushing+Daisies%22',\n",
       "    'promoted_content': None,\n",
       "    'query': '%22Pushing+Daisies%22',\n",
       "    'tweet_volume': None},\n",
       "   {'name': 'Roger Stone',\n",
       "    'url': 'http://twitter.com/search?q=%22Roger+Stone%22',\n",
       "    'promoted_content': None,\n",
       "    'query': '%22Roger+Stone%22',\n",
       "    'tweet_volume': None},\n",
       "   {'name': 'Doe Doe',\n",
       "    'url': 'http://twitter.com/search?q=%22Doe+Doe%22',\n",
       "    'promoted_content': None,\n",
       "    'query': '%22Doe+Doe%22',\n",
       "    'tweet_volume': 26915},\n",
       "   {'name': 'Lance Stephenson',\n",
       "    'url': 'http://twitter.com/search?q=%22Lance+Stephenson%22',\n",
       "    'promoted_content': None,\n",
       "    'query': '%22Lance+Stephenson%22',\n",
       "    'tweet_volume': None},\n",
       "   {'name': 'McCarthy',\n",
       "    'url': 'http://twitter.com/search?q=McCarthy',\n",
       "    'promoted_content': None,\n",
       "    'query': 'McCarthy',\n",
       "    'tweet_volume': 52965},\n",
       "   {'name': 'gunn club',\n",
       "    'url': 'http://twitter.com/search?q=%22gunn+club%22',\n",
       "    'promoted_content': None,\n",
       "    'query': '%22gunn+club%22',\n",
       "    'tweet_volume': None}],\n",
       "  'as_of': '2022-03-31T01:22:02Z',\n",
       "  'created_at': '2022-03-28T13:40:42Z',\n",
       "  'locations': [{'name': 'Tampa', 'woeid': 2503863}]}]"
      ]
     },
     "execution_count": 25,
     "metadata": {},
     "output_type": "execute_result"
    }
   ],
   "source": [
    "# print the top 20 trends in Tampa\n",
    "trends_tampa[0:20]"
   ]
  },
  {
   "cell_type": "markdown",
   "metadata": {},
   "source": [
    "Organize the Tampa trends in a dataframe."
   ]
  },
  {
   "cell_type": "code",
   "execution_count": 26,
   "metadata": {},
   "outputs": [],
   "source": [
    "trend_ls = [[trend['name'], trend['url'], trend['tweet_volume']] for trend in trends_tampa[0]['trends']]\n",
    "\n",
    "df_trends = pd.DataFrame(trend_ls,columns=['name','url','tweet_volume'])"
   ]
  },
  {
   "cell_type": "markdown",
   "metadata": {},
   "source": [
    "Sort the trends by tweet volumn in a descending order and print the top 10 trends with the most tweeting volumne."
   ]
  },
  {
   "cell_type": "code",
   "execution_count": 27,
   "metadata": {
    "scrolled": true
   },
   "outputs": [
    {
     "data": {
      "text/html": [
       "<div>\n",
       "<style scoped>\n",
       "    .dataframe tbody tr th:only-of-type {\n",
       "        vertical-align: middle;\n",
       "    }\n",
       "\n",
       "    .dataframe tbody tr th {\n",
       "        vertical-align: top;\n",
       "    }\n",
       "\n",
       "    .dataframe thead th {\n",
       "        text-align: right;\n",
       "    }\n",
       "</style>\n",
       "<table border=\"1\" class=\"dataframe\">\n",
       "  <thead>\n",
       "    <tr style=\"text-align: right;\">\n",
       "      <th></th>\n",
       "      <th>name</th>\n",
       "      <th>url</th>\n",
       "      <th>tweet_volume</th>\n",
       "    </tr>\n",
       "  </thead>\n",
       "  <tbody>\n",
       "    <tr>\n",
       "      <th>36</th>\n",
       "      <td>Hunter Biden</td>\n",
       "      <td>http://twitter.com/search?q=%22Hunter+Biden%22</td>\n",
       "      <td>365784.0</td>\n",
       "    </tr>\n",
       "    <tr>\n",
       "      <th>3</th>\n",
       "      <td>Ivanka</td>\n",
       "      <td>http://twitter.com/search?q=Ivanka</td>\n",
       "      <td>65324.0</td>\n",
       "    </tr>\n",
       "    <tr>\n",
       "      <th>35</th>\n",
       "      <td>Jonathan</td>\n",
       "      <td>http://twitter.com/search?q=Jonathan</td>\n",
       "      <td>60114.0</td>\n",
       "    </tr>\n",
       "    <tr>\n",
       "      <th>47</th>\n",
       "      <td>McCarthy</td>\n",
       "      <td>http://twitter.com/search?q=McCarthy</td>\n",
       "      <td>52965.0</td>\n",
       "    </tr>\n",
       "    <tr>\n",
       "      <th>1</th>\n",
       "      <td>Jared</td>\n",
       "      <td>http://twitter.com/search?q=Jared</td>\n",
       "      <td>49608.0</td>\n",
       "    </tr>\n",
       "    <tr>\n",
       "      <th>32</th>\n",
       "      <td>Tyga</td>\n",
       "      <td>http://twitter.com/search?q=Tyga</td>\n",
       "      <td>42018.0</td>\n",
       "    </tr>\n",
       "    <tr>\n",
       "      <th>37</th>\n",
       "      <td>The Get Down</td>\n",
       "      <td>http://twitter.com/search?q=%22The+Get+Down%22</td>\n",
       "      <td>41424.0</td>\n",
       "    </tr>\n",
       "    <tr>\n",
       "      <th>5</th>\n",
       "      <td>#AEWDynamite</td>\n",
       "      <td>http://twitter.com/search?q=%23AEWDynamite</td>\n",
       "      <td>34950.0</td>\n",
       "    </tr>\n",
       "    <tr>\n",
       "      <th>4</th>\n",
       "      <td>Booming</td>\n",
       "      <td>http://twitter.com/search?q=Booming</td>\n",
       "      <td>34743.0</td>\n",
       "    </tr>\n",
       "    <tr>\n",
       "      <th>29</th>\n",
       "      <td>Blac Chyna</td>\n",
       "      <td>http://twitter.com/search?q=%22Blac+Chyna%22</td>\n",
       "      <td>32959.0</td>\n",
       "    </tr>\n",
       "  </tbody>\n",
       "</table>\n",
       "</div>"
      ],
      "text/plain": [
       "            name                                             url  tweet_volume\n",
       "36  Hunter Biden  http://twitter.com/search?q=%22Hunter+Biden%22      365784.0\n",
       "3         Ivanka              http://twitter.com/search?q=Ivanka       65324.0\n",
       "35      Jonathan            http://twitter.com/search?q=Jonathan       60114.0\n",
       "47      McCarthy            http://twitter.com/search?q=McCarthy       52965.0\n",
       "1          Jared               http://twitter.com/search?q=Jared       49608.0\n",
       "32          Tyga                http://twitter.com/search?q=Tyga       42018.0\n",
       "37  The Get Down  http://twitter.com/search?q=%22The+Get+Down%22       41424.0\n",
       "5   #AEWDynamite      http://twitter.com/search?q=%23AEWDynamite       34950.0\n",
       "4        Booming             http://twitter.com/search?q=Booming       34743.0\n",
       "29    Blac Chyna    http://twitter.com/search?q=%22Blac+Chyna%22       32959.0"
      ]
     },
     "execution_count": 27,
     "metadata": {},
     "output_type": "execute_result"
    }
   ],
   "source": [
    "# Sort the trends by tweet volumn in a descending order\n",
    "df_trends.sort_values(\"tweet_volume\", inplace = True, ascending = False)\n",
    "\n",
    "# Print the top 10 trends ranked by tweet volumne\n",
    "df_trends.head(10)"
   ]
  },
  {
   "cell_type": "markdown",
   "metadata": {},
   "source": [
    "The table shows the popular topics people are tweeting about in Tampa."
   ]
  },
  {
   "cell_type": "markdown",
   "metadata": {},
   "source": [
    "---"
   ]
  },
  {
   "cell_type": "markdown",
   "metadata": {},
   "source": [
    "## 4. Acquiring Tweets using the Search API"
   ]
  },
  {
   "cell_type": "markdown",
   "metadata": {},
   "source": [
    "### 4.1 Search Tweets using Keywords\n",
    "\n",
    "In this step, you will use Python program to search tweets that contain a specific keyword. \"Will Smith\" was quite a hot topic when I created the tutorial. Next, I will search for Tweets that contain \"Will Smith\"."
   ]
  },
  {
   "cell_type": "code",
   "execution_count": 28,
   "metadata": {
    "scrolled": true
   },
   "outputs": [
    {
     "name": "stdout",
     "output_type": "stream",
     "text": [
      "Total retweet retrieved: 100\n"
     ]
    }
   ],
   "source": [
    "tweets = api.search_tweets(\"Will Smith\",count=100)\n",
    "\n",
    "print(\"Total retweet retrieved: \"+ str(len(tweets)))"
   ]
  },
  {
   "cell_type": "markdown",
   "metadata": {},
   "source": [
    "Store the user name, user location, posting time, and tweet text in a Pandas dataframe."
   ]
  },
  {
   "cell_type": "code",
   "execution_count": 29,
   "metadata": {},
   "outputs": [
    {
     "data": {
      "text/html": [
       "<div>\n",
       "<style scoped>\n",
       "    .dataframe tbody tr th:only-of-type {\n",
       "        vertical-align: middle;\n",
       "    }\n",
       "\n",
       "    .dataframe tbody tr th {\n",
       "        vertical-align: top;\n",
       "    }\n",
       "\n",
       "    .dataframe thead th {\n",
       "        text-align: right;\n",
       "    }\n",
       "</style>\n",
       "<table border=\"1\" class=\"dataframe\">\n",
       "  <thead>\n",
       "    <tr style=\"text-align: right;\">\n",
       "      <th></th>\n",
       "      <th>user_name</th>\n",
       "      <th>user_loc</th>\n",
       "      <th>creation_time</th>\n",
       "      <th>text</th>\n",
       "    </tr>\n",
       "  </thead>\n",
       "  <tbody>\n",
       "    <tr>\n",
       "      <th>0</th>\n",
       "      <td>Black Trans Lives Matter</td>\n",
       "      <td>the country, TX</td>\n",
       "      <td>2022-03-31 01:22:17+00:00</td>\n",
       "      <td>RT @mrLdavis: Me digging up dirt on all the ce...</td>\n",
       "    </tr>\n",
       "    <tr>\n",
       "      <th>1</th>\n",
       "      <td>KB</td>\n",
       "      <td>Macon, GA</td>\n",
       "      <td>2022-03-31 01:22:17+00:00</td>\n",
       "      <td>RT @cornskiii: that slap from will smith was l...</td>\n",
       "    </tr>\n",
       "    <tr>\n",
       "      <th>2</th>\n",
       "      <td>PODEMOSARTS</td>\n",
       "      <td>paris</td>\n",
       "      <td>2022-03-31 01:22:17+00:00</td>\n",
       "      <td>RT @LaBasePublico: Hoy hemos hablado de las mú...</td>\n",
       "    </tr>\n",
       "    <tr>\n",
       "      <th>3</th>\n",
       "      <td>Jeff Rowe</td>\n",
       "      <td></td>\n",
       "      <td>2022-03-31 01:22:17+00:00</td>\n",
       "      <td>@FoxNews Take Will  Smith TOO the CLEANERS BRO...</td>\n",
       "    </tr>\n",
       "    <tr>\n",
       "      <th>4</th>\n",
       "      <td>Spider-Flakk</td>\n",
       "      <td>Barcelona, Catalunya</td>\n",
       "      <td>2022-03-31 01:22:16+00:00</td>\n",
       "      <td>RT @lamba_aarav: Will Smith In and As The Batm...</td>\n",
       "    </tr>\n",
       "    <tr>\n",
       "      <th>...</th>\n",
       "      <td>...</td>\n",
       "      <td>...</td>\n",
       "      <td>...</td>\n",
       "      <td>...</td>\n",
       "    </tr>\n",
       "    <tr>\n",
       "      <th>95</th>\n",
       "      <td>rshei 🪷</td>\n",
       "      <td>the sippp</td>\n",
       "      <td>2022-03-31 01:21:57+00:00</td>\n",
       "      <td>RT @Courtstrology: Will Smith has a Libra stel...</td>\n",
       "    </tr>\n",
       "    <tr>\n",
       "      <th>96</th>\n",
       "      <td>wichopunkass</td>\n",
       "      <td>fresno</td>\n",
       "      <td>2022-03-31 01:21:57+00:00</td>\n",
       "      <td>RT @AndyKindler: Will Smith slapped Chris Rock...</td>\n",
       "    </tr>\n",
       "    <tr>\n",
       "      <th>97</th>\n",
       "      <td>D🌷</td>\n",
       "      <td>Toronto, Ontario</td>\n",
       "      <td>2022-03-31 01:21:57+00:00</td>\n",
       "      <td>RT @thedigitaldash_: most of us watched the sl...</td>\n",
       "    </tr>\n",
       "    <tr>\n",
       "      <th>98</th>\n",
       "      <td>mahir</td>\n",
       "      <td>Deutschland</td>\n",
       "      <td>2022-03-31 01:21:57+00:00</td>\n",
       "      <td>RT @NoahPasternak: \"Garfield\" creator Jim Davi...</td>\n",
       "    </tr>\n",
       "    <tr>\n",
       "      <th>99</th>\n",
       "      <td>Jack 🐻〽️</td>\n",
       "      <td>Memphis, TN</td>\n",
       "      <td>2022-03-31 01:21:57+00:00</td>\n",
       "      <td>I love streaming the games because instead of ...</td>\n",
       "    </tr>\n",
       "  </tbody>\n",
       "</table>\n",
       "<p>100 rows × 4 columns</p>\n",
       "</div>"
      ],
      "text/plain": [
       "                   user_name               user_loc             creation_time  \\\n",
       "0   Black Trans Lives Matter        the country, TX 2022-03-31 01:22:17+00:00   \n",
       "1                         KB              Macon, GA 2022-03-31 01:22:17+00:00   \n",
       "2                PODEMOSARTS                  paris 2022-03-31 01:22:17+00:00   \n",
       "3                  Jeff Rowe                        2022-03-31 01:22:17+00:00   \n",
       "4               Spider-Flakk  Barcelona, Catalunya  2022-03-31 01:22:16+00:00   \n",
       "..                       ...                    ...                       ...   \n",
       "95                   rshei 🪷              the sippp 2022-03-31 01:21:57+00:00   \n",
       "96              wichopunkass                 fresno 2022-03-31 01:21:57+00:00   \n",
       "97                        D🌷       Toronto, Ontario 2022-03-31 01:21:57+00:00   \n",
       "98                     mahir            Deutschland 2022-03-31 01:21:57+00:00   \n",
       "99                  Jack 🐻〽️            Memphis, TN 2022-03-31 01:21:57+00:00   \n",
       "\n",
       "                                                 text  \n",
       "0   RT @mrLdavis: Me digging up dirt on all the ce...  \n",
       "1   RT @cornskiii: that slap from will smith was l...  \n",
       "2   RT @LaBasePublico: Hoy hemos hablado de las mú...  \n",
       "3   @FoxNews Take Will  Smith TOO the CLEANERS BRO...  \n",
       "4   RT @lamba_aarav: Will Smith In and As The Batm...  \n",
       "..                                                ...  \n",
       "95  RT @Courtstrology: Will Smith has a Libra stel...  \n",
       "96  RT @AndyKindler: Will Smith slapped Chris Rock...  \n",
       "97  RT @thedigitaldash_: most of us watched the sl...  \n",
       "98  RT @NoahPasternak: \"Garfield\" creator Jim Davi...  \n",
       "99  I love streaming the games because instead of ...  \n",
       "\n",
       "[100 rows x 4 columns]"
      ]
     },
     "execution_count": 29,
     "metadata": {},
     "output_type": "execute_result"
    }
   ],
   "source": [
    "tweets_pd = pd.DataFrame([[tweet.user.name, tweet.user.location,tweet.created_at, tweet.text] for tweet in tweets], \n",
    "                         columns = ['user_name','user_loc','creation_time','text'])\n",
    "\n",
    "tweets_pd"
   ]
  },
  {
   "cell_type": "markdown",
   "metadata": {},
   "source": [
    "The `search_tweets` funciton can retrieve max 100 tweets at one time. If you want to get more tweets, you can use the `cursor`.\n",
    "\n",
    "The following code can retrieve more tweets containing a keyword (e.g. \"Will Smith\"). We still set a limit of 100 to save your search quota for the following steps.\n",
    "\n",
    "> Note: You can only retrieve a limited number of tweets per 15 minutes. If the retrieved tweets exceed the limit, the program will pause for some time. If you can't wait, you can doublepress `i` on your keyboard to interrupt the process."
   ]
  },
  {
   "cell_type": "code",
   "execution_count": null,
   "metadata": {
    "scrolled": false
   },
   "outputs": [
    {
     "name": "stderr",
     "output_type": "stream",
     "text": [
      "Rate limit reached. Sleeping for: 654\n"
     ]
    }
   ],
   "source": [
    "# create an empty list\n",
    "tweet_ls = []\n",
    "\n",
    "# Number of tweets to be retrieved.\n",
    "num = 100\n",
    "\n",
    "# Use a cursor to get all tweets containing the keyword\n",
    "for tweet in tweepy.Cursor(api.search_tweets, q=\"Will Smith\", count = num, result_type=\"recent\", include_entities=True,lang=\"en\").items(num):\n",
    "    tweet_ls.append([tweet.user.name, tweet.user.location,tweet.created_at, tweet.text])\n",
    "\n",
    "\n",
    "# Store the retrieved tweets in a dataframe\n",
    "tweets_pd_full = pd.DataFrame(tweet_ls, \n",
    "                         columns = ['user_name','user_loc','creation_time','text'])\n",
    "\n",
    "# Print the dataframe\n",
    "tweets_pd_full"
   ]
  },
  {
   "cell_type": "markdown",
   "metadata": {},
   "source": [
    "### 4.2 Removing Retweets\n",
    "The retrieved tweets include original tweets and retweets. The textual content of retweets are almost identical. You can set up a filter to eliminate the retweets and keep only the original tweets."
   ]
  },
  {
   "cell_type": "code",
   "execution_count": 23,
   "metadata": {},
   "outputs": [
    {
     "data": {
      "text/plain": [
       "'Will Smith -filter:retweets'"
      ]
     },
     "execution_count": 23,
     "metadata": {},
     "output_type": "execute_result"
    }
   ],
   "source": [
    "new_search = \"Will Smith\" + \" -filter:retweets\"\n",
    "new_search"
   ]
  },
  {
   "cell_type": "markdown",
   "metadata": {},
   "source": [
    "Now, you can see only original tweets are retrieved."
   ]
  },
  {
   "cell_type": "markdown",
   "metadata": {},
   "source": [
    "Print to see the list."
   ]
  },
  {
   "cell_type": "code",
   "execution_count": null,
   "metadata": {},
   "outputs": [
    {
     "name": "stderr",
     "output_type": "stream",
     "text": [
      "Rate limit reached. Sleeping for: 753\n",
      "Rate limit reached. Sleeping for: 759\n",
      "Rate limit reached. Sleeping for: 752\n",
      "Rate limit reached. Sleeping for: 747\n"
     ]
    }
   ],
   "source": [
    "# create an empty list\n",
    "tweet_ls = []\n",
    "\n",
    "# intiate a counter\n",
    "n = 0\n",
    "# Number of tweets to be retrieved.\n",
    "num = 200\n",
    "\n",
    "# Use a cursor to get all tweets containing the keyword\n",
    "for tweet in tweepy.Cursor(api.search_tweets, q = new_search, count = num, result_type=\"recent\", include_entities=True,lang=\"en\").items(num):\n",
    "    tweet_ls.append([tweet.user.name, tweet.user.location,tweet.created_at, tweet.text])\n",
    "    n = n+1\n",
    "\n",
    "\n",
    "# Store the retrieved tweets in a dataframe\n",
    "tweets_pd_full = pd.DataFrame(tweet_ls, \n",
    "                         columns = ['user_name','user_loc','creation_time','text'])\n",
    "\n",
    "# Print the dataframe\n",
    "tweets_pd_full"
   ]
  },
  {
   "cell_type": "markdown",
   "metadata": {},
   "source": [
    "### 4.3 Search Tweets using locations"
   ]
  },
  {
   "cell_type": "markdown",
   "metadata": {},
   "source": [
    "Query for a popular trend keyword in Tampa (200 miles range)"
   ]
  },
  {
   "cell_type": "markdown",
   "metadata": {},
   "source": [
    "First, let's check what are the top 10 trending topics in the selected city (Tampa)."
   ]
  },
  {
   "cell_type": "code",
   "execution_count": 133,
   "metadata": {},
   "outputs": [
    {
     "data": {
      "text/html": [
       "<div>\n",
       "<style scoped>\n",
       "    .dataframe tbody tr th:only-of-type {\n",
       "        vertical-align: middle;\n",
       "    }\n",
       "\n",
       "    .dataframe tbody tr th {\n",
       "        vertical-align: top;\n",
       "    }\n",
       "\n",
       "    .dataframe thead th {\n",
       "        text-align: right;\n",
       "    }\n",
       "</style>\n",
       "<table border=\"1\" class=\"dataframe\">\n",
       "  <thead>\n",
       "    <tr style=\"text-align: right;\">\n",
       "      <th></th>\n",
       "      <th>name</th>\n",
       "      <th>url</th>\n",
       "      <th>tweet_volume</th>\n",
       "    </tr>\n",
       "  </thead>\n",
       "  <tbody>\n",
       "    <tr>\n",
       "      <th>30</th>\n",
       "      <td>Beyoncé</td>\n",
       "      <td>http://twitter.com/search?q=Beyonc%C3%A9</td>\n",
       "      <td>203721.0</td>\n",
       "    </tr>\n",
       "    <tr>\n",
       "      <th>31</th>\n",
       "      <td>Dune</td>\n",
       "      <td>http://twitter.com/search?q=Dune</td>\n",
       "      <td>150948.0</td>\n",
       "    </tr>\n",
       "    <tr>\n",
       "      <th>34</th>\n",
       "      <td>Encanto</td>\n",
       "      <td>http://twitter.com/search?q=Encanto</td>\n",
       "      <td>120818.0</td>\n",
       "    </tr>\n",
       "    <tr>\n",
       "      <th>42</th>\n",
       "      <td>Zendaya</td>\n",
       "      <td>http://twitter.com/search?q=Zendaya</td>\n",
       "      <td>117653.0</td>\n",
       "    </tr>\n",
       "    <tr>\n",
       "      <th>48</th>\n",
       "      <td>Duke</td>\n",
       "      <td>http://twitter.com/search?q=Duke</td>\n",
       "      <td>116909.0</td>\n",
       "    </tr>\n",
       "    <tr>\n",
       "      <th>45</th>\n",
       "      <td>World Cup</td>\n",
       "      <td>http://twitter.com/search?q=%22World+Cup%22</td>\n",
       "      <td>111669.0</td>\n",
       "    </tr>\n",
       "    <tr>\n",
       "      <th>36</th>\n",
       "      <td>Ariana</td>\n",
       "      <td>http://twitter.com/search?q=Ariana</td>\n",
       "      <td>95088.0</td>\n",
       "    </tr>\n",
       "    <tr>\n",
       "      <th>14</th>\n",
       "      <td>billie</td>\n",
       "      <td>http://twitter.com/search?q=billie</td>\n",
       "      <td>68328.0</td>\n",
       "    </tr>\n",
       "    <tr>\n",
       "      <th>17</th>\n",
       "      <td>Carolina</td>\n",
       "      <td>http://twitter.com/search?q=Carolina</td>\n",
       "      <td>64003.0</td>\n",
       "    </tr>\n",
       "    <tr>\n",
       "      <th>37</th>\n",
       "      <td>Bond</td>\n",
       "      <td>http://twitter.com/search?q=Bond</td>\n",
       "      <td>61730.0</td>\n",
       "    </tr>\n",
       "  </tbody>\n",
       "</table>\n",
       "</div>"
      ],
      "text/plain": [
       "         name                                          url  tweet_volume\n",
       "30    Beyoncé     http://twitter.com/search?q=Beyonc%C3%A9      203721.0\n",
       "31       Dune             http://twitter.com/search?q=Dune      150948.0\n",
       "34    Encanto          http://twitter.com/search?q=Encanto      120818.0\n",
       "42    Zendaya          http://twitter.com/search?q=Zendaya      117653.0\n",
       "48       Duke             http://twitter.com/search?q=Duke      116909.0\n",
       "45  World Cup  http://twitter.com/search?q=%22World+Cup%22      111669.0\n",
       "36     Ariana           http://twitter.com/search?q=Ariana       95088.0\n",
       "14     billie           http://twitter.com/search?q=billie       68328.0\n",
       "17   Carolina         http://twitter.com/search?q=Carolina       64003.0\n",
       "37       Bond             http://twitter.com/search?q=Bond       61730.0"
      ]
     },
     "execution_count": 133,
     "metadata": {},
     "output_type": "execute_result"
    }
   ],
   "source": [
    "df_trend.head(10)"
   ]
  },
  {
   "cell_type": "markdown",
   "metadata": {},
   "source": [
    "The following code may take a few minutes to run to collect the tweets, depending on the number of tweets."
   ]
  },
  {
   "cell_type": "code",
   "execution_count": 134,
   "metadata": {},
   "outputs": [],
   "source": [
    "# new_search = \"#new_search -filter:retweets\"\n",
    "#new_search = \" -filter:retweets\"\n",
    "\n",
    "# use cursor to send your request with parameters\n",
    "tweets = tweepy.Cursor(api.search_tweets,\n",
    "                   q=\"beach\",\n",
    "                   geocode = \"27.9506,-82.4572,20000mi\",\n",
    "                   lang=\"en\").items(100)\n",
    "\n",
    "# restore the results as a list\n",
    "search_result = [[tweet.user.screen_name, tweet.text, tweet.user.location,tweet.place] for tweet in tweets]"
   ]
  },
  {
   "cell_type": "markdown",
   "metadata": {},
   "source": [
    "Convert the searched tweets into a dataframe"
   ]
  },
  {
   "cell_type": "code",
   "execution_count": 135,
   "metadata": {},
   "outputs": [
    {
     "data": {
      "text/plain": [
       "[['vaenergy',\n",
       "  '@SethQuick5 @mkobach great history, great foodie town, 1 hour to mountains, 1 1/2 hour to the beach, 2 hours to Was… https://t.co/R84RdcotZL',\n",
       "  'Key Largo FL',\n",
       "  None],\n",
       " ['gwardhome',\n",
       "  'Bumbling Buffon Beach Cosplay Lawyer @DWUhlfelderLaw starts campaign page @DanielUhlfelder .\\nTwice the trolling twi… https://t.co/Zpi1dytICK',\n",
       "  'Plantation, FL',\n",
       "  Place(_api=<tweepy.api.API object at 0x00000254C7BF6160>, id='7df9a00dcf914d5e', url='https://api.twitter.com/1.1/geo/id/7df9a00dcf914d5e.json', place_type='city', name='Plantation', full_name='Plantation, FL', country_code='US', country='United States', contained_within=[], bounding_box=BoundingBox(_api=<tweepy.api.API object at 0x00000254C7BF6160>, type='Polygon', coordinates=[[[-80.330201, 26.088262], [-80.1968332, 26.088262], [-80.1968332, 26.160753], [-80.330201, 26.160753]]]), attributes={})],\n",
       " ['EdPiotrowski',\n",
       "  'The ferris wheel at Broadway at the Beach still shines brightly in the colors of the Ukrainian flag to show support… https://t.co/vWzgGvkH0C',\n",
       "  'Myrtle Beach, SC',\n",
       "  None],\n",
       " ['claudefla01',\n",
       "  'Spectacular beach front condo with panoramic ocean and city views! https://t.co/UK8NBYj0Kb',\n",
       "  'miami beach',\n",
       "  None],\n",
       " ['jakelkapri', 'Ugh, quick beach run won’t hurt 😩', 'Orlando, fl', None],\n",
       " ['_celestefran', 'I really need a beach day 😩', 'Bahamas', None],\n",
       " ['scadatlplaylist',\n",
       "  'Just played: Gorillaz - Superfast Jellyfish (Feat. Gruff Rhys and De La Soul) (Plastic Beach)',\n",
       "  'SCAD Atlanta',\n",
       "  None],\n",
       " ['Soul_Spiration',\n",
       "  '#NowPlaying My Salvation (Beach Remix) by Carol Angel  @carolangelmusic      04:45 https://t.co/U3vXnRGL7P',\n",
       "  'Atlanta, GA',\n",
       "  None],\n",
       " ['dionfuckingtae_',\n",
       "  'Myrtle Beach niggas sooooo lame dawg! Like ain’t no way boy...',\n",
       "  'Myrtle Beach, SC',\n",
       "  None],\n",
       " ['What2WearWhere',\n",
       "  \"@megbraffdesigns What a fab opening!   Don't miss 6417 Georgia Avenue, West Palm Beach @ Meg Braff Designs Palm Bea… https://t.co/4xaQH3NMON\",\n",
       "  'New York',\n",
       "  Place(_api=<tweepy.api.API object at 0x00000254C7BF6160>, id='4de072969805ac41', url='https://api.twitter.com/1.1/geo/id/4de072969805ac41.json', place_type='city', name='West Palm Beach', full_name='West Palm Beach, FL', country_code='US', country='United States', contained_within=[], bounding_box=BoundingBox(_api=<tweepy.api.API object at 0x00000254C7BF6160>, type='Polygon', coordinates=[[[-80.2006, 26.644671], [-80.044639, 26.644671], [-80.044639, 26.7991205], [-80.2006, 26.7991205]]]), attributes={})],\n",
       " ['NWJS_jobs',\n",
       "  'See our latest Vero Beach, FL job opening. https://t.co/NqkvLMWAYH Regional Chair, Department Of Nephrology Healthcarejobs',\n",
       "  '',\n",
       "  Place(_api=<tweepy.api.API object at 0x00000254C7BF6160>, id='3cf05613c1dd6dbd', url='https://api.twitter.com/1.1/geo/id/3cf05613c1dd6dbd.json', place_type='city', name='Vero Beach', full_name='Vero Beach, FL', country_code='US', country='United States', contained_within=[], bounding_box=BoundingBox(_api=<tweepy.api.API object at 0x00000254C7BF6160>, type='Polygon', coordinates=[[[-80.463302, 27.5870076], [-80.346166, 27.5870076], [-80.346166, 27.674983], [-80.463302, 27.674983]]]), attributes={})],\n",
       " ['wrestlesavannah',\n",
       "  '2022 NHSCA Nationals \\n\\nThis past weekend we grouped up with @newhampsteadwrst and BCHS wrestling to take a group of… https://t.co/wmzaSQPoFe',\n",
       "  'Springfield, GA',\n",
       "  None],\n",
       " ['donlexofficial',\n",
       "  '@majorleaguedjz 🅿️ushing 🅿️iano to the world 🌍 Enjoyed every second of the set! It was great meeting you guys!… https://t.co/e3yyyJjuvn',\n",
       "  'Miami, FL',\n",
       "  Place(_api=<tweepy.api.API object at 0x00000254C7BF6160>, id='0121b92345f0e2b4', url='https://api.twitter.com/1.1/geo/id/0121b92345f0e2b4.json', place_type='city', name='Miami Beach', full_name='Miami Beach, FL', country_code='US', country='United States', contained_within=[], bounding_box=BoundingBox(_api=<tweepy.api.API object at 0x00000254C7BF6160>, type='Polygon', coordinates=[[[-80.147162, 25.7613083], [-80.1187628, 25.7613083], [-80.1187628, 25.872623], [-80.147162, 25.872623]]]), attributes={})],\n",
       " ['JABA_Anderson',\n",
       "  'Check out this newly renovated Bondi Beach apartment that completely energised with colours and curves.… https://t.co/KnaEu8kKG5',\n",
       "  'Double Bay',\n",
       "  None],\n",
       " ['zevonplant',\n",
       "  '@dennisisok @Gods_Fav_Fool @Shade_Nox @nformerlyn This is stuff you can literally just google to find out, my guy.… https://t.co/eSetUAyCFs',\n",
       "  'Hell, FL',\n",
       "  None],\n",
       " ['fusion_xr',\n",
       "  '@dopeantelope_ My daughter is moving in this August to go to college in Myrtle Beach and I have been informed that… https://t.co/nlV2kxaWlb',\n",
       "  'Myrtle Beach',\n",
       "  None],\n",
       " ['claudefla01',\n",
       "  'Spacious &amp; remodeled  1Br rental in Miami Beach! https://t.co/7yTThyfq9M',\n",
       "  'miami beach',\n",
       "  None],\n",
       " ['IAm_ABriaMarie',\n",
       "  'I’d live in west palm beach if the cost of living wasn’t so damn high🥴',\n",
       "  'Winter Springs, FL',\n",
       "  None],\n",
       " ['ButterFly_1921',\n",
       "  'I need a candle lit dinner on the beach with a chef and a massage ❤️',\n",
       "  'Atlanta, GA',\n",
       "  None],\n",
       " ['JGerardWeather',\n",
       "  'Brush fires near Juno Beach this afternoon showing up on VIPIR radar. The smoke was so thick the radar thought it w… https://t.co/iMGEwoe1W0',\n",
       "  'Hollywood, FL',\n",
       "  None],\n",
       " ['BelDrewt',\n",
       "  '“Just another Magic Monday” – Unknown #beach #flowers #fun #kiss #photooftheday https://t.co/LomVNpWHyD',\n",
       "  'Orlando',\n",
       "  None],\n",
       " ['BHANELNO9',\n",
       "  '@key_luhhhhh U kill me bc I literally live by Disney &amp; a beach and you act like y’all can’t come to my house for fr… https://t.co/qI0GxKr8wL',\n",
       "  'Tampa, FL',\n",
       "  None],\n",
       " ['shyler11599',\n",
       "  'Tdc beach day gonna be reckless i can’t wait',\n",
       "  'Fort Myers, FL',\n",
       "  None],\n",
       " ['IAm_ABriaMarie',\n",
       "  'Some of the best times I ever had was hanging in west palm beach with Brittany &amp; her family 😭 My kids never wanted… https://t.co/7a7HDY2jp8',\n",
       "  'Winter Springs, FL',\n",
       "  None],\n",
       " ['NiftersThaGoat',\n",
       "  '@Lil_Giannis @DrGuru_ She reminds me of Doris Burke. And I do not like Doris whatsoever. But man. After hearing the… https://t.co/9jfoCp0sZP',\n",
       "  'Valrico, FL',\n",
       "  None],\n",
       " ['thisher__',\n",
       "  'MAY 29th BEACH DAY? definitely not gone miss it \\U0001fae0',\n",
       "  'Atlanta, GA',\n",
       "  None],\n",
       " ['KristenRary',\n",
       "  'Pictures from this breaking scene on Beach Boulevard- the driver of this motorcycle was hit and killed by another c… https://t.co/02vPyuN7vg',\n",
       "  'Jacksonville Beach, FL',\n",
       "  None],\n",
       " ['MaggieToussaint',\n",
       "  'Love beach reads? Try Seas the Day: island setting, amateur sleuth, and recipes! Series Mystery… https://t.co/lcfGVFL2vy',\n",
       "  'Darien, GA',\n",
       "  None],\n",
       " ['Albany_Herald',\n",
       "  \"Florida man indicted in killing of Daytona Beach couple, who a state attorney says 'were picked at random'… https://t.co/okT7bE02ZR\",\n",
       "  'Albany, Ga',\n",
       "  None],\n",
       " ['TheClaytonNews',\n",
       "  \"Florida man indicted in killing of Daytona Beach couple, who a state attorney says 'were picked at random'… https://t.co/LssMEj91Nv\",\n",
       "  'Jonesboro, Ga.',\n",
       "  None],\n",
       " ['thatgirlresh_', 'miami beach houses too nice 🔥', 'miami', None],\n",
       " ['JaxDad0537',\n",
       "  \"@TaylorMadeGolf Cypress Point as a 17 year old who had just won a southern state's high school championship! I was… https://t.co/G6EkemaMSn\",\n",
       "  'Jacksonville',\n",
       "  None],\n",
       " ['pcbwx',\n",
       "  'Currently at Dollar Outlet in Panama City Beach, FL on March 29, 2022 at 09:02PM\\n\\nTemp: 67.3 °F\\nFeels Like: 67.3 °F… https://t.co/RZ32bmc2Qx',\n",
       "  'Panama City Beach, FL',\n",
       "  None],\n",
       " ['JaxDad0537',\n",
       "  '@TaylorMadeGolf I had the opportunity to walk, not play, Augusta National at the 2014. After the last group on the… https://t.co/ivSK3uiZaP',\n",
       "  'Jacksonville',\n",
       "  None],\n",
       " ['BossHoggRadio1',\n",
       "  'The Beach Boys - Barbara Ann [Single Version] https://t.co/y3sQBTO2dn',\n",
       "  'Plant City, FL',\n",
       "  None],\n",
       " ['TheKrakenSays',\n",
       "  \"@alexmeshkin I'm in Florida. I doubt there's anyone in the state who has real, raw data about Covid. It's so fun, t… https://t.co/FEhaijGTZM\",\n",
       "  'The Keys, FL',\n",
       "  None],\n",
       " ['Pelicanbaseball',\n",
       "  \"Hope y'all had as much fun as we did.\\n\\nAppreciate the hospitality, @Cubs.\\n\\nBack to the Beach! ✈️ https://t.co/AlD05nnjf6\",\n",
       "  'Myrtle Beach, SC',\n",
       "  None],\n",
       " ['__alyxandria',\n",
       "  'I got a trip planned somewhere but y’all making the beach look a little too much for n 😭',\n",
       "  'Birmingham, AL',\n",
       "  None],\n",
       " ['TheNewsPress',\n",
       "  'Finally, mercifully, the $80 million road construction project that started in 2015 to \"modernize\" the busiest stre… https://t.co/ehzSj4Klx8',\n",
       "  'Fort Myers, Florida',\n",
       "  None],\n",
       " ['ShoreRadio',\n",
       "  'Now Playing Beach Bars and Guitars with Johnny Russel on https://t.co/X4bOlQIWf7 . https://t.co/mrrpZWv1HM',\n",
       "  'Jacksonville Beach, FL',\n",
       "  None],\n",
       " ['D3zMix',\n",
       "  'Last night in #pcb so of course we have to make it #GLOW #coyoteuglypcb #springbreak #springbreak2022 #D3Z… https://t.co/FncOgE81Jc',\n",
       "  'FL USA ',\n",
       "  Place(_api=<tweepy.api.API object at 0x00000254C7BF6160>, id='9ebd5acfac2301ba', url='https://api.twitter.com/1.1/geo/id/9ebd5acfac2301ba.json', place_type='city', name='Panama City Beach', full_name='Panama City Beach, FL', country_code='US', country='United States', contained_within=[], bounding_box=BoundingBox(_api=<tweepy.api.API object at 0x00000254C7BF6160>, type='Polygon', coordinates=[[[-85.95802, 30.1650609], [-85.7860766, 30.1650609], [-85.7860766, 30.266595], [-85.95802, 30.266595]]]), attributes={})],\n",
       " ['ExolvedBlood',\n",
       "  '@ImFeanix Lmao people are pathetic. That’s like when everyone said i spend sub money on designer clothes and my bea… https://t.co/0KCvMWJAJX',\n",
       "  'Myrtle Beach, SC',\n",
       "  None],\n",
       " ['MacnTsDaddy',\n",
       "  '@DWUhlfelderLaw @CrackerJax123 #DimReaper also predicted covid death and doom to all beach goers.\\n\\nTurns out the be… https://t.co/L9eWVzMuJA',\n",
       "  'Pensacola, Florida',\n",
       "  None],\n",
       " ['eatlivestay',\n",
       "  'StPete Beach has many beautiful places to see! We had the pleasure of meeting the power couple of @LiveaMemory at t… https://t.co/4eSDHrnixH',\n",
       "  'Florida, USA',\n",
       "  Place(_api=<tweepy.api.API object at 0x00000254C7BF6160>, id='33b2dcb23911eef4', url='https://api.twitter.com/1.1/geo/id/33b2dcb23911eef4.json', place_type='city', name='St Pete Beach', full_name='St Pete Beach, FL', country_code='US', country='United States', contained_within=[], bounding_box=BoundingBox(_api=<tweepy.api.API object at 0x00000254C7BF6160>, type='Polygon', coordinates=[[[-82.7604, 27.6825055], [-82.725347, 27.6825055], [-82.725347, 27.758631], [-82.7604, 27.758631]]]), attributes={})],\n",
       " ['Real_SoundMoney',\n",
       "  'We can’t wait for the @AsadiMusic set! \\n\\nSound Money Fest\\nMusic Festival happening in \\nMiami Beach, FL April 9th 10… https://t.co/KNwMVIyqNe',\n",
       "  'Miami Beach, FL',\n",
       "  None],\n",
       " ['Jeff_McLane',\n",
       "  'WEST PALM BEACH, Fla — Nick Sirianni not running from a run-based offense with Jalen Hurts as #Eagles quarterback.… https://t.co/2SrKHSMeiv',\n",
       "  'Philadelphia',\n",
       "  Place(_api=<tweepy.api.API object at 0x00000254C7BF6160>, id='3297935a53c5a08c', url='https://api.twitter.com/1.1/geo/id/3297935a53c5a08c.json', place_type='city', name='Palm Beach', full_name='Palm Beach, FL', country_code='US', country='United States', contained_within=[], bounding_box=BoundingBox(_api=<tweepy.api.API object at 0x00000254C7BF6160>, type='Polygon', coordinates=[[[-80.0455466, 26.593627], [-80.032976, 26.593627], [-80.032976, 26.771381], [-80.0455466, 26.771381]]]), attributes={})],\n",
       " ['rycgreene1962',\n",
       "  \"Today's walk sponsored by the letters G.O.D. @ Miramar Beach, Florida https://t.co/W7Ldzkao5y\",\n",
       "  'Atlanta,  Georgia',\n",
       "  None],\n",
       " ['Isaiah_Entre',\n",
       "  '“I Ain’t The Captain of The Yacht, But I’m On The Boat…” @michael_bowens215 @countrycookin1 @darrylshuler215… https://t.co/UafG0DJmnx',\n",
       "  'Atl/Philly',\n",
       "  Place(_api=<tweepy.api.API object at 0x00000254C7BF6160>, id='0121b92345f0e2b4', url='https://api.twitter.com/1.1/geo/id/0121b92345f0e2b4.json', place_type='city', name='Miami Beach', full_name='Miami Beach, FL', country_code='US', country='United States', contained_within=[], bounding_box=BoundingBox(_api=<tweepy.api.API object at 0x00000254C7BF6160>, type='Polygon', coordinates=[[[-80.147162, 25.7613083], [-80.1187628, 25.7613083], [-80.1187628, 25.872623], [-80.147162, 25.872623]]]), attributes={})],\n",
       " ['1059WRTR',\n",
       "  \".@CoastToCoastAM: Video: Nightmarish 'Mystery Creature' Remains Found on Australian Beach https://t.co/BzzWiC5Gh5\",\n",
       "  'Tuscaloosa, Alabama',\n",
       "  None],\n",
       " ['BSteve90',\n",
       "  'Make so much passively that you can buy all of this stuff without missing a beat....\\n\\n#thelonggame… https://t.co/Y7zvcZapRj',\n",
       "  'Morristown, TN',\n",
       "  Place(_api=<tweepy.api.API object at 0x00000254C7BF6160>, id='253e07b9636d0061', url='https://api.twitter.com/1.1/geo/id/253e07b9636d0061.json', place_type='city', name='Hallandale Beach', full_name='Hallandale Beach, FL', country_code='US', country='United States', contained_within=[], bounding_box=BoundingBox(_api=<tweepy.api.API object at 0x00000254C7BF6160>, type='Polygon', coordinates=[[[-80.2070465, 25.9728518], [-80.11721, 25.9728518], [-80.11721, 25.997497], [-80.2070465, 25.997497]]]), attributes={})],\n",
       " ['WPBF25News',\n",
       "  'Fire crews respond to large brush fire in Juno Beach https://t.co/hKCjVZjZ9t',\n",
       "  'West Palm Beach, FL',\n",
       "  None],\n",
       " ['Ortapalooza',\n",
       "  'Dinner is Tacos with some 15 hour smoked brisket I cooked the other day, shredded cheese, green onion, and Momofuku… https://t.co/CYB4nA3TAG',\n",
       "  'Ponte Vedra Beach, FL',\n",
       "  Place(_api=<tweepy.api.API object at 0x00000254C7BF6160>, id='4ec01c9dbc693497', url='https://api.twitter.com/1.1/geo/id/4ec01c9dbc693497.json', place_type='admin', name='Florida', full_name='Florida, USA', country_code='US', country='United States', contained_within=[], bounding_box=BoundingBox(_api=<tweepy.api.API object at 0x00000254C7BF6160>, type='Polygon', coordinates=[[[-87.634643, 24.396308], [-79.974307, 24.396308], [-79.974307, 31.001056], [-87.634643, 31.001056]]]), attributes={})],\n",
       " ['dfoceans',\n",
       "  'Flagler Beach is now much cleaner thanks to this crew that RESCUED our oceans on Sat! We teamed up with Flagler Oce… https://t.co/6N750dCW9E',\n",
       "  'Miami, Florida',\n",
       "  None],\n",
       " ['fox35orlando',\n",
       "  \"It can take a lot of people to help clean Florida's beaches, which is why an organization is using technology, spec… https://t.co/eM1yWMbzzP\",\n",
       "  'Orlando, Florida',\n",
       "  None],\n",
       " ['triplejplays', '.@BENEEMUSIC - Beach Boy [12:38]', 'Australia', None],\n",
       " ['DivineRemedy',\n",
       "  'All these people do is walk to the beach and come back home drunk af 🤣 This lady usually always talks to me, but sh… https://t.co/TIxKovza3G',\n",
       "  'Miami, FL',\n",
       "  None],\n",
       " ['chivis_m26',\n",
       "  \"I'm at Palace Bar in Miami Beach, FL https://t.co/zEIcDmpqkY\",\n",
       "  '',\n",
       "  Place(_api=<tweepy.api.API object at 0x00000254C7BF6160>, id='0121b92345f0e2b4', url='https://api.twitter.com/1.1/geo/id/0121b92345f0e2b4.json', place_type='city', name='Miami Beach', full_name='Miami Beach, FL', country_code='US', country='United States', contained_within=[], bounding_box=BoundingBox(_api=<tweepy.api.API object at 0x00000254C7BF6160>, type='Polygon', coordinates=[[[-80.147162, 25.7613083], [-80.1187628, 25.7613083], [-80.1187628, 25.872623], [-80.147162, 25.872623]]]), attributes={})],\n",
       " ['curly1k84952',\n",
       "  'I wanna ride to the beach an clear my mind 🙁',\n",
       "  'Orlando, FL',\n",
       "  None],\n",
       " ['vintagegalleria',\n",
       "  'Vintage HALL Pink Teapot Plume Feathers Pattern 1940s Stoneware Hexagonal Shape Starfish Embossed Design USA Made B… https://t.co/WXC6GkUoSj',\n",
       "  'Minnesota',\n",
       "  None],\n",
       " ['GabeMcDonald_',\n",
       "  'HIGH SCHOOL SOFTBALL\\n\\n@NMB_Softball 13\\nMyrtle Beach 1\\nFINAL\\n\\n@wmbfnews',\n",
       "  'Myrtle Beach, SC',\n",
       "  None],\n",
       " ['ArnellAmerica',\n",
       "  'I just want cribs in Miami Beach &amp; Malibu Beach..',\n",
       "  'Miami Beach, FL',\n",
       "  None],\n",
       " ['freeradiodixie',\n",
       "  'Now Playing - Beach House -Zebra- Listen at https://t.co/WHmjIAsaqZ',\n",
       "  'Aiken, SC',\n",
       "  None],\n",
       " ['odieraccoon',\n",
       "  \"I'm at Howley's Restaurant - @howleysdiner in West Palm Beach, FL https://t.co/SLglDmYslr https://t.co/Frjm9nfWDz\",\n",
       "  'Yonkers, NY',\n",
       "  Place(_api=<tweepy.api.API object at 0x00000254C7BF6160>, id='4de072969805ac41', url='https://api.twitter.com/1.1/geo/id/4de072969805ac41.json', place_type='city', name='West Palm Beach', full_name='West Palm Beach, FL', country_code='US', country='United States', contained_within=[], bounding_box=BoundingBox(_api=<tweepy.api.API object at 0x00000254C7BF6160>, type='Polygon', coordinates=[[[-80.2006, 26.644671], [-80.044639, 26.644671], [-80.044639, 26.7991205], [-80.2006, 26.7991205]]]), attributes={})],\n",
       " ['daltonorwig',\n",
       "  'Seems the only way to keep thugs off the streets in Alabama is to have Florida take care of it\\n\\nAlabama ‘criminals’… https://t.co/Xh4M1lIHlP',\n",
       "  'Mobile, alabama',\n",
       "  None],\n",
       " ['NWJS_jobs',\n",
       "  \"We're hiring! Painter/Finisher Helper Apply: https://t.co/Lm9F3CLVuq Painterjobs Riviera Beach, FL\",\n",
       "  '',\n",
       "  Place(_api=<tweepy.api.API object at 0x00000254C7BF6160>, id='ee2930da9f67751a', url='https://api.twitter.com/1.1/geo/id/ee2930da9f67751a.json', place_type='city', name='Riviera Beach', full_name='Riviera Beach, FL', country_code='US', country='United States', contained_within=[], bounding_box=BoundingBox(_api=<tweepy.api.API object at 0x00000254C7BF6160>, type='Polygon', coordinates=[[[-80.119474, 26.762211], [-80.031242, 26.762211], [-80.031242, 26.815144], [-80.119474, 26.815144]]]), attributes={})],\n",
       " ['asiann_girly', 'Beach pizza be the best pizza', 'Broward county, FL', None],\n",
       " ['billhero',\n",
       "  'We have another winner! Jeffrey in Palm Beach QLD, is on the very best priced plan available, thanks to Bill Hero!… https://t.co/jbO1YkGxkk',\n",
       "  'Australia',\n",
       "  None],\n",
       " ['CompassCenter',\n",
       "  'Palm Beach Pride presented Yoli Mayor as the headliner this past Sunday! You can see Yoli on American Idol Season 2… https://t.co/8gMM9elw3E',\n",
       "  'Lake Worth, FL',\n",
       "  None],\n",
       " ['VillaVRestate',\n",
       "  '#happiness #destiny2 @valentina_versace7 #15613359459 #luxurytravelbyvalentina #valentinaaved #realtorlife @ Palm B… https://t.co/P8NRqEDciK',\n",
       "  'Palm Beach, FL,33480',\n",
       "  Place(_api=<tweepy.api.API object at 0x00000254C7BF6160>, id='4de072969805ac41', url='https://api.twitter.com/1.1/geo/id/4de072969805ac41.json', place_type='city', name='West Palm Beach', full_name='West Palm Beach, FL', country_code='US', country='United States', contained_within=[], bounding_box=BoundingBox(_api=<tweepy.api.API object at 0x00000254C7BF6160>, type='Polygon', coordinates=[[[-80.2006, 26.644671], [-80.044639, 26.644671], [-80.044639, 26.7991205], [-80.2006, 26.7991205]]]), attributes={})],\n",
       " ['JSASUALUM',\n",
       "  'Loving island in Fernandina Beach. Hanging with island friends. 🍻🌴 - Drinking a Bikini Blonde Lager by… https://t.co/QSBbirdzeq',\n",
       "  'Fernandina Beach, FL',\n",
       "  Place(_api=<tweepy.api.API object at 0x00000254C7BF6160>, id='018c7487414ba078', url='https://api.twitter.com/1.1/geo/id/018c7487414ba078.json', place_type='city', name='Fernandina Beach', full_name='Fernandina Beach, FL', country_code='US', country='United States', contained_within=[], bounding_box=BoundingBox(_api=<tweepy.api.API object at 0x00000254C7BF6160>, type='Polygon', coordinates=[[[-81.483315, 30.598822], [-81.426432, 30.598822], [-81.426432, 30.705597], [-81.483315, 30.705597]]]), attributes={})],\n",
       " ['WCWarhawksBB',\n",
       "  'Dropped another close one to Melbourne Central Catholic (FL).  Back at it tomorrow. @ Cocoa Beach, Florida https://t.co/lpPGk6dJso',\n",
       "  '',\n",
       "  Place(_api=<tweepy.api.API object at 0x00000254C7BF6160>, id='376e6de722d9a691', url='https://api.twitter.com/1.1/geo/id/376e6de722d9a691.json', place_type='city', name='Cocoa Beach', full_name='Cocoa Beach, FL', country_code='US', country='United States', contained_within=[], bounding_box=BoundingBox(_api=<tweepy.api.API object at 0x00000254C7BF6160>, type='Polygon', coordinates=[[[-80.64362, 28.286581], [-80.601732, 28.286581], [-80.601732, 28.372031], [-80.64362, 28.372031]]]), attributes={})],\n",
       " ['InnesFrances',\n",
       "  \"@gazsparkz @samanthamaiden @newscomauHQ Also Scott's preferred packaging, remember the millions of dollars spent to… https://t.co/q6lUYefURY\",\n",
       "  'Australia',\n",
       "  None],\n",
       " ['EastGlacierMT',\n",
       "  'A great day to do a Lyft run the Ft Myers Beach with Spring Breakers, then come back to town to dine with friends,… https://t.co/j898iTXIbH',\n",
       "  'Fort Myers, FL',\n",
       "  None],\n",
       " ['idol1236',\n",
       "  '@Fioreli_4 @nowthisnews Yes in Jacksonville beach at Baptist hospital',\n",
       "  'Jacksonville Beach, FL',\n",
       "  None],\n",
       " ['SzechuanDon_',\n",
       "  'I need a vacation. A real one. On the beach with my man relaxing getting dronk \\U0001f972',\n",
       "  'FL',\n",
       "  None],\n",
       " ['WMBBTV',\n",
       "  'Investigation continues into weekend madness https://t.co/pcEu21DhWH',\n",
       "  'Panama City, Florida',\n",
       "  None],\n",
       " ['theroaring20z',\n",
       "  'west palm beach, florida https://t.co/p0E4O4xZb2',\n",
       "  'Miami, FL',\n",
       "  None],\n",
       " ['JoshNavarroTV',\n",
       "  '#ICYMI Venezuelans in Palm Beach County seeking TPS extension due to political unrest. Full article here &amp; link to… https://t.co/xeU2aKc5mA',\n",
       "  'West Palm Beach, FL 🏝',\n",
       "  Place(_api=<tweepy.api.API object at 0x00000254C7BF6160>, id='4de072969805ac41', url='https://api.twitter.com/1.1/geo/id/4de072969805ac41.json', place_type='city', name='West Palm Beach', full_name='West Palm Beach, FL', country_code='US', country='United States', contained_within=[], bounding_box=BoundingBox(_api=<tweepy.api.API object at 0x00000254C7BF6160>, type='Polygon', coordinates=[[[-80.2006, 26.644671], [-80.044639, 26.644671], [-80.044639, 26.7991205], [-80.2006, 26.7991205]]]), attributes={})],\n",
       " ['OneSmugPug', '@Beach_Wizard WFH day for me anyway', 'Shangri La', None],\n",
       " ['WeirdArchives',\n",
       "  '@Graciecosplay Very sweet, this is. You must’ve enjoyed your time at the beach.',\n",
       "  'Destin, Florida, USA',\n",
       "  None],\n",
       " ['GunCorky',\n",
       "  '@BaileyCarlin If you honestly think Orange Beach in Alabama is bottom tier, you are a clown',\n",
       "  'Atlanta, GA',\n",
       "  None],\n",
       " ['reneebeninate',\n",
       "  'BREAKING: A large section of Beach Blvd is blocked off w/ crime scene tape. JSO &amp; JFRD are here investigating what… https://t.co/1JBYseypdE',\n",
       "  'Jacksonville, FL',\n",
       "  None],\n",
       " ['OneSmugPug', '@Beach_Wizard 70 degrees? WTF', 'Shangri La', None],\n",
       " ['TheTikiTender',\n",
       "  'I hope you\\'ll join me at midnight for my \"Ride The Wave\" show on Surf 97.3 FM in Flagler Beach. Listen via the… https://t.co/EiQfaRHN31',\n",
       "  'Flagler Beach, Florida',\n",
       "  None],\n",
       " ['OneSmugPug',\n",
       "  '@Beach_Wizard doable, do I have to wear pants?',\n",
       "  'Shangri La',\n",
       "  None],\n",
       " ['ShawnWells4',\n",
       "  '@pnut @311 @NickHexum thank you sir for the amazing show in Myrtle Beach. We had tickets that were canceled 2 years… https://t.co/MrDfHt8LxB',\n",
       "  'Myrtle Beach, SC',\n",
       "  None],\n",
       " ['Coach_Sime81',\n",
       "  'My JV Girls Flag Team rebounded from a tough loss yesterday with a great 14-0 win tonight over a good Jensen Beach… https://t.co/QaMiCyQJMQ',\n",
       "  'Wellington, FL',\n",
       "  None],\n",
       " ['WCTVFirstAlert',\n",
       "  'Here are the rip current risks for today. Be sure to check the beach flags before you get in the water. Here is mor… https://t.co/toWT2D11cL',\n",
       "  'Tallahassee, FL',\n",
       "  None],\n",
       " ['MNMike99',\n",
       "  \"I'm at Cocoa Beach Ale House in Cocoa Beach, FL https://t.co/9w5r7x4Zzu\",\n",
       "  '',\n",
       "  Place(_api=<tweepy.api.API object at 0x00000254C7BF6160>, id='376e6de722d9a691', url='https://api.twitter.com/1.1/geo/id/376e6de722d9a691.json', place_type='city', name='Cocoa Beach', full_name='Cocoa Beach, FL', country_code='US', country='United States', contained_within=[], bounding_box=BoundingBox(_api=<tweepy.api.API object at 0x00000254C7BF6160>, type='Polygon', coordinates=[[[-80.64362, 28.286581], [-80.601732, 28.286581], [-80.601732, 28.372031], [-80.64362, 28.372031]]]), attributes={})],\n",
       " ['RaiaJardineee',\n",
       "  'tequila loves us @ Miami Beach, Florida https://t.co/u9K4ofN7ar',\n",
       "  'Michigan',\n",
       "  Place(_api=<tweepy.api.API object at 0x00000254C7BF6160>, id='0121b92345f0e2b4', url='https://api.twitter.com/1.1/geo/id/0121b92345f0e2b4.json', place_type='city', name='Miami Beach', full_name='Miami Beach, FL', country_code='US', country='United States', contained_within=[], bounding_box=BoundingBox(_api=<tweepy.api.API object at 0x00000254C7BF6160>, type='Polygon', coordinates=[[[-80.147162, 25.7613083], [-80.1187628, 25.7613083], [-80.1187628, 25.872623], [-80.147162, 25.872623]]]), attributes={})],\n",
       " ['linav8',\n",
       "  \"@c0pper_beach @louise6692 It's for help threading a needle\",\n",
       "  'Miami, Florida',\n",
       "  None],\n",
       " ['granthyarbrough',\n",
       "  '@QuinnyPig When Congress inevitably summons you to explain \"the cloud\". Will you also push for a requirement that u… https://t.co/xk7wD6CaDj',\n",
       "  'Atlanta, GA',\n",
       "  None],\n",
       " ['CoachChrisIGMBB',\n",
       "  'Really appreciate coach @AQAnderson15 &amp; @Coach_Vincent_  at Fort Lauderdale University for recruiting talent out of… https://t.co/VZvkH5yBYR',\n",
       "  'PALM BEACH, FL',\n",
       "  None],\n",
       " ['RounderLife',\n",
       "  'This body camera footage of officers from several agencies responding to the Sunday shooting on Panama City Beach w… https://t.co/REhueeszA7',\n",
       "  'Panama City Beach, FL ',\n",
       "  Place(_api=<tweepy.api.API object at 0x00000254C7BF6160>, id='9ebd5acfac2301ba', url='https://api.twitter.com/1.1/geo/id/9ebd5acfac2301ba.json', place_type='city', name='Panama City Beach', full_name='Panama City Beach, FL', country_code='US', country='United States', contained_within=[], bounding_box=BoundingBox(_api=<tweepy.api.API object at 0x00000254C7BF6160>, type='Polygon', coordinates=[[[-85.95802, 30.1650609], [-85.7860766, 30.1650609], [-85.7860766, 30.266595], [-85.95802, 30.266595]]]), attributes={})],\n",
       " ['SBBluffton',\n",
       "  '@NewYorkGolfer13 Somebody once said “ if you need music at the beach you’re missing the point”….I believe it applie… https://t.co/OpDPwwbm30',\n",
       "  'Bluffton, SC',\n",
       "  None],\n",
       " ['BuzzBoca',\n",
       "  'Venezuelans in Palm Beach County seeking TPS extension due to political\\xa0unrest https://t.co/7YBZPQGkAa',\n",
       "  'Boca Raton, Florida',\n",
       "  None],\n",
       " ['OneSmugPug',\n",
       "  \"@Beach_Wizard I don't even know who that is, is he related to Ben Kenobi?\",\n",
       "  'Shangri La',\n",
       "  None],\n",
       " ['north_quaz',\n",
       "  'USAF BQM-167A aerial target plane washed ashore in Boynton beach, FL. Circa - 2021 - https://t.co/wjx0wOL191',\n",
       "  'Miami, FL',\n",
       "  None],\n",
       " ['mintymalamute',\n",
       "  'i am glad i got into beach bunny RIGHT as they announce a new album, heck yissssssss',\n",
       "  'Pennsylvania, USA',\n",
       "  None],\n",
       " ['JerryDoffing',\n",
       "  'New Listing! 3 bed  | 1.5 bath  | 1800 sq. ft.  - Priced at $750,000 \\nRare &amp; absolutely exceptional opportunity to… https://t.co/5C9WcS1A3u',\n",
       "  'Minnesota',\n",
       "  None]]"
      ]
     },
     "execution_count": 135,
     "metadata": {},
     "output_type": "execute_result"
    }
   ],
   "source": [
    "search_result"
   ]
  },
  {
   "cell_type": "code",
   "execution_count": 136,
   "metadata": {},
   "outputs": [],
   "source": [
    "df_result = pd.DataFrame(data=search_result, \n",
    "                    columns=['user', \"text\",\"location\",\"place\"])"
   ]
  },
  {
   "cell_type": "markdown",
   "metadata": {},
   "source": [
    "Preview the first 5 tweets"
   ]
  },
  {
   "cell_type": "code",
   "execution_count": 137,
   "metadata": {},
   "outputs": [
    {
     "data": {
      "text/html": [
       "<div>\n",
       "<style scoped>\n",
       "    .dataframe tbody tr th:only-of-type {\n",
       "        vertical-align: middle;\n",
       "    }\n",
       "\n",
       "    .dataframe tbody tr th {\n",
       "        vertical-align: top;\n",
       "    }\n",
       "\n",
       "    .dataframe thead th {\n",
       "        text-align: right;\n",
       "    }\n",
       "</style>\n",
       "<table border=\"1\" class=\"dataframe\">\n",
       "  <thead>\n",
       "    <tr style=\"text-align: right;\">\n",
       "      <th></th>\n",
       "      <th>user</th>\n",
       "      <th>text</th>\n",
       "      <th>location</th>\n",
       "      <th>place</th>\n",
       "    </tr>\n",
       "  </thead>\n",
       "  <tbody>\n",
       "    <tr>\n",
       "      <th>0</th>\n",
       "      <td>vaenergy</td>\n",
       "      <td>@SethQuick5 @mkobach great history, great food...</td>\n",
       "      <td>Key Largo FL</td>\n",
       "      <td>None</td>\n",
       "    </tr>\n",
       "    <tr>\n",
       "      <th>1</th>\n",
       "      <td>gwardhome</td>\n",
       "      <td>Bumbling Buffon Beach Cosplay Lawyer @DWUhlfel...</td>\n",
       "      <td>Plantation, FL</td>\n",
       "      <td>Place(_api=&lt;tweepy.api.API object at 0x0000025...</td>\n",
       "    </tr>\n",
       "    <tr>\n",
       "      <th>2</th>\n",
       "      <td>EdPiotrowski</td>\n",
       "      <td>The ferris wheel at Broadway at the Beach stil...</td>\n",
       "      <td>Myrtle Beach, SC</td>\n",
       "      <td>None</td>\n",
       "    </tr>\n",
       "    <tr>\n",
       "      <th>3</th>\n",
       "      <td>claudefla01</td>\n",
       "      <td>Spectacular beach front condo with panoramic o...</td>\n",
       "      <td>miami beach</td>\n",
       "      <td>None</td>\n",
       "    </tr>\n",
       "    <tr>\n",
       "      <th>4</th>\n",
       "      <td>jakelkapri</td>\n",
       "      <td>Ugh, quick beach run won’t hurt 😩</td>\n",
       "      <td>Orlando, fl</td>\n",
       "      <td>None</td>\n",
       "    </tr>\n",
       "  </tbody>\n",
       "</table>\n",
       "</div>"
      ],
      "text/plain": [
       "           user                                               text  \\\n",
       "0      vaenergy  @SethQuick5 @mkobach great history, great food...   \n",
       "1     gwardhome  Bumbling Buffon Beach Cosplay Lawyer @DWUhlfel...   \n",
       "2  EdPiotrowski  The ferris wheel at Broadway at the Beach stil...   \n",
       "3   claudefla01  Spectacular beach front condo with panoramic o...   \n",
       "4    jakelkapri                  Ugh, quick beach run won’t hurt 😩   \n",
       "\n",
       "           location                                              place  \n",
       "0      Key Largo FL                                               None  \n",
       "1    Plantation, FL  Place(_api=<tweepy.api.API object at 0x0000025...  \n",
       "2  Myrtle Beach, SC                                               None  \n",
       "3       miami beach                                               None  \n",
       "4       Orlando, fl                                               None  "
      ]
     },
     "execution_count": 137,
     "metadata": {},
     "output_type": "execute_result"
    }
   ],
   "source": [
    "df_result.head()"
   ]
  },
  {
   "cell_type": "markdown",
   "metadata": {},
   "source": [
    "Preview the first 5 tweets with geotags"
   ]
  },
  {
   "cell_type": "code",
   "execution_count": 138,
   "metadata": {},
   "outputs": [
    {
     "data": {
      "text/html": [
       "<div>\n",
       "<style scoped>\n",
       "    .dataframe tbody tr th:only-of-type {\n",
       "        vertical-align: middle;\n",
       "    }\n",
       "\n",
       "    .dataframe tbody tr th {\n",
       "        vertical-align: top;\n",
       "    }\n",
       "\n",
       "    .dataframe thead th {\n",
       "        text-align: right;\n",
       "    }\n",
       "</style>\n",
       "<table border=\"1\" class=\"dataframe\">\n",
       "  <thead>\n",
       "    <tr style=\"text-align: right;\">\n",
       "      <th></th>\n",
       "      <th>user</th>\n",
       "      <th>text</th>\n",
       "      <th>location</th>\n",
       "      <th>place</th>\n",
       "    </tr>\n",
       "  </thead>\n",
       "  <tbody>\n",
       "    <tr>\n",
       "      <th>1</th>\n",
       "      <td>gwardhome</td>\n",
       "      <td>Bumbling Buffon Beach Cosplay Lawyer @DWUhlfel...</td>\n",
       "      <td>Plantation, FL</td>\n",
       "      <td>Place(_api=&lt;tweepy.api.API object at 0x0000025...</td>\n",
       "    </tr>\n",
       "    <tr>\n",
       "      <th>9</th>\n",
       "      <td>What2WearWhere</td>\n",
       "      <td>@megbraffdesigns What a fab opening!   Don't m...</td>\n",
       "      <td>New York</td>\n",
       "      <td>Place(_api=&lt;tweepy.api.API object at 0x0000025...</td>\n",
       "    </tr>\n",
       "    <tr>\n",
       "      <th>10</th>\n",
       "      <td>NWJS_jobs</td>\n",
       "      <td>See our latest Vero Beach, FL job opening. htt...</td>\n",
       "      <td></td>\n",
       "      <td>Place(_api=&lt;tweepy.api.API object at 0x0000025...</td>\n",
       "    </tr>\n",
       "    <tr>\n",
       "      <th>12</th>\n",
       "      <td>donlexofficial</td>\n",
       "      <td>@majorleaguedjz 🅿️ushing 🅿️iano to the world 🌍...</td>\n",
       "      <td>Miami, FL</td>\n",
       "      <td>Place(_api=&lt;tweepy.api.API object at 0x0000025...</td>\n",
       "    </tr>\n",
       "    <tr>\n",
       "      <th>40</th>\n",
       "      <td>D3zMix</td>\n",
       "      <td>Last night in #pcb so of course we have to mak...</td>\n",
       "      <td>FL USA</td>\n",
       "      <td>Place(_api=&lt;tweepy.api.API object at 0x0000025...</td>\n",
       "    </tr>\n",
       "  </tbody>\n",
       "</table>\n",
       "</div>"
      ],
      "text/plain": [
       "              user                                               text  \\\n",
       "1        gwardhome  Bumbling Buffon Beach Cosplay Lawyer @DWUhlfel...   \n",
       "9   What2WearWhere  @megbraffdesigns What a fab opening!   Don't m...   \n",
       "10       NWJS_jobs  See our latest Vero Beach, FL job opening. htt...   \n",
       "12  donlexofficial  @majorleaguedjz 🅿️ushing 🅿️iano to the world 🌍...   \n",
       "40          D3zMix  Last night in #pcb so of course we have to mak...   \n",
       "\n",
       "          location                                              place  \n",
       "1   Plantation, FL  Place(_api=<tweepy.api.API object at 0x0000025...  \n",
       "9         New York  Place(_api=<tweepy.api.API object at 0x0000025...  \n",
       "10                  Place(_api=<tweepy.api.API object at 0x0000025...  \n",
       "12       Miami, FL  Place(_api=<tweepy.api.API object at 0x0000025...  \n",
       "40         FL USA   Place(_api=<tweepy.api.API object at 0x0000025...  "
      ]
     },
     "execution_count": 138,
     "metadata": {},
     "output_type": "execute_result"
    }
   ],
   "source": [
    "df_result[df_result['place'].notna()].head()"
   ]
  },
  {
   "cell_type": "markdown",
   "metadata": {},
   "source": [
    "### 3.3 check how many tweets are geotagged"
   ]
  },
  {
   "cell_type": "code",
   "execution_count": 77,
   "metadata": {},
   "outputs": [
    {
     "name": "stdout",
     "output_type": "stream",
     "text": [
      "21 out of the 100 retrieved tweets actually have geotags\n"
     ]
    }
   ],
   "source": [
    "all_tweets = len(df_result[df_result['place'].notna()]) # all retrieved tweets\n",
    "geo_tweets = len(df_result) # tweets that actually have geotags.\n",
    "\n",
    "print(\"%s out of the %s retrieved tweets actually have geotags\" % (all_tweets, geo_tweets))"
   ]
  },
  {
   "cell_type": "markdown",
   "metadata": {},
   "source": [
    "#### Copy tweets with geotags to a new dataframe called \"geotags\""
   ]
  },
  {
   "cell_type": "code",
   "execution_count": 78,
   "metadata": {},
   "outputs": [],
   "source": [
    "geotags = df_result.loc[df_result['place'].notna()].copy()"
   ]
  },
  {
   "cell_type": "markdown",
   "metadata": {},
   "source": [
    "#### get their place and view where first 5 tweets are from"
   ]
  },
  {
   "cell_type": "code",
   "execution_count": 79,
   "metadata": {},
   "outputs": [],
   "source": [
    "geotags['place_name'] = geotags.place.apply(lambda s:s.name)"
   ]
  },
  {
   "cell_type": "code",
   "execution_count": 80,
   "metadata": {},
   "outputs": [
    {
     "data": {
      "text/html": [
       "<div>\n",
       "<style scoped>\n",
       "    .dataframe tbody tr th:only-of-type {\n",
       "        vertical-align: middle;\n",
       "    }\n",
       "\n",
       "    .dataframe tbody tr th {\n",
       "        vertical-align: top;\n",
       "    }\n",
       "\n",
       "    .dataframe thead th {\n",
       "        text-align: right;\n",
       "    }\n",
       "</style>\n",
       "<table border=\"1\" class=\"dataframe\">\n",
       "  <thead>\n",
       "    <tr style=\"text-align: right;\">\n",
       "      <th></th>\n",
       "      <th>user</th>\n",
       "      <th>text</th>\n",
       "      <th>location</th>\n",
       "      <th>place</th>\n",
       "      <th>place_name</th>\n",
       "    </tr>\n",
       "  </thead>\n",
       "  <tbody>\n",
       "    <tr>\n",
       "      <th>6</th>\n",
       "      <td>D3zMix</td>\n",
       "      <td>@alt_lyfe  heavy out here in #pcb #coyoteugly ...</td>\n",
       "      <td>FL USA</td>\n",
       "      <td>Place(_api=&lt;tweepy.api.API object at 0x0000025...</td>\n",
       "      <td>Panama City Beach</td>\n",
       "    </tr>\n",
       "    <tr>\n",
       "      <th>7</th>\n",
       "      <td>divinemoira</td>\n",
       "      <td>Swing through life as fearlessly as you did wh...</td>\n",
       "      <td></td>\n",
       "      <td>Place(_api=&lt;tweepy.api.API object at 0x0000025...</td>\n",
       "      <td>Sarasota</td>\n",
       "    </tr>\n",
       "    <tr>\n",
       "      <th>22</th>\n",
       "      <td>divinemoira</td>\n",
       "      <td>Dance with me… @ Lido Beach Resort https://t.c...</td>\n",
       "      <td></td>\n",
       "      <td>Place(_api=&lt;tweepy.api.API object at 0x0000025...</td>\n",
       "      <td>Sarasota</td>\n",
       "    </tr>\n",
       "    <tr>\n",
       "      <th>24</th>\n",
       "      <td>paulleary</td>\n",
       "      <td>At Palm Beach Pride, 30 LGBTQ couples who marr...</td>\n",
       "      <td>Miami, FL</td>\n",
       "      <td>Place(_api=&lt;tweepy.api.API object at 0x0000025...</td>\n",
       "      <td>Fort Lauderdale</td>\n",
       "    </tr>\n",
       "    <tr>\n",
       "      <th>27</th>\n",
       "      <td>MrsGinaC</td>\n",
       "      <td>Delicious blackened sea food platter and muscl...</td>\n",
       "      <td>Oswego, IL</td>\n",
       "      <td>Place(_api=&lt;tweepy.api.API object at 0x0000025...</td>\n",
       "      <td>Aunt Kate's</td>\n",
       "    </tr>\n",
       "  </tbody>\n",
       "</table>\n",
       "</div>"
      ],
      "text/plain": [
       "           user                                               text  \\\n",
       "6        D3zMix  @alt_lyfe  heavy out here in #pcb #coyoteugly ...   \n",
       "7   divinemoira  Swing through life as fearlessly as you did wh...   \n",
       "22  divinemoira  Dance with me… @ Lido Beach Resort https://t.c...   \n",
       "24    paulleary  At Palm Beach Pride, 30 LGBTQ couples who marr...   \n",
       "27     MrsGinaC  Delicious blackened sea food platter and muscl...   \n",
       "\n",
       "      location                                              place  \\\n",
       "6      FL USA   Place(_api=<tweepy.api.API object at 0x0000025...   \n",
       "7               Place(_api=<tweepy.api.API object at 0x0000025...   \n",
       "22              Place(_api=<tweepy.api.API object at 0x0000025...   \n",
       "24   Miami, FL  Place(_api=<tweepy.api.API object at 0x0000025...   \n",
       "27  Oswego, IL  Place(_api=<tweepy.api.API object at 0x0000025...   \n",
       "\n",
       "           place_name  \n",
       "6   Panama City Beach  \n",
       "7            Sarasota  \n",
       "22           Sarasota  \n",
       "24    Fort Lauderdale  \n",
       "27        Aunt Kate's  "
      ]
     },
     "execution_count": 80,
     "metadata": {},
     "output_type": "execute_result"
    }
   ],
   "source": [
    "geotags.head()"
   ]
  },
  {
   "cell_type": "markdown",
   "metadata": {},
   "source": [
    "#### Check place information and parse them into dataframe"
   ]
  },
  {
   "cell_type": "code",
   "execution_count": 81,
   "metadata": {
    "scrolled": false
   },
   "outputs": [
    {
     "data": {
      "text/plain": [
       "Place(_api=<tweepy.api.API object at 0x00000254C2A7A3D0>, id='9ebd5acfac2301ba', url='https://api.twitter.com/1.1/geo/id/9ebd5acfac2301ba.json', place_type='city', name='Panama City Beach', full_name='Panama City Beach, FL', country_code='US', country='United States', contained_within=[], bounding_box=BoundingBox(_api=<tweepy.api.API object at 0x00000254C2A7A3D0>, type='Polygon', coordinates=[[[-85.95802, 30.1650609], [-85.7860766, 30.1650609], [-85.7860766, 30.266595], [-85.95802, 30.266595]]]), attributes={})"
      ]
     },
     "execution_count": 81,
     "metadata": {},
     "output_type": "execute_result"
    }
   ],
   "source": [
    "geotags.place[min(geotags.index)]"
   ]
  },
  {
   "cell_type": "markdown",
   "metadata": {},
   "source": [
    "#### Print the bounding box of the geotag"
   ]
  },
  {
   "cell_type": "code",
   "execution_count": 82,
   "metadata": {
    "scrolled": true
   },
   "outputs": [
    {
     "data": {
      "text/plain": [
       "BoundingBox(_api=<tweepy.api.API object at 0x00000254C2A7A3D0>, type='Polygon', coordinates=[[[-85.95802, 30.1650609], [-85.7860766, 30.1650609], [-85.7860766, 30.266595], [-85.95802, 30.266595]]])"
      ]
     },
     "execution_count": 82,
     "metadata": {},
     "output_type": "execute_result"
    }
   ],
   "source": [
    "geotags.place[min(geotags.index)].bounding_box"
   ]
  },
  {
   "cell_type": "markdown",
   "metadata": {},
   "source": [
    "###### Print the coordinates of the bounding box"
   ]
  },
  {
   "cell_type": "code",
   "execution_count": 83,
   "metadata": {},
   "outputs": [
    {
     "data": {
      "text/plain": [
       "[[-85.95802, 30.1650609],\n",
       " [-85.7860766, 30.1650609],\n",
       " [-85.7860766, 30.266595],\n",
       " [-85.95802, 30.266595]]"
      ]
     },
     "execution_count": 83,
     "metadata": {},
     "output_type": "execute_result"
    }
   ],
   "source": [
    "geotags.place[min(geotags.index)].bounding_box.coordinates[0]"
   ]
  },
  {
   "cell_type": "markdown",
   "metadata": {},
   "source": [
    "#### Generate a column called bounding_box to restore bounding box information"
   ]
  },
  {
   "cell_type": "code",
   "execution_count": 84,
   "metadata": {},
   "outputs": [],
   "source": [
    "geotags['bounding_box'] = geotags.place.apply(lambda s:s.bounding_box.coordinates[0])"
   ]
  },
  {
   "cell_type": "code",
   "execution_count": 85,
   "metadata": {},
   "outputs": [
    {
     "data": {
      "text/html": [
       "<div>\n",
       "<style scoped>\n",
       "    .dataframe tbody tr th:only-of-type {\n",
       "        vertical-align: middle;\n",
       "    }\n",
       "\n",
       "    .dataframe tbody tr th {\n",
       "        vertical-align: top;\n",
       "    }\n",
       "\n",
       "    .dataframe thead th {\n",
       "        text-align: right;\n",
       "    }\n",
       "</style>\n",
       "<table border=\"1\" class=\"dataframe\">\n",
       "  <thead>\n",
       "    <tr style=\"text-align: right;\">\n",
       "      <th></th>\n",
       "      <th>user</th>\n",
       "      <th>text</th>\n",
       "      <th>location</th>\n",
       "      <th>place</th>\n",
       "      <th>place_name</th>\n",
       "      <th>bounding_box</th>\n",
       "    </tr>\n",
       "  </thead>\n",
       "  <tbody>\n",
       "    <tr>\n",
       "      <th>6</th>\n",
       "      <td>D3zMix</td>\n",
       "      <td>@alt_lyfe  heavy out here in #pcb #coyoteugly ...</td>\n",
       "      <td>FL USA</td>\n",
       "      <td>Place(_api=&lt;tweepy.api.API object at 0x0000025...</td>\n",
       "      <td>Panama City Beach</td>\n",
       "      <td>[[-85.95802, 30.1650609], [-85.7860766, 30.165...</td>\n",
       "    </tr>\n",
       "    <tr>\n",
       "      <th>7</th>\n",
       "      <td>divinemoira</td>\n",
       "      <td>Swing through life as fearlessly as you did wh...</td>\n",
       "      <td></td>\n",
       "      <td>Place(_api=&lt;tweepy.api.API object at 0x0000025...</td>\n",
       "      <td>Sarasota</td>\n",
       "      <td>[[-82.588866, 27.293114], [-82.477281, 27.2931...</td>\n",
       "    </tr>\n",
       "    <tr>\n",
       "      <th>22</th>\n",
       "      <td>divinemoira</td>\n",
       "      <td>Dance with me… @ Lido Beach Resort https://t.c...</td>\n",
       "      <td></td>\n",
       "      <td>Place(_api=&lt;tweepy.api.API object at 0x0000025...</td>\n",
       "      <td>Sarasota</td>\n",
       "      <td>[[-82.588866, 27.293114], [-82.477281, 27.2931...</td>\n",
       "    </tr>\n",
       "    <tr>\n",
       "      <th>24</th>\n",
       "      <td>paulleary</td>\n",
       "      <td>At Palm Beach Pride, 30 LGBTQ couples who marr...</td>\n",
       "      <td>Miami, FL</td>\n",
       "      <td>Place(_api=&lt;tweepy.api.API object at 0x0000025...</td>\n",
       "      <td>Fort Lauderdale</td>\n",
       "      <td>[[-80.20811, 26.080935], [-80.0902351, 26.0809...</td>\n",
       "    </tr>\n",
       "    <tr>\n",
       "      <th>27</th>\n",
       "      <td>MrsGinaC</td>\n",
       "      <td>Delicious blackened sea food platter and muscl...</td>\n",
       "      <td>Oswego, IL</td>\n",
       "      <td>Place(_api=&lt;tweepy.api.API object at 0x0000025...</td>\n",
       "      <td>Aunt Kate's</td>\n",
       "      <td>[[-81.31005883828144, 29.949614861868813], [-8...</td>\n",
       "    </tr>\n",
       "  </tbody>\n",
       "</table>\n",
       "</div>"
      ],
      "text/plain": [
       "           user                                               text  \\\n",
       "6        D3zMix  @alt_lyfe  heavy out here in #pcb #coyoteugly ...   \n",
       "7   divinemoira  Swing through life as fearlessly as you did wh...   \n",
       "22  divinemoira  Dance with me… @ Lido Beach Resort https://t.c...   \n",
       "24    paulleary  At Palm Beach Pride, 30 LGBTQ couples who marr...   \n",
       "27     MrsGinaC  Delicious blackened sea food platter and muscl...   \n",
       "\n",
       "      location                                              place  \\\n",
       "6      FL USA   Place(_api=<tweepy.api.API object at 0x0000025...   \n",
       "7               Place(_api=<tweepy.api.API object at 0x0000025...   \n",
       "22              Place(_api=<tweepy.api.API object at 0x0000025...   \n",
       "24   Miami, FL  Place(_api=<tweepy.api.API object at 0x0000025...   \n",
       "27  Oswego, IL  Place(_api=<tweepy.api.API object at 0x0000025...   \n",
       "\n",
       "           place_name                                       bounding_box  \n",
       "6   Panama City Beach  [[-85.95802, 30.1650609], [-85.7860766, 30.165...  \n",
       "7            Sarasota  [[-82.588866, 27.293114], [-82.477281, 27.2931...  \n",
       "22           Sarasota  [[-82.588866, 27.293114], [-82.477281, 27.2931...  \n",
       "24    Fort Lauderdale  [[-80.20811, 26.080935], [-80.0902351, 26.0809...  \n",
       "27        Aunt Kate's  [[-81.31005883828144, 29.949614861868813], [-8...  "
      ]
     },
     "execution_count": 85,
     "metadata": {},
     "output_type": "execute_result"
    }
   ],
   "source": [
    "geotags.head()"
   ]
  },
  {
   "cell_type": "markdown",
   "metadata": {},
   "source": [
    "#### Parse the latitude and longitude hidden in the bounding box, finally check the dataframe"
   ]
  },
  {
   "cell_type": "markdown",
   "metadata": {},
   "source": [
    "Store the centroids in a column 'point'"
   ]
  },
  {
   "cell_type": "code",
   "execution_count": 86,
   "metadata": {},
   "outputs": [],
   "source": [
    "geotags['point']  = geotags['bounding_box'].apply(lambda s: [(s[0][1]+s[2][1])/2,(s[0][0]+s[2][0])/2])"
   ]
  },
  {
   "cell_type": "markdown",
   "metadata": {},
   "source": [
    "Store the latitude of the centroids in the column 'lat'"
   ]
  },
  {
   "cell_type": "code",
   "execution_count": 87,
   "metadata": {},
   "outputs": [],
   "source": [
    "geotags['lat']  = geotags['bounding_box'].apply(lambda s: (s[0][1]+s[2][1])/2)"
   ]
  },
  {
   "cell_type": "markdown",
   "metadata": {},
   "source": [
    "Store the longitude of the centroids in the column 'lon'"
   ]
  },
  {
   "cell_type": "code",
   "execution_count": 88,
   "metadata": {},
   "outputs": [],
   "source": [
    "geotags['lon']  = geotags['bounding_box'].apply(lambda s: (s[0][0]+s[2][0])/2)"
   ]
  },
  {
   "cell_type": "markdown",
   "metadata": {},
   "source": [
    "Print to see the dataframe again.\n",
    "\n",
    "You'll see the centroids, latitude, and longitude are added as columns in the dataframe.\n",
    "\n",
    "Note: the point column is an redundancy of the lat and lon columns. We create all these columns just for demonstration of mapping in the next step."
   ]
  },
  {
   "cell_type": "code",
   "execution_count": 89,
   "metadata": {},
   "outputs": [
    {
     "data": {
      "text/html": [
       "<div>\n",
       "<style scoped>\n",
       "    .dataframe tbody tr th:only-of-type {\n",
       "        vertical-align: middle;\n",
       "    }\n",
       "\n",
       "    .dataframe tbody tr th {\n",
       "        vertical-align: top;\n",
       "    }\n",
       "\n",
       "    .dataframe thead th {\n",
       "        text-align: right;\n",
       "    }\n",
       "</style>\n",
       "<table border=\"1\" class=\"dataframe\">\n",
       "  <thead>\n",
       "    <tr style=\"text-align: right;\">\n",
       "      <th></th>\n",
       "      <th>user</th>\n",
       "      <th>text</th>\n",
       "      <th>location</th>\n",
       "      <th>place</th>\n",
       "      <th>place_name</th>\n",
       "      <th>bounding_box</th>\n",
       "      <th>point</th>\n",
       "      <th>lat</th>\n",
       "      <th>lon</th>\n",
       "    </tr>\n",
       "  </thead>\n",
       "  <tbody>\n",
       "    <tr>\n",
       "      <th>6</th>\n",
       "      <td>D3zMix</td>\n",
       "      <td>@alt_lyfe  heavy out here in #pcb #coyoteugly ...</td>\n",
       "      <td>FL USA</td>\n",
       "      <td>Place(_api=&lt;tweepy.api.API object at 0x0000025...</td>\n",
       "      <td>Panama City Beach</td>\n",
       "      <td>[[-85.95802, 30.1650609], [-85.7860766, 30.165...</td>\n",
       "      <td>[30.215827949999998, -85.8720483]</td>\n",
       "      <td>30.215828</td>\n",
       "      <td>-85.872048</td>\n",
       "    </tr>\n",
       "    <tr>\n",
       "      <th>7</th>\n",
       "      <td>divinemoira</td>\n",
       "      <td>Swing through life as fearlessly as you did wh...</td>\n",
       "      <td></td>\n",
       "      <td>Place(_api=&lt;tweepy.api.API object at 0x0000025...</td>\n",
       "      <td>Sarasota</td>\n",
       "      <td>[[-82.588866, 27.293114], [-82.477281, 27.2931...</td>\n",
       "      <td>[27.3411215, -82.5330735]</td>\n",
       "      <td>27.341121</td>\n",
       "      <td>-82.533074</td>\n",
       "    </tr>\n",
       "    <tr>\n",
       "      <th>22</th>\n",
       "      <td>divinemoira</td>\n",
       "      <td>Dance with me… @ Lido Beach Resort https://t.c...</td>\n",
       "      <td></td>\n",
       "      <td>Place(_api=&lt;tweepy.api.API object at 0x0000025...</td>\n",
       "      <td>Sarasota</td>\n",
       "      <td>[[-82.588866, 27.293114], [-82.477281, 27.2931...</td>\n",
       "      <td>[27.3411215, -82.5330735]</td>\n",
       "      <td>27.341121</td>\n",
       "      <td>-82.533074</td>\n",
       "    </tr>\n",
       "    <tr>\n",
       "      <th>24</th>\n",
       "      <td>paulleary</td>\n",
       "      <td>At Palm Beach Pride, 30 LGBTQ couples who marr...</td>\n",
       "      <td>Miami, FL</td>\n",
       "      <td>Place(_api=&lt;tweepy.api.API object at 0x0000025...</td>\n",
       "      <td>Fort Lauderdale</td>\n",
       "      <td>[[-80.20811, 26.080935], [-80.0902351, 26.0809...</td>\n",
       "      <td>[26.150368, -80.14917255]</td>\n",
       "      <td>26.150368</td>\n",
       "      <td>-80.149173</td>\n",
       "    </tr>\n",
       "    <tr>\n",
       "      <th>27</th>\n",
       "      <td>MrsGinaC</td>\n",
       "      <td>Delicious blackened sea food platter and muscl...</td>\n",
       "      <td>Oswego, IL</td>\n",
       "      <td>Place(_api=&lt;tweepy.api.API object at 0x0000025...</td>\n",
       "      <td>Aunt Kate's</td>\n",
       "      <td>[[-81.31005883828144, 29.949614861868813], [-8...</td>\n",
       "      <td>[29.949614861868813, -81.31005883828144]</td>\n",
       "      <td>29.949615</td>\n",
       "      <td>-81.310059</td>\n",
       "    </tr>\n",
       "  </tbody>\n",
       "</table>\n",
       "</div>"
      ],
      "text/plain": [
       "           user                                               text  \\\n",
       "6        D3zMix  @alt_lyfe  heavy out here in #pcb #coyoteugly ...   \n",
       "7   divinemoira  Swing through life as fearlessly as you did wh...   \n",
       "22  divinemoira  Dance with me… @ Lido Beach Resort https://t.c...   \n",
       "24    paulleary  At Palm Beach Pride, 30 LGBTQ couples who marr...   \n",
       "27     MrsGinaC  Delicious blackened sea food platter and muscl...   \n",
       "\n",
       "      location                                              place  \\\n",
       "6      FL USA   Place(_api=<tweepy.api.API object at 0x0000025...   \n",
       "7               Place(_api=<tweepy.api.API object at 0x0000025...   \n",
       "22              Place(_api=<tweepy.api.API object at 0x0000025...   \n",
       "24   Miami, FL  Place(_api=<tweepy.api.API object at 0x0000025...   \n",
       "27  Oswego, IL  Place(_api=<tweepy.api.API object at 0x0000025...   \n",
       "\n",
       "           place_name                                       bounding_box  \\\n",
       "6   Panama City Beach  [[-85.95802, 30.1650609], [-85.7860766, 30.165...   \n",
       "7            Sarasota  [[-82.588866, 27.293114], [-82.477281, 27.2931...   \n",
       "22           Sarasota  [[-82.588866, 27.293114], [-82.477281, 27.2931...   \n",
       "24    Fort Lauderdale  [[-80.20811, 26.080935], [-80.0902351, 26.0809...   \n",
       "27        Aunt Kate's  [[-81.31005883828144, 29.949614861868813], [-8...   \n",
       "\n",
       "                                       point        lat        lon  \n",
       "6          [30.215827949999998, -85.8720483]  30.215828 -85.872048  \n",
       "7                  [27.3411215, -82.5330735]  27.341121 -82.533074  \n",
       "22                 [27.3411215, -82.5330735]  27.341121 -82.533074  \n",
       "24                 [26.150368, -80.14917255]  26.150368 -80.149173  \n",
       "27  [29.949614861868813, -81.31005883828144]  29.949615 -81.310059  "
      ]
     },
     "execution_count": 89,
     "metadata": {},
     "output_type": "execute_result"
    }
   ],
   "source": [
    "geotags.head()"
   ]
  },
  {
   "cell_type": "markdown",
   "metadata": {},
   "source": [
    "---"
   ]
  },
  {
   "cell_type": "markdown",
   "metadata": {},
   "source": [
    "## 4. Spatial visualization using folium package"
   ]
  },
  {
   "cell_type": "markdown",
   "metadata": {},
   "source": [
    "Import the folium package to create an interactive map."
   ]
  },
  {
   "cell_type": "code",
   "execution_count": 90,
   "metadata": {},
   "outputs": [],
   "source": [
    "import folium"
   ]
  },
  {
   "cell_type": "markdown",
   "metadata": {},
   "source": [
    "Create a basemap."
   ]
  },
  {
   "cell_type": "code",
   "execution_count": 91,
   "metadata": {},
   "outputs": [],
   "source": [
    "#oahu = folium.Map(location = [21.473,-157.9868],zoom_start = 10)\n",
    "maptweet = folium.Map()"
   ]
  },
  {
   "cell_type": "markdown",
   "metadata": {},
   "source": [
    "Add the tweets into the basemap"
   ]
  },
  {
   "cell_type": "code",
   "execution_count": 92,
   "metadata": {
    "scrolled": true
   },
   "outputs": [],
   "source": [
    "for i, row in geotags.iterrows():\n",
    "    folium.Marker(row.point,popup = row.text).add_to(maptweet)"
   ]
  },
  {
   "cell_type": "markdown",
   "metadata": {},
   "source": [
    "Zoom closer into the tweets"
   ]
  },
  {
   "cell_type": "code",
   "execution_count": 93,
   "metadata": {},
   "outputs": [],
   "source": [
    "maptweet.fit_bounds([[min(geotags.lat),min(geotags.lon)],[max(geotags.lat),max(geotags.lon)]])"
   ]
  },
  {
   "cell_type": "code",
   "execution_count": 94,
   "metadata": {},
   "outputs": [
    {
     "data": {
      "text/html": [
       "<div style=\"width:100%;\"><div style=\"position:relative;width:100%;height:0;padding-bottom:60%;\"><span style=\"color:#565656\">Make this Notebook Trusted to load map: File -> Trust Notebook</span><iframe src=\"about:blank\" style=\"position:absolute;width:100%;height:100%;left:0;top:0;border:none !important;\" data-html=%3C%21DOCTYPE%20html%3E%0A%3Chead%3E%20%20%20%20%0A%20%20%20%20%3Cmeta%20http-equiv%3D%22content-type%22%20content%3D%22text/html%3B%20charset%3DUTF-8%22%20/%3E%0A%20%20%20%20%0A%20%20%20%20%20%20%20%20%3Cscript%3E%0A%20%20%20%20%20%20%20%20%20%20%20%20L_NO_TOUCH%20%3D%20false%3B%0A%20%20%20%20%20%20%20%20%20%20%20%20L_DISABLE_3D%20%3D%20false%3B%0A%20%20%20%20%20%20%20%20%3C/script%3E%0A%20%20%20%20%0A%20%20%20%20%3Cstyle%3Ehtml%2C%20body%20%7Bwidth%3A%20100%25%3Bheight%3A%20100%25%3Bmargin%3A%200%3Bpadding%3A%200%3B%7D%3C/style%3E%0A%20%20%20%20%3Cstyle%3E%23map%20%7Bposition%3Aabsolute%3Btop%3A0%3Bbottom%3A0%3Bright%3A0%3Bleft%3A0%3B%7D%3C/style%3E%0A%20%20%20%20%3Cscript%20src%3D%22https%3A//cdn.jsdelivr.net/npm/leaflet%401.6.0/dist/leaflet.js%22%3E%3C/script%3E%0A%20%20%20%20%3Cscript%20src%3D%22https%3A//code.jquery.com/jquery-1.12.4.min.js%22%3E%3C/script%3E%0A%20%20%20%20%3Cscript%20src%3D%22https%3A//maxcdn.bootstrapcdn.com/bootstrap/3.2.0/js/bootstrap.min.js%22%3E%3C/script%3E%0A%20%20%20%20%3Cscript%20src%3D%22https%3A//cdnjs.cloudflare.com/ajax/libs/Leaflet.awesome-markers/2.0.2/leaflet.awesome-markers.js%22%3E%3C/script%3E%0A%20%20%20%20%3Clink%20rel%3D%22stylesheet%22%20href%3D%22https%3A//cdn.jsdelivr.net/npm/leaflet%401.6.0/dist/leaflet.css%22/%3E%0A%20%20%20%20%3Clink%20rel%3D%22stylesheet%22%20href%3D%22https%3A//maxcdn.bootstrapcdn.com/bootstrap/3.2.0/css/bootstrap.min.css%22/%3E%0A%20%20%20%20%3Clink%20rel%3D%22stylesheet%22%20href%3D%22https%3A//maxcdn.bootstrapcdn.com/bootstrap/3.2.0/css/bootstrap-theme.min.css%22/%3E%0A%20%20%20%20%3Clink%20rel%3D%22stylesheet%22%20href%3D%22https%3A//maxcdn.bootstrapcdn.com/font-awesome/4.6.3/css/font-awesome.min.css%22/%3E%0A%20%20%20%20%3Clink%20rel%3D%22stylesheet%22%20href%3D%22https%3A//cdnjs.cloudflare.com/ajax/libs/Leaflet.awesome-markers/2.0.2/leaflet.awesome-markers.css%22/%3E%0A%20%20%20%20%3Clink%20rel%3D%22stylesheet%22%20href%3D%22https%3A//cdn.jsdelivr.net/gh/python-visualization/folium/folium/templates/leaflet.awesome.rotate.min.css%22/%3E%0A%20%20%20%20%0A%20%20%20%20%20%20%20%20%20%20%20%20%3Cmeta%20name%3D%22viewport%22%20content%3D%22width%3Ddevice-width%2C%0A%20%20%20%20%20%20%20%20%20%20%20%20%20%20%20%20initial-scale%3D1.0%2C%20maximum-scale%3D1.0%2C%20user-scalable%3Dno%22%20/%3E%0A%20%20%20%20%20%20%20%20%20%20%20%20%3Cstyle%3E%0A%20%20%20%20%20%20%20%20%20%20%20%20%20%20%20%20%23map_005abc31913d42cbaffa676df2e363bc%20%7B%0A%20%20%20%20%20%20%20%20%20%20%20%20%20%20%20%20%20%20%20%20position%3A%20relative%3B%0A%20%20%20%20%20%20%20%20%20%20%20%20%20%20%20%20%20%20%20%20width%3A%20100.0%25%3B%0A%20%20%20%20%20%20%20%20%20%20%20%20%20%20%20%20%20%20%20%20height%3A%20100.0%25%3B%0A%20%20%20%20%20%20%20%20%20%20%20%20%20%20%20%20%20%20%20%20left%3A%200.0%25%3B%0A%20%20%20%20%20%20%20%20%20%20%20%20%20%20%20%20%20%20%20%20top%3A%200.0%25%3B%0A%20%20%20%20%20%20%20%20%20%20%20%20%20%20%20%20%7D%0A%20%20%20%20%20%20%20%20%20%20%20%20%3C/style%3E%0A%20%20%20%20%20%20%20%20%0A%3C/head%3E%0A%3Cbody%3E%20%20%20%20%0A%20%20%20%20%0A%20%20%20%20%20%20%20%20%20%20%20%20%3Cdiv%20class%3D%22folium-map%22%20id%3D%22map_005abc31913d42cbaffa676df2e363bc%22%20%3E%3C/div%3E%0A%20%20%20%20%20%20%20%20%0A%3C/body%3E%0A%3Cscript%3E%20%20%20%20%0A%20%20%20%20%0A%20%20%20%20%20%20%20%20%20%20%20%20var%20map_005abc31913d42cbaffa676df2e363bc%20%3D%20L.map%28%0A%20%20%20%20%20%20%20%20%20%20%20%20%20%20%20%20%22map_005abc31913d42cbaffa676df2e363bc%22%2C%0A%20%20%20%20%20%20%20%20%20%20%20%20%20%20%20%20%7B%0A%20%20%20%20%20%20%20%20%20%20%20%20%20%20%20%20%20%20%20%20center%3A%20%5B0%2C%200%5D%2C%0A%20%20%20%20%20%20%20%20%20%20%20%20%20%20%20%20%20%20%20%20crs%3A%20L.CRS.EPSG3857%2C%0A%20%20%20%20%20%20%20%20%20%20%20%20%20%20%20%20%20%20%20%20zoom%3A%201%2C%0A%20%20%20%20%20%20%20%20%20%20%20%20%20%20%20%20%20%20%20%20zoomControl%3A%20true%2C%0A%20%20%20%20%20%20%20%20%20%20%20%20%20%20%20%20%20%20%20%20preferCanvas%3A%20false%2C%0A%20%20%20%20%20%20%20%20%20%20%20%20%20%20%20%20%7D%0A%20%20%20%20%20%20%20%20%20%20%20%20%29%3B%0A%0A%20%20%20%20%20%20%20%20%20%20%20%20%0A%0A%20%20%20%20%20%20%20%20%0A%20%20%20%20%0A%20%20%20%20%20%20%20%20%20%20%20%20var%20tile_layer_183cec3407494e5480963b7d87504953%20%3D%20L.tileLayer%28%0A%20%20%20%20%20%20%20%20%20%20%20%20%20%20%20%20%22https%3A//%7Bs%7D.tile.openstreetmap.org/%7Bz%7D/%7Bx%7D/%7By%7D.png%22%2C%0A%20%20%20%20%20%20%20%20%20%20%20%20%20%20%20%20%7B%22attribution%22%3A%20%22Data%20by%20%5Cu0026copy%3B%20%5Cu003ca%20href%3D%5C%22http%3A//openstreetmap.org%5C%22%5Cu003eOpenStreetMap%5Cu003c/a%5Cu003e%2C%20under%20%5Cu003ca%20href%3D%5C%22http%3A//www.openstreetmap.org/copyright%5C%22%5Cu003eODbL%5Cu003c/a%5Cu003e.%22%2C%20%22detectRetina%22%3A%20false%2C%20%22maxNativeZoom%22%3A%2018%2C%20%22maxZoom%22%3A%2018%2C%20%22minZoom%22%3A%200%2C%20%22noWrap%22%3A%20false%2C%20%22opacity%22%3A%201%2C%20%22subdomains%22%3A%20%22abc%22%2C%20%22tms%22%3A%20false%7D%0A%20%20%20%20%20%20%20%20%20%20%20%20%29.addTo%28map_005abc31913d42cbaffa676df2e363bc%29%3B%0A%20%20%20%20%20%20%20%20%0A%20%20%20%20%0A%20%20%20%20%20%20%20%20%20%20%20%20var%20marker_93aaaba4e71f453d9d145657f9e38899%20%3D%20L.marker%28%0A%20%20%20%20%20%20%20%20%20%20%20%20%20%20%20%20%5B30.215827949999998%2C%20-85.8720483%5D%2C%0A%20%20%20%20%20%20%20%20%20%20%20%20%20%20%20%20%7B%7D%0A%20%20%20%20%20%20%20%20%20%20%20%20%29.addTo%28map_005abc31913d42cbaffa676df2e363bc%29%3B%0A%20%20%20%20%20%20%20%20%0A%20%20%20%20%0A%20%20%20%20%20%20%20%20var%20popup_07117e4e26a1446686e52abce973756b%20%3D%20L.popup%28%7B%22maxWidth%22%3A%20%22100%25%22%7D%29%3B%0A%0A%20%20%20%20%20%20%20%20%0A%20%20%20%20%20%20%20%20%20%20%20%20var%20html_c5a84047cfdd4181aaee5302d6c449c1%20%3D%20%24%28%60%3Cdiv%20id%3D%22html_c5a84047cfdd4181aaee5302d6c449c1%22%20style%3D%22width%3A%20100.0%25%3B%20height%3A%20100.0%25%3B%22%3E%40alt_lyfe%20%20heavy%20out%20here%20in%20%23pcb%20%23coyoteugly%20%20%23altlyfe%20%23sundayfunday%20%23weoutside%20%23therealD3Z%20%23d3z%20%40%20Panama%20City%20Bea%E2%80%A6%20https%3A//t.co/sNnEdb4Ozq%3C/div%3E%60%29%5B0%5D%3B%0A%20%20%20%20%20%20%20%20%20%20%20%20popup_07117e4e26a1446686e52abce973756b.setContent%28html_c5a84047cfdd4181aaee5302d6c449c1%29%3B%0A%20%20%20%20%20%20%20%20%0A%0A%20%20%20%20%20%20%20%20marker_93aaaba4e71f453d9d145657f9e38899.bindPopup%28popup_07117e4e26a1446686e52abce973756b%29%0A%20%20%20%20%20%20%20%20%3B%0A%0A%20%20%20%20%20%20%20%20%0A%20%20%20%20%0A%20%20%20%20%0A%20%20%20%20%20%20%20%20%20%20%20%20var%20marker_1eda9b336d9543169f74d68670451753%20%3D%20L.marker%28%0A%20%20%20%20%20%20%20%20%20%20%20%20%20%20%20%20%5B27.3411215%2C%20-82.5330735%5D%2C%0A%20%20%20%20%20%20%20%20%20%20%20%20%20%20%20%20%7B%7D%0A%20%20%20%20%20%20%20%20%20%20%20%20%29.addTo%28map_005abc31913d42cbaffa676df2e363bc%29%3B%0A%20%20%20%20%20%20%20%20%0A%20%20%20%20%0A%20%20%20%20%20%20%20%20var%20popup_dc81784d6a5549da9e6c5b3cededa83a%20%3D%20L.popup%28%7B%22maxWidth%22%3A%20%22100%25%22%7D%29%3B%0A%0A%20%20%20%20%20%20%20%20%0A%20%20%20%20%20%20%20%20%20%20%20%20var%20html_69f28a38735f403a9cef25b01a541e71%20%3D%20%24%28%60%3Cdiv%20id%3D%22html_69f28a38735f403a9cef25b01a541e71%22%20style%3D%22width%3A%20100.0%25%3B%20height%3A%20100.0%25%3B%22%3ESwing%20through%20life%20as%20fearlessly%20as%20you%20did%20when%20you%20were%20a%20kid.%20%40%20Lido%20Beach%20Resort%20https%3A//t.co/9hrsPDqYMQ%3C/div%3E%60%29%5B0%5D%3B%0A%20%20%20%20%20%20%20%20%20%20%20%20popup_dc81784d6a5549da9e6c5b3cededa83a.setContent%28html_69f28a38735f403a9cef25b01a541e71%29%3B%0A%20%20%20%20%20%20%20%20%0A%0A%20%20%20%20%20%20%20%20marker_1eda9b336d9543169f74d68670451753.bindPopup%28popup_dc81784d6a5549da9e6c5b3cededa83a%29%0A%20%20%20%20%20%20%20%20%3B%0A%0A%20%20%20%20%20%20%20%20%0A%20%20%20%20%0A%20%20%20%20%0A%20%20%20%20%20%20%20%20%20%20%20%20var%20marker_cd60ed99e53348a9b777f085b594a662%20%3D%20L.marker%28%0A%20%20%20%20%20%20%20%20%20%20%20%20%20%20%20%20%5B27.3411215%2C%20-82.5330735%5D%2C%0A%20%20%20%20%20%20%20%20%20%20%20%20%20%20%20%20%7B%7D%0A%20%20%20%20%20%20%20%20%20%20%20%20%29.addTo%28map_005abc31913d42cbaffa676df2e363bc%29%3B%0A%20%20%20%20%20%20%20%20%0A%20%20%20%20%0A%20%20%20%20%20%20%20%20var%20popup_643e07af233a44568c1534e6c849391a%20%3D%20L.popup%28%7B%22maxWidth%22%3A%20%22100%25%22%7D%29%3B%0A%0A%20%20%20%20%20%20%20%20%0A%20%20%20%20%20%20%20%20%20%20%20%20var%20html_ae706436e41b4fde9c5536f5283c75ce%20%3D%20%24%28%60%3Cdiv%20id%3D%22html_ae706436e41b4fde9c5536f5283c75ce%22%20style%3D%22width%3A%20100.0%25%3B%20height%3A%20100.0%25%3B%22%3EDance%20with%20me%E2%80%A6%20%40%20Lido%20Beach%20Resort%20https%3A//t.co/6w6kkEd7wV%3C/div%3E%60%29%5B0%5D%3B%0A%20%20%20%20%20%20%20%20%20%20%20%20popup_643e07af233a44568c1534e6c849391a.setContent%28html_ae706436e41b4fde9c5536f5283c75ce%29%3B%0A%20%20%20%20%20%20%20%20%0A%0A%20%20%20%20%20%20%20%20marker_cd60ed99e53348a9b777f085b594a662.bindPopup%28popup_643e07af233a44568c1534e6c849391a%29%0A%20%20%20%20%20%20%20%20%3B%0A%0A%20%20%20%20%20%20%20%20%0A%20%20%20%20%0A%20%20%20%20%0A%20%20%20%20%20%20%20%20%20%20%20%20var%20marker_b7c2fc678e0f43e5886b478631b8e3e5%20%3D%20L.marker%28%0A%20%20%20%20%20%20%20%20%20%20%20%20%20%20%20%20%5B26.150368%2C%20-80.14917255%5D%2C%0A%20%20%20%20%20%20%20%20%20%20%20%20%20%20%20%20%7B%7D%0A%20%20%20%20%20%20%20%20%20%20%20%20%29.addTo%28map_005abc31913d42cbaffa676df2e363bc%29%3B%0A%20%20%20%20%20%20%20%20%0A%20%20%20%20%0A%20%20%20%20%20%20%20%20var%20popup_bb899c016c4449f8b58d61ad3eee7fe0%20%3D%20L.popup%28%7B%22maxWidth%22%3A%20%22100%25%22%7D%29%3B%0A%0A%20%20%20%20%20%20%20%20%0A%20%20%20%20%20%20%20%20%20%20%20%20var%20html_2d95dd868fe8483bac9e76db33833b91%20%3D%20%24%28%60%3Cdiv%20id%3D%22html_2d95dd868fe8483bac9e76db33833b91%22%20style%3D%22width%3A%20100.0%25%3B%20height%3A%20100.0%25%3B%22%3EAt%20Palm%20Beach%20Pride%2C%2030%20LGBTQ%20couples%20who%20marry%20in%20mass%20wedding%20have%20message%20for%20Florida%E2%80%99s%20homophobic%20%E2%80%9Cgovernor%E2%80%9D%E2%80%A6%20https%3A//t.co/K0wqKGIK4E%3C/div%3E%60%29%5B0%5D%3B%0A%20%20%20%20%20%20%20%20%20%20%20%20popup_bb899c016c4449f8b58d61ad3eee7fe0.setContent%28html_2d95dd868fe8483bac9e76db33833b91%29%3B%0A%20%20%20%20%20%20%20%20%0A%0A%20%20%20%20%20%20%20%20marker_b7c2fc678e0f43e5886b478631b8e3e5.bindPopup%28popup_bb899c016c4449f8b58d61ad3eee7fe0%29%0A%20%20%20%20%20%20%20%20%3B%0A%0A%20%20%20%20%20%20%20%20%0A%20%20%20%20%0A%20%20%20%20%0A%20%20%20%20%20%20%20%20%20%20%20%20var%20marker_2c9c5c0a3a4640ef9740728ebc143944%20%3D%20L.marker%28%0A%20%20%20%20%20%20%20%20%20%20%20%20%20%20%20%20%5B29.949614861868813%2C%20-81.31005883828144%5D%2C%0A%20%20%20%20%20%20%20%20%20%20%20%20%20%20%20%20%7B%7D%0A%20%20%20%20%20%20%20%20%20%20%20%20%29.addTo%28map_005abc31913d42cbaffa676df2e363bc%29%3B%0A%20%20%20%20%20%20%20%20%0A%20%20%20%20%0A%20%20%20%20%20%20%20%20var%20popup_660f25361fb94a348318a7f1831304f0%20%3D%20L.popup%28%7B%22maxWidth%22%3A%20%22100%25%22%7D%29%3B%0A%0A%20%20%20%20%20%20%20%20%0A%20%20%20%20%20%20%20%20%20%20%20%20var%20html_c8c5363e96eb40bbab0d209ff4da662d%20%3D%20%24%28%60%3Cdiv%20id%3D%22html_c8c5363e96eb40bbab0d209ff4da662d%22%20style%3D%22width%3A%20100.0%25%3B%20height%3A%20100.0%25%3B%22%3EDelicious%20blackened%20sea%20food%20platter%20and%20muscles%20with%20some%20peach%20on%20the%20beach.%2010/10%20I%20would%20for%20sure%20recommend.%20https%3A//t.co/jd8qn5pdog%3C/div%3E%60%29%5B0%5D%3B%0A%20%20%20%20%20%20%20%20%20%20%20%20popup_660f25361fb94a348318a7f1831304f0.setContent%28html_c8c5363e96eb40bbab0d209ff4da662d%29%3B%0A%20%20%20%20%20%20%20%20%0A%0A%20%20%20%20%20%20%20%20marker_2c9c5c0a3a4640ef9740728ebc143944.bindPopup%28popup_660f25361fb94a348318a7f1831304f0%29%0A%20%20%20%20%20%20%20%20%3B%0A%0A%20%20%20%20%20%20%20%20%0A%20%20%20%20%0A%20%20%20%20%0A%20%20%20%20%20%20%20%20%20%20%20%20var%20marker_6eeffc3053ad4164897040c8060ee99d%20%3D%20L.marker%28%0A%20%20%20%20%20%20%20%20%20%20%20%20%20%20%20%20%5B30.378707%2C%20-86.89077950000001%5D%2C%0A%20%20%20%20%20%20%20%20%20%20%20%20%20%20%20%20%7B%7D%0A%20%20%20%20%20%20%20%20%20%20%20%20%29.addTo%28map_005abc31913d42cbaffa676df2e363bc%29%3B%0A%20%20%20%20%20%20%20%20%0A%20%20%20%20%0A%20%20%20%20%20%20%20%20var%20popup_4118c207707849648eea393dd3f25498%20%3D%20L.popup%28%7B%22maxWidth%22%3A%20%22100%25%22%7D%29%3B%0A%0A%20%20%20%20%20%20%20%20%0A%20%20%20%20%20%20%20%20%20%20%20%20var%20html_eb3b6e8cba5543fdba989ca457f1f34f%20%3D%20%24%28%60%3Cdiv%20id%3D%22html_eb3b6e8cba5543fdba989ca457f1f34f%22%20style%3D%22width%3A%20100.0%25%3B%20height%3A%20100.0%25%3B%22%3EDay%201%20in%20the%20books%20%40%20Navarre%20Beach%2C%20Florida%20https%3A//t.co/YPcQweknPC%3C/div%3E%60%29%5B0%5D%3B%0A%20%20%20%20%20%20%20%20%20%20%20%20popup_4118c207707849648eea393dd3f25498.setContent%28html_eb3b6e8cba5543fdba989ca457f1f34f%29%3B%0A%20%20%20%20%20%20%20%20%0A%0A%20%20%20%20%20%20%20%20marker_6eeffc3053ad4164897040c8060ee99d.bindPopup%28popup_4118c207707849648eea393dd3f25498%29%0A%20%20%20%20%20%20%20%20%3B%0A%0A%20%20%20%20%20%20%20%20%0A%20%20%20%20%0A%20%20%20%20%0A%20%20%20%20%20%20%20%20%20%20%20%20var%20marker_b30770f210904ffca5c5a0db972e9927%20%3D%20L.marker%28%0A%20%20%20%20%20%20%20%20%20%20%20%20%20%20%20%20%5B27.771925413041032%2C%20-82.77201098041243%5D%2C%0A%20%20%20%20%20%20%20%20%20%20%20%20%20%20%20%20%7B%7D%0A%20%20%20%20%20%20%20%20%20%20%20%20%29.addTo%28map_005abc31913d42cbaffa676df2e363bc%29%3B%0A%20%20%20%20%20%20%20%20%0A%20%20%20%20%0A%20%20%20%20%20%20%20%20var%20popup_4090f0aef84449cba9bea998042b43ce%20%3D%20L.popup%28%7B%22maxWidth%22%3A%20%22100%25%22%7D%29%3B%0A%0A%20%20%20%20%20%20%20%20%0A%20%20%20%20%20%20%20%20%20%20%20%20var%20html_6bd87b0dde4e4fd7953b0fd655f5153f%20%3D%20%24%28%60%3Cdiv%20id%3D%22html_6bd87b0dde4e4fd7953b0fd655f5153f%22%20style%3D%22width%3A%20100.0%25%3B%20height%3A%20100.0%25%3B%22%3ENice%20nice%20for%20a%20walk%20on%20the%20beach%20%21%21%20Every%20night%20is%20a%20good%20night%20for%20a%20walk%20on%20the%20beach%20%F0%9F%98%82%20https%3A//t.co/oZoB2jTRHp%3C/div%3E%60%29%5B0%5D%3B%0A%20%20%20%20%20%20%20%20%20%20%20%20popup_4090f0aef84449cba9bea998042b43ce.setContent%28html_6bd87b0dde4e4fd7953b0fd655f5153f%29%3B%0A%20%20%20%20%20%20%20%20%0A%0A%20%20%20%20%20%20%20%20marker_b30770f210904ffca5c5a0db972e9927.bindPopup%28popup_4090f0aef84449cba9bea998042b43ce%29%0A%20%20%20%20%20%20%20%20%3B%0A%0A%20%20%20%20%20%20%20%20%0A%20%20%20%20%0A%20%20%20%20%0A%20%20%20%20%20%20%20%20%20%20%20%20var%20marker_b34dfe354de04250b71342cccf28096d%20%3D%20L.marker%28%0A%20%20%20%20%20%20%20%20%20%20%20%20%20%20%20%20%5B33.716555%2C%20-78.9056109%5D%2C%0A%20%20%20%20%20%20%20%20%20%20%20%20%20%20%20%20%7B%7D%0A%20%20%20%20%20%20%20%20%20%20%20%20%29.addTo%28map_005abc31913d42cbaffa676df2e363bc%29%3B%0A%20%20%20%20%20%20%20%20%0A%20%20%20%20%0A%20%20%20%20%20%20%20%20var%20popup_5291ee1d34184572a460518091d74713%20%3D%20L.popup%28%7B%22maxWidth%22%3A%20%22100%25%22%7D%29%3B%0A%0A%20%20%20%20%20%20%20%20%0A%20%20%20%20%20%20%20%20%20%20%20%20var%20html_40502f236edc4ee081682602183a6553%20%3D%20%24%28%60%3Cdiv%20id%3D%22html_40502f236edc4ee081682602183a6553%22%20style%3D%22width%3A%20100.0%25%3B%20height%3A%20100.0%25%3B%22%3EHad%20a%20great%20Spring%20Training%20trip%20to%20Myrtle%20Beach%20with%20%40northpennsb22%21%20Team%20started%20the%20season%20strong%2C%20going%203-0.%20Be%E2%80%A6%20https%3A//t.co/euPEJUVurq%3C/div%3E%60%29%5B0%5D%3B%0A%20%20%20%20%20%20%20%20%20%20%20%20popup_5291ee1d34184572a460518091d74713.setContent%28html_40502f236edc4ee081682602183a6553%29%3B%0A%20%20%20%20%20%20%20%20%0A%0A%20%20%20%20%20%20%20%20marker_b34dfe354de04250b71342cccf28096d.bindPopup%28popup_5291ee1d34184572a460518091d74713%29%0A%20%20%20%20%20%20%20%20%3B%0A%0A%20%20%20%20%20%20%20%20%0A%20%20%20%20%0A%20%20%20%20%0A%20%20%20%20%20%20%20%20%20%20%20%20var%20marker_a798858361df49c28eae2f5d2d2fa430%20%3D%20L.marker%28%0A%20%20%20%20%20%20%20%20%20%20%20%20%20%20%20%20%5B27.3411215%2C%20-82.5330735%5D%2C%0A%20%20%20%20%20%20%20%20%20%20%20%20%20%20%20%20%7B%7D%0A%20%20%20%20%20%20%20%20%20%20%20%20%29.addTo%28map_005abc31913d42cbaffa676df2e363bc%29%3B%0A%20%20%20%20%20%20%20%20%0A%20%20%20%20%0A%20%20%20%20%20%20%20%20var%20popup_6fedba74da7545c0bc1c02aa6ea20d1f%20%3D%20L.popup%28%7B%22maxWidth%22%3A%20%22100%25%22%7D%29%3B%0A%0A%20%20%20%20%20%20%20%20%0A%20%20%20%20%20%20%20%20%20%20%20%20var%20html_7b48833d45704947b304f96e9f7b78db%20%3D%20%24%28%60%3Cdiv%20id%3D%22html_7b48833d45704947b304f96e9f7b78db%22%20style%3D%22width%3A%20100.0%25%3B%20height%3A%20100.0%25%3B%22%3EShe%20is%20power.%20She%20is%20joy.%20%40%20Lido%20Beach%20Resort%20https%3A//t.co/UbfITtTucc%3C/div%3E%60%29%5B0%5D%3B%0A%20%20%20%20%20%20%20%20%20%20%20%20popup_6fedba74da7545c0bc1c02aa6ea20d1f.setContent%28html_7b48833d45704947b304f96e9f7b78db%29%3B%0A%20%20%20%20%20%20%20%20%0A%0A%20%20%20%20%20%20%20%20marker_a798858361df49c28eae2f5d2d2fa430.bindPopup%28popup_6fedba74da7545c0bc1c02aa6ea20d1f%29%0A%20%20%20%20%20%20%20%20%3B%0A%0A%20%20%20%20%20%20%20%20%0A%20%20%20%20%0A%20%20%20%20%0A%20%20%20%20%20%20%20%20%20%20%20%20var%20marker_321d69431df540b19eb71eee3c50161d%20%3D%20L.marker%28%0A%20%20%20%20%20%20%20%20%20%20%20%20%20%20%20%20%5B28.671735%2C%20-80.644478%5D%2C%0A%20%20%20%20%20%20%20%20%20%20%20%20%20%20%20%20%7B%7D%0A%20%20%20%20%20%20%20%20%20%20%20%20%29.addTo%28map_005abc31913d42cbaffa676df2e363bc%29%3B%0A%20%20%20%20%20%20%20%20%0A%20%20%20%20%0A%20%20%20%20%20%20%20%20var%20popup_29cfac9d49784375add7c60aec30c599%20%3D%20L.popup%28%7B%22maxWidth%22%3A%20%22100%25%22%7D%29%3B%0A%0A%20%20%20%20%20%20%20%20%0A%20%20%20%20%20%20%20%20%20%20%20%20var%20html_7a045898a7ea496d99f63fa0edaa5e93%20%3D%20%24%28%60%3Cdiv%20id%3D%22html_7a045898a7ea496d99f63fa0edaa5e93%22%20style%3D%22width%3A%20100.0%25%3B%20height%3A%20100.0%25%3B%22%3ETaking%20a%20pic%20at%20Playalinda%20Beach%20Road%20Vista%204%20with%20SLS%20behind%20me%20a%20few%20hours%20ago...using%20my%20Nikon%20camera.%E2%80%A6%20https%3A//t.co/IrHsABiKSE%3C/div%3E%60%29%5B0%5D%3B%0A%20%20%20%20%20%20%20%20%20%20%20%20popup_29cfac9d49784375add7c60aec30c599.setContent%28html_7a045898a7ea496d99f63fa0edaa5e93%29%3B%0A%20%20%20%20%20%20%20%20%0A%0A%20%20%20%20%20%20%20%20marker_321d69431df540b19eb71eee3c50161d.bindPopup%28popup_29cfac9d49784375add7c60aec30c599%29%0A%20%20%20%20%20%20%20%20%3B%0A%0A%20%20%20%20%20%20%20%20%0A%20%20%20%20%0A%20%20%20%20%0A%20%20%20%20%20%20%20%20%20%20%20%20var%20marker_74da4e3c65a14b32a144be70a8d17331%20%3D%20L.marker%28%0A%20%20%20%20%20%20%20%20%20%20%20%20%20%20%20%20%5B27.698681999999998%2C%20-83.804475%5D%2C%0A%20%20%20%20%20%20%20%20%20%20%20%20%20%20%20%20%7B%7D%0A%20%20%20%20%20%20%20%20%20%20%20%20%29.addTo%28map_005abc31913d42cbaffa676df2e363bc%29%3B%0A%20%20%20%20%20%20%20%20%0A%20%20%20%20%0A%20%20%20%20%20%20%20%20var%20popup_135a4cded3064bf0adf953f2ffe353c4%20%3D%20L.popup%28%7B%22maxWidth%22%3A%20%22100%25%22%7D%29%3B%0A%0A%20%20%20%20%20%20%20%20%0A%20%20%20%20%20%20%20%20%20%20%20%20var%20html_7fc01a83533149c6b49bb63ae7c1fe5b%20%3D%20%24%28%60%3Cdiv%20id%3D%22html_7fc01a83533149c6b49bb63ae7c1fe5b%22%20style%3D%22width%3A%20100.0%25%3B%20height%3A%20100.0%25%3B%22%3EOur%20favorite%20state%20park%20in%20the%20Florida%20Keys%20may%20be%20small.%20But%20that%E2%80%99s%20part%20of%20why%20we%20love%20it.%20Campsites%20steps%20away%20f%E2%80%A6%20https%3A//t.co/ro8uA1GJlo%3C/div%3E%60%29%5B0%5D%3B%0A%20%20%20%20%20%20%20%20%20%20%20%20popup_135a4cded3064bf0adf953f2ffe353c4.setContent%28html_7fc01a83533149c6b49bb63ae7c1fe5b%29%3B%0A%20%20%20%20%20%20%20%20%0A%0A%20%20%20%20%20%20%20%20marker_74da4e3c65a14b32a144be70a8d17331.bindPopup%28popup_135a4cded3064bf0adf953f2ffe353c4%29%0A%20%20%20%20%20%20%20%20%3B%0A%0A%20%20%20%20%20%20%20%20%0A%20%20%20%20%0A%20%20%20%20%0A%20%20%20%20%20%20%20%20%20%20%20%20var%20marker_c5eb4344acd54147b5e5f0ab2dce4b2d%20%3D%20L.marker%28%0A%20%20%20%20%20%20%20%20%20%20%20%20%20%20%20%20%5B25.81696565%2C%20-80.1329624%5D%2C%0A%20%20%20%20%20%20%20%20%20%20%20%20%20%20%20%20%7B%7D%0A%20%20%20%20%20%20%20%20%20%20%20%20%29.addTo%28map_005abc31913d42cbaffa676df2e363bc%29%3B%0A%20%20%20%20%20%20%20%20%0A%20%20%20%20%0A%20%20%20%20%20%20%20%20var%20popup_5bc98f7293084cec81bb058886d4ff9d%20%3D%20L.popup%28%7B%22maxWidth%22%3A%20%22100%25%22%7D%29%3B%0A%0A%20%20%20%20%20%20%20%20%0A%20%20%20%20%20%20%20%20%20%20%20%20var%20html_32d6e998c6234eed8e38f0d1e39f0d9e%20%3D%20%24%28%60%3Cdiv%20id%3D%22html_32d6e998c6234eed8e38f0d1e39f0d9e%22%20style%3D%22width%3A%20100.0%25%3B%20height%3A%20100.0%25%3B%22%3E%40chernackpeter%20%40anglershotel%20%23southbeach%20%23southbeachmiami%20%23gorgeousweather%20%40%20Kimpton%20Angler%E2%80%99s%20Hotel%20South%20Beach%20https%3A//t.co/zzj7cDESoX%3C/div%3E%60%29%5B0%5D%3B%0A%20%20%20%20%20%20%20%20%20%20%20%20popup_5bc98f7293084cec81bb058886d4ff9d.setContent%28html_32d6e998c6234eed8e38f0d1e39f0d9e%29%3B%0A%20%20%20%20%20%20%20%20%0A%0A%20%20%20%20%20%20%20%20marker_c5eb4344acd54147b5e5f0ab2dce4b2d.bindPopup%28popup_5bc98f7293084cec81bb058886d4ff9d%29%0A%20%20%20%20%20%20%20%20%3B%0A%0A%20%20%20%20%20%20%20%20%0A%20%20%20%20%0A%20%20%20%20%0A%20%20%20%20%20%20%20%20%20%20%20%20var%20marker_2eea5deeaada4d6c9d8fa89be3b06565%20%3D%20L.marker%28%0A%20%20%20%20%20%20%20%20%20%20%20%20%20%20%20%20%5B29.673171500000002%2C%20-82.3302695%5D%2C%0A%20%20%20%20%20%20%20%20%20%20%20%20%20%20%20%20%7B%7D%0A%20%20%20%20%20%20%20%20%20%20%20%20%29.addTo%28map_005abc31913d42cbaffa676df2e363bc%29%3B%0A%20%20%20%20%20%20%20%20%0A%20%20%20%20%0A%20%20%20%20%20%20%20%20var%20popup_9a225968782f4fdca46f9cf4fde0fcfb%20%3D%20L.popup%28%7B%22maxWidth%22%3A%20%22100%25%22%7D%29%3B%0A%0A%20%20%20%20%20%20%20%20%0A%20%20%20%20%20%20%20%20%20%20%20%20var%20html_55c3a56e8ad54dab87b112b1cb889a2c%20%3D%20%24%28%60%3Cdiv%20id%3D%22html_55c3a56e8ad54dab87b112b1cb889a2c%22%20style%3D%22width%3A%20100.0%25%3B%20height%3A%20100.0%25%3B%22%3Enoted%20Cocoa%20Beach%20High%20School%20alumnus%20%40kellyslater%20%F0%9F%A4%99%F0%9F%8F%BC%20https%3A//t.co/0M2fFH10oH%3C/div%3E%60%29%5B0%5D%3B%0A%20%20%20%20%20%20%20%20%20%20%20%20popup_9a225968782f4fdca46f9cf4fde0fcfb.setContent%28html_55c3a56e8ad54dab87b112b1cb889a2c%29%3B%0A%20%20%20%20%20%20%20%20%0A%0A%20%20%20%20%20%20%20%20marker_2eea5deeaada4d6c9d8fa89be3b06565.bindPopup%28popup_9a225968782f4fdca46f9cf4fde0fcfb%29%0A%20%20%20%20%20%20%20%20%3B%0A%0A%20%20%20%20%20%20%20%20%0A%20%20%20%20%0A%20%20%20%20%0A%20%20%20%20%20%20%20%20%20%20%20%20var%20marker_5cd58438d13c4bc09b7a69229a8f83f0%20%3D%20L.marker%28%0A%20%20%20%20%20%20%20%20%20%20%20%20%20%20%20%20%5B26.25189495%2C%20-80.1386454%5D%2C%0A%20%20%20%20%20%20%20%20%20%20%20%20%20%20%20%20%7B%7D%0A%20%20%20%20%20%20%20%20%20%20%20%20%29.addTo%28map_005abc31913d42cbaffa676df2e363bc%29%3B%0A%20%20%20%20%20%20%20%20%0A%20%20%20%20%0A%20%20%20%20%20%20%20%20var%20popup_c82ee59e4fc1453d8992a5de8d406a7b%20%3D%20L.popup%28%7B%22maxWidth%22%3A%20%22100%25%22%7D%29%3B%0A%0A%20%20%20%20%20%20%20%20%0A%20%20%20%20%20%20%20%20%20%20%20%20var%20html_1e8601b681a34073ace2c3d8324293eb%20%3D%20%24%28%60%3Cdiv%20id%3D%22html_1e8601b681a34073ace2c3d8324293eb%22%20style%3D%22width%3A%20100.0%25%3B%20height%3A%20100.0%25%3B%22%3EDamn%20bro%20%F0%9F%A4%A3%20on%20the%20second%20message%20tho%20%20Next%20time%2C%20Just%20propose%20a%20nice%20walk%20on%20the%20beach%20next%20time%20to%20weed%20out%20the%20go%E2%80%A6%20https%3A//t.co/l1tLkIj0Ba%3C/div%3E%60%29%5B0%5D%3B%0A%20%20%20%20%20%20%20%20%20%20%20%20popup_c82ee59e4fc1453d8992a5de8d406a7b.setContent%28html_1e8601b681a34073ace2c3d8324293eb%29%3B%0A%20%20%20%20%20%20%20%20%0A%0A%20%20%20%20%20%20%20%20marker_5cd58438d13c4bc09b7a69229a8f83f0.bindPopup%28popup_c82ee59e4fc1453d8992a5de8d406a7b%29%0A%20%20%20%20%20%20%20%20%3B%0A%0A%20%20%20%20%20%20%20%20%0A%20%20%20%20%0A%20%20%20%20%0A%20%20%20%20%20%20%20%20%20%20%20%20var%20marker_96710b36a62a43d88a78b866e1cc9062%20%3D%20L.marker%28%0A%20%20%20%20%20%20%20%20%20%20%20%20%20%20%20%20%5B26.831478150000002%2C%20-80.05881%5D%2C%0A%20%20%20%20%20%20%20%20%20%20%20%20%20%20%20%20%7B%7D%0A%20%20%20%20%20%20%20%20%20%20%20%20%29.addTo%28map_005abc31913d42cbaffa676df2e363bc%29%3B%0A%20%20%20%20%20%20%20%20%0A%20%20%20%20%0A%20%20%20%20%20%20%20%20var%20popup_388ba85b71a946a5bc4947d41e1cf8b6%20%3D%20L.popup%28%7B%22maxWidth%22%3A%20%22100%25%22%7D%29%3B%0A%0A%20%20%20%20%20%20%20%20%0A%20%20%20%20%20%20%20%20%20%20%20%20var%20html_6f2b264d19cc484bbd8ae78afe340c00%20%3D%20%24%28%60%3Cdiv%20id%3D%22html_6f2b264d19cc484bbd8ae78afe340c00%22%20style%3D%22width%3A%20100.0%25%3B%20height%3A%20100.0%25%3B%22%3ESoon%20to%20come..a%20slice%20of%20paradise%20here%20at%20Governors%20Point%20in%20North%20Palm%20Beach.%20Contact%20today%20for%20more%20details%20%F0%9F%8C%8A%20%F0%9F%9B%A5%E2%80%A6%20https%3A//t.co/UQBdfAqyIk%3C/div%3E%60%29%5B0%5D%3B%0A%20%20%20%20%20%20%20%20%20%20%20%20popup_388ba85b71a946a5bc4947d41e1cf8b6.setContent%28html_6f2b264d19cc484bbd8ae78afe340c00%29%3B%0A%20%20%20%20%20%20%20%20%0A%0A%20%20%20%20%20%20%20%20marker_96710b36a62a43d88a78b866e1cc9062.bindPopup%28popup_388ba85b71a946a5bc4947d41e1cf8b6%29%0A%20%20%20%20%20%20%20%20%3B%0A%0A%20%20%20%20%20%20%20%20%0A%20%20%20%20%0A%20%20%20%20%0A%20%20%20%20%20%20%20%20%20%20%20%20var%20marker_4d1a927ec0564b15b78baa8e78f7238a%20%3D%20L.marker%28%0A%20%20%20%20%20%20%20%20%20%20%20%20%20%20%20%20%5B25.838881999999998%2C%20-80.23369805%5D%2C%0A%20%20%20%20%20%20%20%20%20%20%20%20%20%20%20%20%7B%7D%0A%20%20%20%20%20%20%20%20%20%20%20%20%29.addTo%28map_005abc31913d42cbaffa676df2e363bc%29%3B%0A%20%20%20%20%20%20%20%20%0A%20%20%20%20%0A%20%20%20%20%20%20%20%20var%20popup_9a9cbff2949b40959d1cc78bdfe147f8%20%3D%20L.popup%28%7B%22maxWidth%22%3A%20%22100%25%22%7D%29%3B%0A%0A%20%20%20%20%20%20%20%20%0A%20%20%20%20%20%20%20%20%20%20%20%20var%20html_5e9e40db056242d0b2ae6f1b7c984db8%20%3D%20%24%28%60%3Cdiv%20id%3D%22html_5e9e40db056242d0b2ae6f1b7c984db8%22%20style%3D%22width%3A%20100.0%25%3B%20height%3A%20100.0%25%3B%22%3EI%20know%20that%E2%80%99s%20not%20the%20mayor%20of%20Miami%20Beach%20w/a%20smile%20on%20his%20face%20hosting%20large%20crowds%20of%20people%20on%20the%20beachfront.%E2%80%A6%20https%3A//t.co/HrzYKEtUvr%3C/div%3E%60%29%5B0%5D%3B%0A%20%20%20%20%20%20%20%20%20%20%20%20popup_9a9cbff2949b40959d1cc78bdfe147f8.setContent%28html_5e9e40db056242d0b2ae6f1b7c984db8%29%3B%0A%20%20%20%20%20%20%20%20%0A%0A%20%20%20%20%20%20%20%20marker_4d1a927ec0564b15b78baa8e78f7238a.bindPopup%28popup_9a9cbff2949b40959d1cc78bdfe147f8%29%0A%20%20%20%20%20%20%20%20%3B%0A%0A%20%20%20%20%20%20%20%20%0A%20%20%20%20%0A%20%20%20%20%0A%20%20%20%20%20%20%20%20%20%20%20%20var%20marker_e46cd24611d34fae9cf0521c1a8c28d3%20%3D%20L.marker%28%0A%20%20%20%20%20%20%20%20%20%20%20%20%20%20%20%20%5B28.50167835%2C%20-81.36777265%5D%2C%0A%20%20%20%20%20%20%20%20%20%20%20%20%20%20%20%20%7B%7D%0A%20%20%20%20%20%20%20%20%20%20%20%20%29.addTo%28map_005abc31913d42cbaffa676df2e363bc%29%3B%0A%20%20%20%20%20%20%20%20%0A%20%20%20%20%0A%20%20%20%20%20%20%20%20var%20popup_dbfdba12801d4997aa6c9d03ced15ffa%20%3D%20L.popup%28%7B%22maxWidth%22%3A%20%22100%25%22%7D%29%3B%0A%0A%20%20%20%20%20%20%20%20%0A%20%20%20%20%20%20%20%20%20%20%20%20var%20html_f592498210064ac08d765f6f5aac35f1%20%3D%20%24%28%60%3Cdiv%20id%3D%22html_f592498210064ac08d765f6f5aac35f1%22%20style%3D%22width%3A%20100.0%25%3B%20height%3A%20100.0%25%3B%22%3E%40davkoch2%20%40JoeMangas%20%40RepBoebert%20republicans%20wanted%20beach%20front%20property%20but%20guess%20who%27s%20in%20the%20way....I%20stay%20in%20Fl%E2%80%A6%20https%3A//t.co/q1VDyLLBu9%3C/div%3E%60%29%5B0%5D%3B%0A%20%20%20%20%20%20%20%20%20%20%20%20popup_dbfdba12801d4997aa6c9d03ced15ffa.setContent%28html_f592498210064ac08d765f6f5aac35f1%29%3B%0A%20%20%20%20%20%20%20%20%0A%0A%20%20%20%20%20%20%20%20marker_e46cd24611d34fae9cf0521c1a8c28d3.bindPopup%28popup_dbfdba12801d4997aa6c9d03ced15ffa%29%0A%20%20%20%20%20%20%20%20%3B%0A%0A%20%20%20%20%20%20%20%20%0A%20%20%20%20%0A%20%20%20%20%0A%20%20%20%20%20%20%20%20%20%20%20%20var%20marker_8c1b4784a9df470bbc96456ef4e8696c%20%3D%20L.marker%28%0A%20%20%20%20%20%20%20%20%20%20%20%20%20%20%20%20%5B30.279643305300183%2C%20-86.01672385146345%5D%2C%0A%20%20%20%20%20%20%20%20%20%20%20%20%20%20%20%20%7B%7D%0A%20%20%20%20%20%20%20%20%20%20%20%20%29.addTo%28map_005abc31913d42cbaffa676df2e363bc%29%3B%0A%20%20%20%20%20%20%20%20%0A%20%20%20%20%0A%20%20%20%20%20%20%20%20var%20popup_45a977e8c6ff4ff58178e7a1cfbdb7da%20%3D%20L.popup%28%7B%22maxWidth%22%3A%20%22100%25%22%7D%29%3B%0A%0A%20%20%20%20%20%20%20%20%0A%20%20%20%20%20%20%20%20%20%20%20%20var%20html_b5b1c46de44f4943a4412403ae123834%20%3D%20%24%28%60%3Cdiv%20id%3D%22html_b5b1c46de44f4943a4412403ae123834%22%20style%3D%22width%3A%20100.0%25%3B%20height%3A%20100.0%25%3B%22%3EA%20beautiful%20beach%20day%F0%9F%98%8D%20https%3A//t.co/Ph1nzirZG8%3C/div%3E%60%29%5B0%5D%3B%0A%20%20%20%20%20%20%20%20%20%20%20%20popup_45a977e8c6ff4ff58178e7a1cfbdb7da.setContent%28html_b5b1c46de44f4943a4412403ae123834%29%3B%0A%20%20%20%20%20%20%20%20%0A%0A%20%20%20%20%20%20%20%20marker_8c1b4784a9df470bbc96456ef4e8696c.bindPopup%28popup_45a977e8c6ff4ff58178e7a1cfbdb7da%29%0A%20%20%20%20%20%20%20%20%3B%0A%0A%20%20%20%20%20%20%20%20%0A%20%20%20%20%0A%20%20%20%20%0A%20%20%20%20%20%20%20%20%20%20%20%20var%20marker_3c063dab12fd45a5b860ae739ea90179%20%3D%20L.marker%28%0A%20%20%20%20%20%20%20%20%20%20%20%20%20%20%20%20%5B25.81696565%2C%20-80.1329624%5D%2C%0A%20%20%20%20%20%20%20%20%20%20%20%20%20%20%20%20%7B%7D%0A%20%20%20%20%20%20%20%20%20%20%20%20%29.addTo%28map_005abc31913d42cbaffa676df2e363bc%29%3B%0A%20%20%20%20%20%20%20%20%0A%20%20%20%20%0A%20%20%20%20%20%20%20%20var%20popup_c8c2efc3fe2948fa822970f023c66724%20%3D%20L.popup%28%7B%22maxWidth%22%3A%20%22100%25%22%7D%29%3B%0A%0A%20%20%20%20%20%20%20%20%0A%20%20%20%20%20%20%20%20%20%20%20%20var%20html_704860fd601c4972bb3bce6492e3be7d%20%3D%20%24%28%60%3Cdiv%20id%3D%22html_704860fd601c4972bb3bce6492e3be7d%22%20style%3D%22width%3A%20100.0%25%3B%20height%3A%20100.0%25%3B%22%3ELive%20amongst%20the%20clouds%20%E2%9B%85%20%F0%9F%8E%88%20%23birthdaymagic%20%23XXVIII%20%23skyisthelimit%20%40%20South%20Beach%20-%20Miami%20Beach%2C%20Florida%20https%3A//t.co/ucfW6cbfMs%3C/div%3E%60%29%5B0%5D%3B%0A%20%20%20%20%20%20%20%20%20%20%20%20popup_c8c2efc3fe2948fa822970f023c66724.setContent%28html_704860fd601c4972bb3bce6492e3be7d%29%3B%0A%20%20%20%20%20%20%20%20%0A%0A%20%20%20%20%20%20%20%20marker_3c063dab12fd45a5b860ae739ea90179.bindPopup%28popup_c8c2efc3fe2948fa822970f023c66724%29%0A%20%20%20%20%20%20%20%20%3B%0A%0A%20%20%20%20%20%20%20%20%0A%20%20%20%20%0A%20%20%20%20%0A%20%20%20%20%20%20%20%20%20%20%20%20var%20marker_987810af708e4420b49bd63339c8c54e%20%3D%20L.marker%28%0A%20%20%20%20%20%20%20%20%20%20%20%20%20%20%20%20%5B27.72056825%2C%20-82.7428735%5D%2C%0A%20%20%20%20%20%20%20%20%20%20%20%20%20%20%20%20%7B%7D%0A%20%20%20%20%20%20%20%20%20%20%20%20%29.addTo%28map_005abc31913d42cbaffa676df2e363bc%29%3B%0A%20%20%20%20%20%20%20%20%0A%20%20%20%20%0A%20%20%20%20%20%20%20%20var%20popup_2206ddf4a9144c419ecc1da47bebc079%20%3D%20L.popup%28%7B%22maxWidth%22%3A%20%22100%25%22%7D%29%3B%0A%0A%20%20%20%20%20%20%20%20%0A%20%20%20%20%20%20%20%20%20%20%20%20var%20html_a5eaf643bc604065862d3d327020a207%20%3D%20%24%28%60%3Cdiv%20id%3D%22html_a5eaf643bc604065862d3d327020a207%22%20style%3D%22width%3A%20100.0%25%3B%20height%3A%20100.0%25%3B%22%3ECouldn%E2%80%99t%20make%20it%20to%20cyclops%20x%20deadbeats%20show%20tonight%20so%20I%20took%20myself%20to%20the%20beach%2C%20saw%20the%20beautiful%20sunset%20now%20dr%E2%80%A6%20https%3A//t.co/WW2ROcq7QA%3C/div%3E%60%29%5B0%5D%3B%0A%20%20%20%20%20%20%20%20%20%20%20%20popup_2206ddf4a9144c419ecc1da47bebc079.setContent%28html_a5eaf643bc604065862d3d327020a207%29%3B%0A%20%20%20%20%20%20%20%20%0A%0A%20%20%20%20%20%20%20%20marker_987810af708e4420b49bd63339c8c54e.bindPopup%28popup_2206ddf4a9144c419ecc1da47bebc079%29%0A%20%20%20%20%20%20%20%20%3B%0A%0A%20%20%20%20%20%20%20%20%0A%20%20%20%20%0A%20%20%20%20%0A%20%20%20%20%20%20%20%20%20%20%20%20var%20marker_988d0625b78b4715b8e2875496a3977d%20%3D%20L.marker%28%0A%20%20%20%20%20%20%20%20%20%20%20%20%20%20%20%20%5B27.2751235%2C%20-82.5511989%5D%2C%0A%20%20%20%20%20%20%20%20%20%20%20%20%20%20%20%20%7B%7D%0A%20%20%20%20%20%20%20%20%20%20%20%20%29.addTo%28map_005abc31913d42cbaffa676df2e363bc%29%3B%0A%20%20%20%20%20%20%20%20%0A%20%20%20%20%0A%20%20%20%20%20%20%20%20var%20popup_2992707aa02c413baf79141d5b54e914%20%3D%20L.popup%28%7B%22maxWidth%22%3A%20%22100%25%22%7D%29%3B%0A%0A%20%20%20%20%20%20%20%20%0A%20%20%20%20%20%20%20%20%20%20%20%20var%20html_6cb39ad60fce45c4af930d4824b63a95%20%3D%20%24%28%60%3Cdiv%20id%3D%22html_6cb39ad60fce45c4af930d4824b63a95%22%20style%3D%22width%3A%20100.0%25%3B%20height%3A%20100.0%25%3B%22%3EA%20little%20crazy%20busy%20at%20the%20sunset%20tonight.%20But%20glad%20that%20I%20made%20it.%20%40%20Siesta%20Key%20Beach%20https%3A//t.co/4jT25SBunG%3C/div%3E%60%29%5B0%5D%3B%0A%20%20%20%20%20%20%20%20%20%20%20%20popup_2992707aa02c413baf79141d5b54e914.setContent%28html_6cb39ad60fce45c4af930d4824b63a95%29%3B%0A%20%20%20%20%20%20%20%20%0A%0A%20%20%20%20%20%20%20%20marker_988d0625b78b4715b8e2875496a3977d.bindPopup%28popup_2992707aa02c413baf79141d5b54e914%29%0A%20%20%20%20%20%20%20%20%3B%0A%0A%20%20%20%20%20%20%20%20%0A%20%20%20%20%0A%20%20%20%20%0A%20%20%20%20%20%20%20%20%20%20%20%20map_005abc31913d42cbaffa676df2e363bc.fitBounds%28%0A%20%20%20%20%20%20%20%20%20%20%20%20%20%20%20%20%5B%5B25.81696565%2C%20-86.89077950000001%5D%2C%20%5B33.716555%2C%20-78.9056109%5D%5D%2C%0A%20%20%20%20%20%20%20%20%20%20%20%20%20%20%20%20%7B%7D%0A%20%20%20%20%20%20%20%20%20%20%20%20%29%3B%0A%20%20%20%20%20%20%20%20%0A%3C/script%3E onload=\"this.contentDocument.open();this.contentDocument.write(    decodeURIComponent(this.getAttribute('data-html')));this.contentDocument.close();\" allowfullscreen webkitallowfullscreen mozallowfullscreen></iframe></div></div>"
      ],
      "text/plain": [
       "<folium.folium.Map at 0x254c7b22fd0>"
      ]
     },
     "metadata": {},
     "output_type": "display_data"
    }
   ],
   "source": [
    "display(maptweet)"
   ]
  }
 ],
 "metadata": {
  "kernelspec": {
   "display_name": "Python 3 (ipykernel)",
   "language": "python",
   "name": "python3"
  },
  "language_info": {
   "codemirror_mode": {
    "name": "ipython",
    "version": 3
   },
   "file_extension": ".py",
   "mimetype": "text/x-python",
   "name": "python",
   "nbconvert_exporter": "python",
   "pygments_lexer": "ipython3",
   "version": "3.9.10"
  }
 },
 "nbformat": 4,
 "nbformat_minor": 2
}
